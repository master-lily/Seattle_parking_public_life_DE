{
 "cells": [
  {
   "cell_type": "code",
   "execution_count": 1,
   "id": "b8ce3d08",
   "metadata": {},
   "outputs": [],
   "source": [
    "import pandas as pd\n",
    "from pathlib import Path\n",
    "import pyarrow\n",
    "import pyarrow.parquet as pq\n",
    "import matplotlib.pyplot as plt\n",
    "import numpy as np\n",
    "import random\n",
    "import seaborn as sns\n",
    "sns.set()\n",
    "from importlib import reload #to prevent error in graphs \"str' object is not callable\" if it occured,  without restart\n",
    "plt=reload(plt)"
   ]
  },
  {
   "cell_type": "markdown",
   "id": "dbc504b8",
   "metadata": {},
   "source": [
    "### Make the reprezentation of the most important results"
   ]
  },
  {
   "cell_type": "markdown",
   "id": "c4861b03",
   "metadata": {},
   "source": [
    "#### 1. Show the number parking zones anf the limit of time for them in public places"
   ]
  },
  {
   "cell_type": "code",
   "execution_count": 2,
   "id": "90e4059d",
   "metadata": {},
   "outputs": [
    {
     "data": {
      "text/html": [
       "<div>\n",
       "<style scoped>\n",
       "    .dataframe tbody tr th:only-of-type {\n",
       "        vertical-align: middle;\n",
       "    }\n",
       "\n",
       "    .dataframe tbody tr th {\n",
       "        vertical-align: top;\n",
       "    }\n",
       "\n",
       "    .dataframe thead th {\n",
       "        text-align: right;\n",
       "    }\n",
       "</style>\n",
       "<table border=\"1\" class=\"dataframe\">\n",
       "  <thead>\n",
       "    <tr style=\"text-align: right;\">\n",
       "      <th></th>\n",
       "      <th>ParkingTimeLimitCategory</th>\n",
       "      <th>count(ParkingTimeLimitCategory)</th>\n",
       "    </tr>\n",
       "  </thead>\n",
       "  <tbody>\n",
       "    <tr>\n",
       "      <th>0</th>\n",
       "      <td>120.0</td>\n",
       "      <td>25</td>\n",
       "    </tr>\n",
       "    <tr>\n",
       "      <th>1</th>\n",
       "      <td>240.0</td>\n",
       "      <td>2</td>\n",
       "    </tr>\n",
       "    <tr>\n",
       "      <th>2</th>\n",
       "      <td>600.0</td>\n",
       "      <td>2</td>\n",
       "    </tr>\n",
       "  </tbody>\n",
       "</table>\n",
       "</div>"
      ],
      "text/plain": [
       "  ParkingTimeLimitCategory  count(ParkingTimeLimitCategory)\n",
       "0                    120.0                               25\n",
       "1                    240.0                                2\n",
       "2                    600.0                                2"
      ]
     },
     "execution_count": 2,
     "metadata": {},
     "output_type": "execute_result"
    }
   ],
   "source": [
    "TimesLimitsNumbers = pd.read_parquet('spark_results/TimesLimitsNumbers')\n",
    "TimesLimitsNumbers.head()"
   ]
  },
  {
   "cell_type": "code",
   "execution_count": 3,
   "id": "4fc7a3c7",
   "metadata": {},
   "outputs": [
    {
     "data": {
      "text/plain": [
       "Text(0.5, 1.0, 'Number of parking zones in public places by time limit')"
      ]
     },
     "execution_count": 3,
     "metadata": {},
     "output_type": "execute_result"
    },
    {
     "data": {
      "image/png": "[encoded data removed]",
      "text/plain": [
       "<Figure size 648x432 with 1 Axes>"
      ]
     },
     "metadata": {},
     "output_type": "display_data"
    }
   ],
   "source": [
    "#Make a barplot\n",
    "plt.figure(figsize=(9,6)) \n",
    "plt.bar(x=TimesLimitsNumbers['ParkingTimeLimitCategory'], \n",
    "        height=TimesLimitsNumbers['count(ParkingTimeLimitCategory)'], \n",
    "        color='midnightblue') \n",
    "plt.xlabel(\"Time limit for parking, in minutes\")\n",
    "plt.title('Number of parking zones in public places by time limit')\n",
    "#plt.savefig('Car Sales Bar.png.')"
   ]
  },
  {
   "cell_type": "markdown",
   "id": "007f02be",
   "metadata": {},
   "source": [
    "There are 120 public places in Seattle but only 29 has parking zones. Other parking zones are outside them. The results of parking zones in public places we can see in the dir \"publicLocation_parkingZone\". So people need to go to theese places and city authority can think about the transport infrastructure."
   ]
  },
  {
   "cell_type": "code",
   "execution_count": 4,
   "id": "1213f736",
   "metadata": {},
   "outputs": [
    {
     "data": {
      "text/html": [
       "<div>\n",
       "<style scoped>\n",
       "    .dataframe tbody tr th:only-of-type {\n",
       "        vertical-align: middle;\n",
       "    }\n",
       "\n",
       "    .dataframe tbody tr th {\n",
       "        vertical-align: top;\n",
       "    }\n",
       "\n",
       "    .dataframe thead th {\n",
       "        text-align: right;\n",
       "    }\n",
       "</style>\n",
       "<table border=\"1\" class=\"dataframe\">\n",
       "  <thead>\n",
       "    <tr style=\"text-align: right;\">\n",
       "      <th></th>\n",
       "      <th>location_id</th>\n",
       "      <th>location_name_primary</th>\n",
       "      <th>location_name_secondary</th>\n",
       "      <th>BlockfaceName</th>\n",
       "      <th>ParkingTimeLimitCategory</th>\n",
       "    </tr>\n",
       "  </thead>\n",
       "  <tbody>\n",
       "    <tr>\n",
       "      <th>0</th>\n",
       "      <td>SOP1</td>\n",
       "      <td>14TH AVE S</td>\n",
       "      <td>BETWEEN DALLAS AVE S AND S CLOVERDALE ST</td>\n",
       "      <td>None</td>\n",
       "      <td>None</td>\n",
       "    </tr>\n",
       "    <tr>\n",
       "      <th>1</th>\n",
       "      <td>PIK3</td>\n",
       "      <td>BROADWAY</td>\n",
       "      <td>BETWEEN PIKE ST AND PINE ST</td>\n",
       "      <td>BROADWAY BETWEEN E PIKE ST AND E PINE ST</td>\n",
       "      <td>120.0</td>\n",
       "    </tr>\n",
       "    <tr>\n",
       "      <th>2</th>\n",
       "      <td>UPT3</td>\n",
       "      <td>MERCER ST</td>\n",
       "      <td>BETWEEN 5TH AVE N AND TAYLOR AVE N</td>\n",
       "      <td>None</td>\n",
       "      <td>None</td>\n",
       "    </tr>\n",
       "    <tr>\n",
       "      <th>3</th>\n",
       "      <td>WES3</td>\n",
       "      <td>CALIFORNIA AVE SW</td>\n",
       "      <td>BETWEEN SW OREGON ST AND SW ALASKA ST</td>\n",
       "      <td>None</td>\n",
       "      <td>None</td>\n",
       "    </tr>\n",
       "    <tr>\n",
       "      <th>4</th>\n",
       "      <td>WES4</td>\n",
       "      <td>CALIFORNIA AVE SW</td>\n",
       "      <td>BETWEEN SW OREGON ST AND SW ALASKA ST</td>\n",
       "      <td>None</td>\n",
       "      <td>None</td>\n",
       "    </tr>\n",
       "  </tbody>\n",
       "</table>\n",
       "</div>"
      ],
      "text/plain": [
       "  location_id location_name_primary                   location_name_secondary  \\\n",
       "0        SOP1            14TH AVE S  BETWEEN DALLAS AVE S AND S CLOVERDALE ST   \n",
       "1        PIK3              BROADWAY               BETWEEN PIKE ST AND PINE ST   \n",
       "2        UPT3             MERCER ST        BETWEEN 5TH AVE N AND TAYLOR AVE N   \n",
       "3        WES3     CALIFORNIA AVE SW     BETWEEN SW OREGON ST AND SW ALASKA ST   \n",
       "4        WES4     CALIFORNIA AVE SW     BETWEEN SW OREGON ST AND SW ALASKA ST   \n",
       "\n",
       "                              BlockfaceName ParkingTimeLimitCategory  \n",
       "0                                      None                     None  \n",
       "1  BROADWAY BETWEEN E PIKE ST AND E PINE ST                    120.0  \n",
       "2                                      None                     None  \n",
       "3                                      None                     None  \n",
       "4                                      None                     None  "
      ]
     },
     "execution_count": 4,
     "metadata": {},
     "output_type": "execute_result"
    }
   ],
   "source": [
    "publicLocation_parkingZone = pd.read_parquet('spark_results/publicLocation_parkingZone')\n",
    "publicLocation_parkingZone.head()"
   ]
  },
  {
   "cell_type": "code",
   "execution_count": 5,
   "id": "773b1753",
   "metadata": {},
   "outputs": [
    {
     "data": {
      "text/plain": [
       "120"
      ]
     },
     "execution_count": 5,
     "metadata": {},
     "output_type": "execute_result"
    }
   ],
   "source": [
    "publicLocation_parkingZone['location_id'].count()"
   ]
  },
  {
   "cell_type": "markdown",
   "id": "737c2608",
   "metadata": {},
   "source": [
    "#### 2. Look at the occcupancy of parking zones and seats in public places"
   ]
  },
  {
   "cell_type": "code",
   "execution_count": 6,
   "id": "61d83511",
   "metadata": {},
   "outputs": [
    {
     "data": {
      "text/html": [
       "<div>\n",
       "<style scoped>\n",
       "    .dataframe tbody tr th:only-of-type {\n",
       "        vertical-align: middle;\n",
       "    }\n",
       "\n",
       "    .dataframe tbody tr th {\n",
       "        vertical-align: top;\n",
       "    }\n",
       "\n",
       "    .dataframe thead th {\n",
       "        text-align: right;\n",
       "    }\n",
       "</style>\n",
       "<table border=\"1\" class=\"dataframe\">\n",
       "  <thead>\n",
       "    <tr style=\"text-align: right;\">\n",
       "      <th></th>\n",
       "      <th>day_of_week</th>\n",
       "      <th>Seats occupancy</th>\n",
       "    </tr>\n",
       "  </thead>\n",
       "  <tbody>\n",
       "    <tr>\n",
       "      <th>0</th>\n",
       "      <td>Wednesday</td>\n",
       "      <td>21.2</td>\n",
       "    </tr>\n",
       "    <tr>\n",
       "      <th>1</th>\n",
       "      <td>Tuesday</td>\n",
       "      <td>11.0</td>\n",
       "    </tr>\n",
       "    <tr>\n",
       "      <th>2</th>\n",
       "      <td>Friday</td>\n",
       "      <td>13.4</td>\n",
       "    </tr>\n",
       "    <tr>\n",
       "      <th>3</th>\n",
       "      <td>Thursday</td>\n",
       "      <td>18.9</td>\n",
       "    </tr>\n",
       "    <tr>\n",
       "      <th>4</th>\n",
       "      <td>Saturday</td>\n",
       "      <td>14.8</td>\n",
       "    </tr>\n",
       "    <tr>\n",
       "      <th>5</th>\n",
       "      <td>Monday</td>\n",
       "      <td>9.8</td>\n",
       "    </tr>\n",
       "  </tbody>\n",
       "</table>\n",
       "</div>"
      ],
      "text/plain": [
       "  day_of_week  Seats occupancy\n",
       "0   Wednesday             21.2\n",
       "1     Tuesday             11.0\n",
       "2      Friday             13.4\n",
       "3    Thursday             18.9\n",
       "4    Saturday             14.8\n",
       "5      Monday              9.8"
      ]
     },
     "execution_count": 6,
     "metadata": {},
     "output_type": "execute_result"
    }
   ],
   "source": [
    "# Seats occupancy by day of week, %\n",
    "seats_occup_dayweek = pd.read_parquet('spark_results/seats_occup_dayweek')\n",
    "seats_occup_dayweek.head(7)"
   ]
  },
  {
   "cell_type": "code",
   "execution_count": 7,
   "id": "cd28fd72",
   "metadata": {},
   "outputs": [
    {
     "data": {
      "text/html": [
       "<div>\n",
       "<style scoped>\n",
       "    .dataframe tbody tr th:only-of-type {\n",
       "        vertical-align: middle;\n",
       "    }\n",
       "\n",
       "    .dataframe tbody tr th {\n",
       "        vertical-align: top;\n",
       "    }\n",
       "\n",
       "    .dataframe thead th {\n",
       "        text-align: right;\n",
       "    }\n",
       "</style>\n",
       "<table border=\"1\" class=\"dataframe\">\n",
       "  <thead>\n",
       "    <tr style=\"text-align: right;\">\n",
       "      <th></th>\n",
       "      <th>DayWeek</th>\n",
       "      <th>Parking occupancy</th>\n",
       "    </tr>\n",
       "  </thead>\n",
       "  <tbody>\n",
       "    <tr>\n",
       "      <th>0</th>\n",
       "      <td>Wednesday</td>\n",
       "      <td>47.6</td>\n",
       "    </tr>\n",
       "    <tr>\n",
       "      <th>1</th>\n",
       "      <td>Tuesday</td>\n",
       "      <td>54.1</td>\n",
       "    </tr>\n",
       "    <tr>\n",
       "      <th>2</th>\n",
       "      <td>Friday</td>\n",
       "      <td>48.9</td>\n",
       "    </tr>\n",
       "    <tr>\n",
       "      <th>3</th>\n",
       "      <td>Thursday</td>\n",
       "      <td>53.3</td>\n",
       "    </tr>\n",
       "    <tr>\n",
       "      <th>4</th>\n",
       "      <td>Saturday</td>\n",
       "      <td>48.9</td>\n",
       "    </tr>\n",
       "    <tr>\n",
       "      <th>5</th>\n",
       "      <td>Monday</td>\n",
       "      <td>43.0</td>\n",
       "    </tr>\n",
       "  </tbody>\n",
       "</table>\n",
       "</div>"
      ],
      "text/plain": [
       "     DayWeek  Parking occupancy\n",
       "0  Wednesday               47.6\n",
       "1    Tuesday               54.1\n",
       "2     Friday               48.9\n",
       "3   Thursday               53.3\n",
       "4   Saturday               48.9\n",
       "5     Monday               43.0"
      ]
     },
     "execution_count": 7,
     "metadata": {},
     "output_type": "execute_result"
    }
   ],
   "source": [
    "# parking zones occupancy by day of week, %\n",
    "parking_occup_dayweek = pd.read_parquet('spark_results/parking_occup_dayweek')\n",
    "parking_occup_dayweek.head(7)"
   ]
  },
  {
   "cell_type": "code",
   "execution_count": 8,
   "id": "85b101a4",
   "metadata": {},
   "outputs": [
    {
     "data": {
      "image/png": "[encoded data removed]",
      "text/plain": [
       "<Figure size 432x288 with 1 Axes>"
      ]
     },
     "metadata": {},
     "output_type": "display_data"
    }
   ],
   "source": [
    "#build a multiple bar to compare occupancy of parking and seats in public places\n",
    "\n",
    "\n",
    "# data to plot\n",
    "n_groups = 6 #because we have six days in our datasets\n",
    "\n",
    "#for first bars take seats_occup_dayweek['Seats occupancy']\n",
    "#for second bars take parking_occup_dayweek['Parking occupancy']\n",
    "\n",
    "\n",
    "# create plot\n",
    "fig, ax = plt.subplots()\n",
    "index = np.arange(n_groups)\n",
    "bar_width = 0.35\n",
    "opacity = 0.8\n",
    "\n",
    "rects1 = plt.bar(index, seats_occup_dayweek['Seats occupancy'], bar_width,\n",
    "label='Seats occupancy')\n",
    "\n",
    "rects2 = plt.bar(index + bar_width, parking_occup_dayweek['Parking occupancy'], bar_width,\n",
    "label='Parking occupancy')\n",
    "\n",
    "plt.xlabel('Day of week')\n",
    "plt.ylabel('Occupancy')\n",
    "plt.title('Parking and seats occupancy in public places')\n",
    "plt.xticks(index + bar_width, seats_occup_dayweek['day_of_week'])\n",
    "          \n",
    "plt.legend()\n",
    "\n",
    "plt.tight_layout()\n",
    "plt.show()"
   ]
  },
  {
   "cell_type": "markdown",
   "id": "4bbf5f93",
   "metadata": {},
   "source": [
    "The plot shows that parking occupancy is higher than seats occupancy. It tells us that people go to public places both for work and rest. Monday is the least occupied day in both category while in even day of the week the occupancy of parking places more than 50% but the highest seats occupancy is on Wednesday and Thursday."
   ]
  },
  {
   "cell_type": "markdown",
   "id": "475301ca",
   "metadata": {},
   "source": [
    "#### 3. Represent how many people stay in public places by age"
   ]
  },
  {
   "cell_type": "code",
   "execution_count": 9,
   "id": "8573c599",
   "metadata": {},
   "outputs": [],
   "source": [
    "public_staying_age = pd.read_parquet('spark_results/public_staying_age')"
   ]
  },
  {
   "cell_type": "code",
   "execution_count": 10,
   "id": "83f3b4ae",
   "metadata": {},
   "outputs": [
    {
     "data": {
      "text/html": [
       "<div>\n",
       "<style scoped>\n",
       "    .dataframe tbody tr th:only-of-type {\n",
       "        vertical-align: middle;\n",
       "    }\n",
       "\n",
       "    .dataframe tbody tr th {\n",
       "        vertical-align: top;\n",
       "    }\n",
       "\n",
       "    .dataframe thead th {\n",
       "        text-align: right;\n",
       "    }\n",
       "</style>\n",
       "<table border=\"1\" class=\"dataframe\">\n",
       "  <thead>\n",
       "    <tr style=\"text-align: right;\">\n",
       "      <th></th>\n",
       "      <th>staying_age</th>\n",
       "      <th>count</th>\n",
       "    </tr>\n",
       "  </thead>\n",
       "  <tbody>\n",
       "    <tr>\n",
       "      <th>0</th>\n",
       "      <td>25-44</td>\n",
       "      <td>5657</td>\n",
       "    </tr>\n",
       "    <tr>\n",
       "      <th>1</th>\n",
       "      <td>15-24</td>\n",
       "      <td>1004</td>\n",
       "    </tr>\n",
       "    <tr>\n",
       "      <th>2</th>\n",
       "      <td>5-14</td>\n",
       "      <td>176</td>\n",
       "    </tr>\n",
       "    <tr>\n",
       "      <th>3</th>\n",
       "      <td>65+</td>\n",
       "      <td>605</td>\n",
       "    </tr>\n",
       "    <tr>\n",
       "      <th>4</th>\n",
       "      <td>45-64</td>\n",
       "      <td>2859</td>\n",
       "    </tr>\n",
       "  </tbody>\n",
       "</table>\n",
       "</div>"
      ],
      "text/plain": [
       "  staying_age  count\n",
       "0       25-44   5657\n",
       "1       15-24   1004\n",
       "2        5-14    176\n",
       "3         65+    605\n",
       "4       45-64   2859"
      ]
     },
     "execution_count": 10,
     "metadata": {},
     "output_type": "execute_result"
    }
   ],
   "source": [
    "public_staying_age.head()"
   ]
  },
  {
   "cell_type": "code",
   "execution_count": 11,
   "id": "7ebe3843",
   "metadata": {
    "scrolled": true
   },
   "outputs": [
    {
     "data": {
      "text/plain": [
       "Text(0.5, 1.0, 'Number of people staying in public places by age')"
      ]
     },
     "execution_count": 11,
     "metadata": {},
     "output_type": "execute_result"
    },
    {
     "data": {
      "image/png": "[encoded data removed]",
      "text/plain": [
       "<Figure size 648x324 with 1 Axes>"
      ]
     },
     "metadata": {},
     "output_type": "display_data"
    }
   ],
   "source": [
    "#Make a barplot\n",
    "plt.figure(figsize=(9,4.5)) \n",
    "plt.bar(x=public_staying_age['staying_age'], \n",
    "        height=public_staying_age['count'], \n",
    "        color='midnightblue') \n",
    "plt.xlabel(\"Years\")\n",
    "plt.title('Number of people staying in public places by age')\n",
    "#plt.savefig('Car Sales Bar.png.')"
   ]
  },
  {
   "cell_type": "markdown",
   "id": "0a5ea013",
   "metadata": {},
   "source": [
    "The most number of people are adults in age of 25-44 year, the second place is age 45-64 that is a half of the biggest group.\\\n",
    "The number of people in age 15-24  is twice bigger than in age 65+. The number of children is the less. \\\n",
    "We see that data has errors because there is a group 25-64.So it includes people from other two groups of adults."
   ]
  },
  {
   "cell_type": "markdown",
   "id": "bbdae088",
   "metadata": {},
   "source": [
    "#### 4. Represent how many people there are in public places  during the day."
   ]
  },
  {
   "cell_type": "code",
   "execution_count": 12,
   "id": "81e569ae",
   "metadata": {},
   "outputs": [
    {
     "data": {
      "text/html": [
       "<div>\n",
       "<style scoped>\n",
       "    .dataframe tbody tr th:only-of-type {\n",
       "        vertical-align: middle;\n",
       "    }\n",
       "\n",
       "    .dataframe tbody tr th {\n",
       "        vertical-align: top;\n",
       "    }\n",
       "\n",
       "    .dataframe thead th {\n",
       "        text-align: right;\n",
       "    }\n",
       "</style>\n",
       "<table border=\"1\" class=\"dataframe\">\n",
       "  <thead>\n",
       "    <tr style=\"text-align: right;\">\n",
       "      <th></th>\n",
       "      <th>staying_time_of_day</th>\n",
       "      <th>count(staying_gender)</th>\n",
       "    </tr>\n",
       "  </thead>\n",
       "  <tbody>\n",
       "    <tr>\n",
       "      <th>0</th>\n",
       "      <td>Evening</td>\n",
       "      <td>4534</td>\n",
       "    </tr>\n",
       "    <tr>\n",
       "      <th>1</th>\n",
       "      <td>Morning</td>\n",
       "      <td>2008</td>\n",
       "    </tr>\n",
       "    <tr>\n",
       "      <th>2</th>\n",
       "      <td>Early Evening</td>\n",
       "      <td>86</td>\n",
       "    </tr>\n",
       "    <tr>\n",
       "      <th>3</th>\n",
       "      <td>Midday</td>\n",
       "      <td>4192</td>\n",
       "    </tr>\n",
       "  </tbody>\n",
       "</table>\n",
       "</div>"
      ],
      "text/plain": [
       "  staying_time_of_day  count(staying_gender)\n",
       "0             Evening                   4534\n",
       "1             Morning                   2008\n",
       "2       Early Evening                     86\n",
       "3              Midday                   4192"
      ]
     },
     "execution_count": 12,
     "metadata": {},
     "output_type": "execute_result"
    }
   ],
   "source": [
    "TimesGender= pd.read_parquet('spark_results/TimesGender')\n",
    "TimesGender.head()"
   ]
  },
  {
   "cell_type": "code",
   "execution_count": 13,
   "id": "028204f8",
   "metadata": {},
   "outputs": [
    {
     "data": {
      "image/png": "[encoded data removed]",
      "text/plain": [
       "<Figure size 432x288 with 1 Axes>"
      ]
     },
     "metadata": {},
     "output_type": "display_data"
    }
   ],
   "source": [
    "data = TimesGender['count(staying_gender)']\n",
    "labels = TimesGender['staying_time_of_day']\n",
    "#define Seaborn color palette to use\n",
    "colors = sns.color_palette('pastel')[0:4]\n",
    "\n",
    "#create pie chart\n",
    "plt.pie(data, labels = labels, colors = colors, autopct='%.0f%%')\n",
    "\n",
    "plt.show()"
   ]
  },
  {
   "cell_type": "markdown",
   "id": "88f1924b",
   "metadata": {},
   "source": [
    "The most preferable time of day in public places for people is Midday and Evening, the less preferable is Early Evening"
   ]
  }
 ],
 "metadata": {
  "kernelspec": {
   "display_name": "Python 3",
   "language": "python",
   "name": "python3"
  },
  "language_info": {
   "codemirror_mode": {
    "name": "ipython",
    "version": 3
   },
   "file_extension": ".py",
   "mimetype": "text/x-python",
   "name": "python",
   "nbconvert_exporter": "python",
   "pygments_lexer": "ipython3",
   "version": "3.8.8"
  }
 },
 "nbformat": 4,
 "nbformat_minor": 5
}
