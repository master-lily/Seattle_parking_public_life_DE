{
 "cells": [
  {
   "cell_type": "markdown",
   "id": "b363a322",
   "metadata": {},
   "source": [
    "The project idea is to find parking areas near public life places or parks for choosing the place for the rest with suitable conditions.\n",
    "Bussines description: \n",
    "1. Visualize parking areas near public places and parks.\n",
    "2. Compare the occupancy in parking areas and seats in public places by area and time.\n",
    "3. Compare the parking time limit for paid parking area in public places. \n",
    "4. Visualize the number of paid parking areas by time limit near public places and parks.\n",
    "5. Find which days of the week, months (if I will have resources) are the busiest.\n",
    "6. Describe in which time (morning, midday or afternoon) there are more men, women or children by age.\n"
   ]
  },
  {
   "cell_type": "code",
   "execution_count": 1,
   "id": "f956735a",
   "metadata": {},
   "outputs": [],
   "source": [
    "import pandas as pd\n",
    "from datetime import datetime as dt\n",
    "import numpy as np"
   ]
  },
  {
   "cell_type": "markdown",
   "id": "8e75e4aa",
   "metadata": {},
   "source": [
    "#### Read data about parking"
   ]
  },
  {
   "cell_type": "code",
   "execution_count": 2,
   "id": "149dc659",
   "metadata": {},
   "outputs": [
    {
     "data": {
      "text/html": [
       "<div>\n",
       "<style scoped>\n",
       "    .dataframe tbody tr th:only-of-type {\n",
       "        vertical-align: middle;\n",
       "    }\n",
       "\n",
       "    .dataframe tbody tr th {\n",
       "        vertical-align: top;\n",
       "    }\n",
       "\n",
       "    .dataframe thead th {\n",
       "        text-align: right;\n",
       "    }\n",
       "</style>\n",
       "<table border=\"1\" class=\"dataframe\">\n",
       "  <thead>\n",
       "    <tr style=\"text-align: right;\">\n",
       "      <th></th>\n",
       "      <th>OccupancyDateTime</th>\n",
       "      <th>PaidOccupancy</th>\n",
       "      <th>BlockfaceName</th>\n",
       "      <th>SideOfStreet</th>\n",
       "      <th>SourceElementKey</th>\n",
       "      <th>ParkingTimeLimitCategory</th>\n",
       "      <th>ParkingSpaceCount</th>\n",
       "      <th>PaidParkingArea</th>\n",
       "      <th>PaidParkingSubArea</th>\n",
       "      <th>PaidParkingRate</th>\n",
       "      <th>ParkingCategory</th>\n",
       "      <th>Location</th>\n",
       "    </tr>\n",
       "  </thead>\n",
       "  <tbody>\n",
       "    <tr>\n",
       "      <th>0</th>\n",
       "      <td>08/27/2022 01:49:00 PM</td>\n",
       "      <td>6</td>\n",
       "      <td>UNIVERSITY WAY NE BETWEEN NE 41ST ST AND NE 42...</td>\n",
       "      <td>E</td>\n",
       "      <td>58514</td>\n",
       "      <td>120.0</td>\n",
       "      <td>7</td>\n",
       "      <td>University District</td>\n",
       "      <td>Core</td>\n",
       "      <td>NaN</td>\n",
       "      <td>Paid Parking</td>\n",
       "      <td>POINT (-122.31314236 47.65753657)</td>\n",
       "    </tr>\n",
       "    <tr>\n",
       "      <th>1</th>\n",
       "      <td>08/27/2022 02:42:00 PM</td>\n",
       "      <td>3</td>\n",
       "      <td>BELL ST BETWEEN ELLIOTT AVE AND WESTERN AVE</td>\n",
       "      <td>SE</td>\n",
       "      <td>32018</td>\n",
       "      <td>120.0</td>\n",
       "      <td>6</td>\n",
       "      <td>Belltown</td>\n",
       "      <td>South</td>\n",
       "      <td>NaN</td>\n",
       "      <td>Paid Parking</td>\n",
       "      <td>POINT (-122.34769758 47.6123506)</td>\n",
       "    </tr>\n",
       "  </tbody>\n",
       "</table>\n",
       "</div>"
      ],
      "text/plain": [
       "        OccupancyDateTime  PaidOccupancy  \\\n",
       "0  08/27/2022 01:49:00 PM              6   \n",
       "1  08/27/2022 02:42:00 PM              3   \n",
       "\n",
       "                                       BlockfaceName SideOfStreet  \\\n",
       "0  UNIVERSITY WAY NE BETWEEN NE 41ST ST AND NE 42...            E   \n",
       "1        BELL ST BETWEEN ELLIOTT AVE AND WESTERN AVE           SE   \n",
       "\n",
       "   SourceElementKey  ParkingTimeLimitCategory  ParkingSpaceCount  \\\n",
       "0             58514                     120.0                  7   \n",
       "1             32018                     120.0                  6   \n",
       "\n",
       "       PaidParkingArea PaidParkingSubArea  PaidParkingRate ParkingCategory  \\\n",
       "0  University District               Core              NaN    Paid Parking   \n",
       "1             Belltown              South              NaN    Paid Parking   \n",
       "\n",
       "                            Location  \n",
       "0  POINT (-122.31314236 47.65753657)  \n",
       "1   POINT (-122.34769758 47.6123506)  "
      ]
     },
     "execution_count": 2,
     "metadata": {},
     "output_type": "execute_result"
    }
   ],
   "source": [
    "\n",
    "parking_48 = pd.read_csv(r\"data\\Paid_Parking__Last_48_Hours_.csv\")\n",
    "parking_48.head(2)"
   ]
  },
  {
   "cell_type": "code",
   "execution_count": 3,
   "id": "60bc0235",
   "metadata": {},
   "outputs": [
    {
     "data": {
      "text/html": [
       "<div>\n",
       "<style scoped>\n",
       "    .dataframe tbody tr th:only-of-type {\n",
       "        vertical-align: middle;\n",
       "    }\n",
       "\n",
       "    .dataframe tbody tr th {\n",
       "        vertical-align: top;\n",
       "    }\n",
       "\n",
       "    .dataframe thead th {\n",
       "        text-align: right;\n",
       "    }\n",
       "</style>\n",
       "<table border=\"1\" class=\"dataframe\">\n",
       "  <thead>\n",
       "    <tr style=\"text-align: right;\">\n",
       "      <th></th>\n",
       "      <th>OccupancyDateTime</th>\n",
       "      <th>PaidOccupancy</th>\n",
       "      <th>BlockfaceName</th>\n",
       "      <th>SideOfStreet</th>\n",
       "      <th>SourceElementKey</th>\n",
       "      <th>ParkingTimeLimitCategory</th>\n",
       "      <th>ParkingSpaceCount</th>\n",
       "      <th>PaidParkingArea</th>\n",
       "      <th>PaidParkingSubArea</th>\n",
       "      <th>PaidParkingRate</th>\n",
       "      <th>ParkingCategory</th>\n",
       "      <th>Location</th>\n",
       "    </tr>\n",
       "  </thead>\n",
       "  <tbody>\n",
       "    <tr>\n",
       "      <th>0</th>\n",
       "      <td>07/20/2022 06:23:00 PM</td>\n",
       "      <td>1.0</td>\n",
       "      <td>4TH AVE BETWEEN MADISON ST AND SPRING ST</td>\n",
       "      <td>SW</td>\n",
       "      <td>51473.0</td>\n",
       "      <td>120.0</td>\n",
       "      <td>6.0</td>\n",
       "      <td>Commercial Core</td>\n",
       "      <td>Financial</td>\n",
       "      <td>NaN</td>\n",
       "      <td>Paid Parking</td>\n",
       "      <td>POINT (-122.33336524 47.60639351)</td>\n",
       "    </tr>\n",
       "    <tr>\n",
       "      <th>1</th>\n",
       "      <td>07/20/2022 07:42:00 PM</td>\n",
       "      <td>4.0</td>\n",
       "      <td>WESTERN AVE BETWEEN CEDAR ST AND CLAY ST</td>\n",
       "      <td>SW</td>\n",
       "      <td>36121.0</td>\n",
       "      <td>240.0</td>\n",
       "      <td>6.0</td>\n",
       "      <td>Belltown</td>\n",
       "      <td>North</td>\n",
       "      <td>NaN</td>\n",
       "      <td>Paid Parking</td>\n",
       "      <td>POINT (-122.35199635 47.61536129)</td>\n",
       "    </tr>\n",
       "  </tbody>\n",
       "</table>\n",
       "</div>"
      ],
      "text/plain": [
       "        OccupancyDateTime  PaidOccupancy  \\\n",
       "0  07/20/2022 06:23:00 PM            1.0   \n",
       "1  07/20/2022 07:42:00 PM            4.0   \n",
       "\n",
       "                              BlockfaceName SideOfStreet  SourceElementKey  \\\n",
       "0  4TH AVE BETWEEN MADISON ST AND SPRING ST           SW           51473.0   \n",
       "1  WESTERN AVE BETWEEN CEDAR ST AND CLAY ST           SW           36121.0   \n",
       "\n",
       "   ParkingTimeLimitCategory  ParkingSpaceCount  PaidParkingArea  \\\n",
       "0                     120.0                6.0  Commercial Core   \n",
       "1                     240.0                6.0         Belltown   \n",
       "\n",
       "  PaidParkingSubArea  PaidParkingRate ParkingCategory  \\\n",
       "0          Financial              NaN    Paid Parking   \n",
       "1              North              NaN    Paid Parking   \n",
       "\n",
       "                            Location  \n",
       "0  POINT (-122.33336524 47.60639351)  \n",
       "1  POINT (-122.35199635 47.61536129)  "
      ]
     },
     "execution_count": 3,
     "metadata": {},
     "output_type": "execute_result"
    }
   ],
   "source": [
    "parking_30days = pd.read_csv(r\"data\\Paid_Parking_Occupancy__Last_30_Days_.csv\")\n",
    "parking_30days.head(2)"
   ]
  },
  {
   "cell_type": "markdown",
   "id": "02686125",
   "metadata": {},
   "source": [
    "#### Read data about public life"
   ]
  },
  {
   "cell_type": "code",
   "execution_count": 4,
   "id": "d5ada0f7",
   "metadata": {},
   "outputs": [
    {
     "data": {
      "text/html": [
       "<div>\n",
       "<style scoped>\n",
       "    .dataframe tbody tr th:only-of-type {\n",
       "        vertical-align: middle;\n",
       "    }\n",
       "\n",
       "    .dataframe tbody tr th {\n",
       "        vertical-align: top;\n",
       "    }\n",
       "\n",
       "    .dataframe thead th {\n",
       "        text-align: right;\n",
       "    }\n",
       "</style>\n",
       "<table border=\"1\" class=\"dataframe\">\n",
       "  <thead>\n",
       "    <tr style=\"text-align: right;\">\n",
       "      <th></th>\n",
       "      <th>location_id</th>\n",
       "      <th>location_name_primary</th>\n",
       "      <th>location_name_secondary</th>\n",
       "      <th>location_detail</th>\n",
       "      <th>location_blockface_elmntkey</th>\n",
       "      <th>location_sidewalk_compkey</th>\n",
       "      <th>location_transit_stop_present</th>\n",
       "      <th>location_neighborhood_type</th>\n",
       "      <th>location_neighborhood</th>\n",
       "      <th>location_character</th>\n",
       "      <th>location_line_typology_vehicular</th>\n",
       "      <th>location_area_typology</th>\n",
       "      <th>location_area_typology_subcategory</th>\n",
       "      <th>location_total_sqft</th>\n",
       "      <th>location_average_number_commercial_seats</th>\n",
       "      <th>location_average_number_public_seats</th>\n",
       "      <th>location_country</th>\n",
       "      <th>location_region</th>\n",
       "      <th>location_city</th>\n",
       "      <th>location_notes</th>\n",
       "    </tr>\n",
       "  </thead>\n",
       "  <tbody>\n",
       "    <tr>\n",
       "      <th>0</th>\n",
       "      <td>ALK1</td>\n",
       "      <td>ALKI AVE SW</td>\n",
       "      <td>BETWEEN MARINE AVE SW AND 59TH AVE SW</td>\n",
       "      <td>SE</td>\n",
       "      <td>76698.0</td>\n",
       "      <td>318968</td>\n",
       "      <td>Bus</td>\n",
       "      <td>Outside</td>\n",
       "      <td>Alki</td>\n",
       "      <td>Commercial</td>\n",
       "      <td>Neighborhood Corridor</td>\n",
       "      <td>Street</td>\n",
       "      <td>Block face</td>\n",
       "      <td>2480.0</td>\n",
       "      <td>0.0</td>\n",
       "      <td>6.0</td>\n",
       "      <td>United States of America</td>\n",
       "      <td>Washington</td>\n",
       "      <td>Seattle</td>\n",
       "      <td>NaN</td>\n",
       "    </tr>\n",
       "    <tr>\n",
       "      <th>1</th>\n",
       "      <td>ALK2</td>\n",
       "      <td>ALKI AVE SW</td>\n",
       "      <td>BETWEEN 57TH AVE SW AND 58TH AVE SW</td>\n",
       "      <td>SE</td>\n",
       "      <td>8914.0</td>\n",
       "      <td>318972</td>\n",
       "      <td>None</td>\n",
       "      <td>Outside</td>\n",
       "      <td>Alki</td>\n",
       "      <td>Commercial</td>\n",
       "      <td>Neighborhood Corridor</td>\n",
       "      <td>Street</td>\n",
       "      <td>Block face</td>\n",
       "      <td>1428.0</td>\n",
       "      <td>23.0</td>\n",
       "      <td>0.0</td>\n",
       "      <td>United States of America</td>\n",
       "      <td>Washington</td>\n",
       "      <td>Seattle</td>\n",
       "      <td>NaN</td>\n",
       "    </tr>\n",
       "  </tbody>\n",
       "</table>\n",
       "</div>"
      ],
      "text/plain": [
       "  location_id location_name_primary                location_name_secondary  \\\n",
       "0        ALK1           ALKI AVE SW  BETWEEN MARINE AVE SW AND 59TH AVE SW   \n",
       "1        ALK2           ALKI AVE SW    BETWEEN 57TH AVE SW AND 58TH AVE SW   \n",
       "\n",
       "  location_detail  location_blockface_elmntkey location_sidewalk_compkey  \\\n",
       "0              SE                      76698.0                    318968   \n",
       "1              SE                       8914.0                    318972   \n",
       "\n",
       "  location_transit_stop_present location_neighborhood_type  \\\n",
       "0                           Bus                    Outside   \n",
       "1                          None                    Outside   \n",
       "\n",
       "  location_neighborhood location_character location_line_typology_vehicular  \\\n",
       "0                  Alki         Commercial            Neighborhood Corridor   \n",
       "1                  Alki         Commercial            Neighborhood Corridor   \n",
       "\n",
       "  location_area_typology location_area_typology_subcategory  \\\n",
       "0                 Street                         Block face   \n",
       "1                 Street                         Block face   \n",
       "\n",
       "   location_total_sqft  location_average_number_commercial_seats  \\\n",
       "0               2480.0                                       0.0   \n",
       "1               1428.0                                      23.0   \n",
       "\n",
       "   location_average_number_public_seats          location_country  \\\n",
       "0                                   6.0  United States of America   \n",
       "1                                   0.0  United States of America   \n",
       "\n",
       "  location_region location_city location_notes  \n",
       "0      Washington       Seattle            NaN  \n",
       "1      Washington       Seattle            NaN  "
      ]
     },
     "execution_count": 4,
     "metadata": {},
     "output_type": "execute_result"
    }
   ],
   "source": [
    "public_location = pd.read_csv(r\"data\\Public_Life_Data_-_Locations.csv\")\n",
    "public_location.head(2)"
   ]
  },
  {
   "cell_type": "code",
   "execution_count": 5,
   "id": "ee9e18f8",
   "metadata": {},
   "outputs": [
    {
     "data": {
      "text/html": [
       "<div>\n",
       "<style scoped>\n",
       "    .dataframe tbody tr th:only-of-type {\n",
       "        vertical-align: middle;\n",
       "    }\n",
       "\n",
       "    .dataframe tbody tr th {\n",
       "        vertical-align: top;\n",
       "    }\n",
       "\n",
       "    .dataframe thead th {\n",
       "        text-align: right;\n",
       "    }\n",
       "</style>\n",
       "<table border=\"1\" class=\"dataframe\">\n",
       "  <thead>\n",
       "    <tr style=\"text-align: right;\">\n",
       "      <th></th>\n",
       "      <th>unique_staying_id</th>\n",
       "      <th>study_id</th>\n",
       "      <th>location_id</th>\n",
       "      <th>staying_time_start</th>\n",
       "      <th>staying_time_end</th>\n",
       "      <th>staying_day_of_week</th>\n",
       "      <th>staying_time_of_day</th>\n",
       "      <th>staying_count_surveyor</th>\n",
       "      <th>staying_conditions</th>\n",
       "      <th>staying_microclimate</th>\n",
       "      <th>...</th>\n",
       "      <th>working_civic</th>\n",
       "      <th>disruptive</th>\n",
       "      <th>disruptive_aggressive</th>\n",
       "      <th>disruptive_intoxicated</th>\n",
       "      <th>living_public</th>\n",
       "      <th>using_electronics</th>\n",
       "      <th>soliciting</th>\n",
       "      <th>staying_covid_mask</th>\n",
       "      <th>staying_covid_social_distance</th>\n",
       "      <th>staying_notes</th>\n",
       "    </tr>\n",
       "  </thead>\n",
       "  <tbody>\n",
       "    <tr>\n",
       "      <th>0</th>\n",
       "      <td>632</td>\n",
       "      <td>2018_Seattle_Citywide</td>\n",
       "      <td>RAV4</td>\n",
       "      <td>09/14/2018 05:09:00 PM</td>\n",
       "      <td>09/14/2018 05:29:00 PM</td>\n",
       "      <td>Weekday</td>\n",
       "      <td>Evening</td>\n",
       "      <td>UD4H</td>\n",
       "      <td>NaN</td>\n",
       "      <td>Heavy Clouds</td>\n",
       "      <td>...</td>\n",
       "      <td>NaN</td>\n",
       "      <td>NaN</td>\n",
       "      <td>NaN</td>\n",
       "      <td>NaN</td>\n",
       "      <td>NaN</td>\n",
       "      <td>NaN</td>\n",
       "      <td>NaN</td>\n",
       "      <td>NaN</td>\n",
       "      <td>NaN</td>\n",
       "      <td>NaN</td>\n",
       "    </tr>\n",
       "    <tr>\n",
       "      <th>1</th>\n",
       "      <td>920</td>\n",
       "      <td>2018_Seattle_Citywide</td>\n",
       "      <td>RAI2</td>\n",
       "      <td>08/11/2018 05:23:00 PM</td>\n",
       "      <td>08/11/2018 05:43:00 PM</td>\n",
       "      <td>Weekend</td>\n",
       "      <td>Evening</td>\n",
       "      <td>UD4H</td>\n",
       "      <td>NaN</td>\n",
       "      <td>Light Rain</td>\n",
       "      <td>...</td>\n",
       "      <td>NaN</td>\n",
       "      <td>NaN</td>\n",
       "      <td>NaN</td>\n",
       "      <td>NaN</td>\n",
       "      <td>NaN</td>\n",
       "      <td>NaN</td>\n",
       "      <td>NaN</td>\n",
       "      <td>NaN</td>\n",
       "      <td>NaN</td>\n",
       "      <td>NaN</td>\n",
       "    </tr>\n",
       "  </tbody>\n",
       "</table>\n",
       "<p>2 rows × 50 columns</p>\n",
       "</div>"
      ],
      "text/plain": [
       "   unique_staying_id               study_id location_id  \\\n",
       "0                632  2018_Seattle_Citywide        RAV4   \n",
       "1                920  2018_Seattle_Citywide        RAI2   \n",
       "\n",
       "       staying_time_start        staying_time_end staying_day_of_week  \\\n",
       "0  09/14/2018 05:09:00 PM  09/14/2018 05:29:00 PM             Weekday   \n",
       "1  08/11/2018 05:23:00 PM  08/11/2018 05:43:00 PM             Weekend   \n",
       "\n",
       "  staying_time_of_day staying_count_surveyor staying_conditions  \\\n",
       "0             Evening                   UD4H                NaN   \n",
       "1             Evening                   UD4H                NaN   \n",
       "\n",
       "  staying_microclimate  ...  working_civic  disruptive disruptive_aggressive  \\\n",
       "0         Heavy Clouds  ...            NaN         NaN                   NaN   \n",
       "1           Light Rain  ...            NaN         NaN                   NaN   \n",
       "\n",
       "  disruptive_intoxicated living_public using_electronics  soliciting  \\\n",
       "0                    NaN           NaN               NaN         NaN   \n",
       "1                    NaN           NaN               NaN         NaN   \n",
       "\n",
       "   staying_covid_mask  staying_covid_social_distance  staying_notes  \n",
       "0                 NaN                            NaN            NaN  \n",
       "1                 NaN                            NaN            NaN  \n",
       "\n",
       "[2 rows x 50 columns]"
      ]
     },
     "execution_count": 5,
     "metadata": {},
     "output_type": "execute_result"
    }
   ],
   "source": [
    "public_staying = pd.read_csv(r\"data\\Public_Life_Data_-_People_Staying.csv\")\n",
    "public_staying.head(2)"
   ]
  },
  {
   "cell_type": "markdown",
   "id": "537fa141",
   "metadata": {},
   "source": [
    "Read data about parks"
   ]
  },
  {
   "cell_type": "code",
   "execution_count": 6,
   "id": "d9e4e67c",
   "metadata": {},
   "outputs": [
    {
     "data": {
      "text/html": [
       "<div>\n",
       "<style scoped>\n",
       "    .dataframe tbody tr th:only-of-type {\n",
       "        vertical-align: middle;\n",
       "    }\n",
       "\n",
       "    .dataframe tbody tr th {\n",
       "        vertical-align: top;\n",
       "    }\n",
       "\n",
       "    .dataframe thead th {\n",
       "        text-align: right;\n",
       "    }\n",
       "</style>\n",
       "<table border=\"1\" class=\"dataframe\">\n",
       "  <thead>\n",
       "    <tr style=\"text-align: right;\">\n",
       "      <th></th>\n",
       "      <th>PMAID</th>\n",
       "      <th>LocID</th>\n",
       "      <th>Name</th>\n",
       "      <th>Address</th>\n",
       "      <th>ZIP Code</th>\n",
       "      <th>X Coord</th>\n",
       "      <th>Y Coord</th>\n",
       "      <th>Location 1</th>\n",
       "    </tr>\n",
       "  </thead>\n",
       "  <tbody>\n",
       "    <tr>\n",
       "      <th>0</th>\n",
       "      <td>281</td>\n",
       "      <td>2545</td>\n",
       "      <td>12th and Howe Play Park</td>\n",
       "      <td>1200 W Howe St</td>\n",
       "      <td>98119</td>\n",
       "      <td>-122.372985</td>\n",
       "      <td>47.636097</td>\n",
       "      <td>(47.636097, -122.372985)</td>\n",
       "    </tr>\n",
       "    <tr>\n",
       "      <th>1</th>\n",
       "      <td>4159</td>\n",
       "      <td>2387</td>\n",
       "      <td>12th Ave S Viewpoint</td>\n",
       "      <td>2821 12TH Ave S</td>\n",
       "      <td>98144</td>\n",
       "      <td>-122.317765</td>\n",
       "      <td>47.577953</td>\n",
       "      <td>(47.577953, -122.317765)</td>\n",
       "    </tr>\n",
       "  </tbody>\n",
       "</table>\n",
       "</div>"
      ],
      "text/plain": [
       "   PMAID  LocID                     Name          Address  ZIP Code  \\\n",
       "0    281   2545  12th and Howe Play Park   1200 W Howe St     98119   \n",
       "1   4159   2387     12th Ave S Viewpoint  2821 12TH Ave S     98144   \n",
       "\n",
       "      X Coord    Y Coord                Location 1  \n",
       "0 -122.372985  47.636097  (47.636097, -122.372985)  \n",
       "1 -122.317765  47.577953  (47.577953, -122.317765)  "
      ]
     },
     "execution_count": 6,
     "metadata": {},
     "output_type": "execute_result"
    }
   ],
   "source": [
    "park_address = pd.read_csv(r\"data\\Seattle_Parks_And_Recreation_Park_Addresses.csv\")\n",
    "park_address.head(2)"
   ]
  },
  {
   "cell_type": "code",
   "execution_count": 7,
   "id": "5f0e7092",
   "metadata": {},
   "outputs": [
    {
     "data": {
      "text/html": [
       "<div>\n",
       "<style scoped>\n",
       "    .dataframe tbody tr th:only-of-type {\n",
       "        vertical-align: middle;\n",
       "    }\n",
       "\n",
       "    .dataframe tbody tr th {\n",
       "        vertical-align: top;\n",
       "    }\n",
       "\n",
       "    .dataframe thead th {\n",
       "        text-align: right;\n",
       "    }\n",
       "</style>\n",
       "<table border=\"1\" class=\"dataframe\">\n",
       "  <thead>\n",
       "    <tr style=\"text-align: right;\">\n",
       "      <th></th>\n",
       "      <th>PMAID</th>\n",
       "      <th>Name</th>\n",
       "      <th>Alt_Name</th>\n",
       "      <th>xPos</th>\n",
       "      <th>yPos</th>\n",
       "      <th>Feature_ID</th>\n",
       "      <th>hours</th>\n",
       "      <th>Feature_Desc</th>\n",
       "      <th>CHILD_DESC</th>\n",
       "      <th>FIELD_TYPE</th>\n",
       "      <th>YOUTH_ONLY</th>\n",
       "      <th>LIGHTING</th>\n",
       "      <th>Location 1</th>\n",
       "    </tr>\n",
       "  </thead>\n",
       "  <tbody>\n",
       "    <tr>\n",
       "      <th>0</th>\n",
       "      <td>281</td>\n",
       "      <td>12th and Howe Play Park</td>\n",
       "      <td>NaN</td>\n",
       "      <td>-122.372985</td>\n",
       "      <td>47.636097</td>\n",
       "      <td>22</td>\n",
       "      <td>6 a.m. - 10 p.m.</td>\n",
       "      <td>Play Area</td>\n",
       "      <td>Play Area</td>\n",
       "      <td>NaN</td>\n",
       "      <td>False</td>\n",
       "      <td>False</td>\n",
       "      <td>1200 W Howe St\\n(-122.372985, 47.636097)</td>\n",
       "    </tr>\n",
       "    <tr>\n",
       "      <th>1</th>\n",
       "      <td>4159</td>\n",
       "      <td>12th Ave S Viewpoint</td>\n",
       "      <td>NaN</td>\n",
       "      <td>-122.317765</td>\n",
       "      <td>47.577953</td>\n",
       "      <td>34</td>\n",
       "      <td>6 a.m. - 10 p.m.</td>\n",
       "      <td>View</td>\n",
       "      <td>NaN</td>\n",
       "      <td>NaN</td>\n",
       "      <td>False</td>\n",
       "      <td>False</td>\n",
       "      <td>2821 12TH Ave S\\n(-122.317765, 47.577953)</td>\n",
       "    </tr>\n",
       "  </tbody>\n",
       "</table>\n",
       "</div>"
      ],
      "text/plain": [
       "   PMAID                     Name Alt_Name        xPos       yPos  Feature_ID  \\\n",
       "0    281  12th and Howe Play Park      NaN -122.372985  47.636097          22   \n",
       "1   4159     12th Ave S Viewpoint      NaN -122.317765  47.577953          34   \n",
       "\n",
       "              hours Feature_Desc CHILD_DESC FIELD_TYPE  YOUTH_ONLY  LIGHTING  \\\n",
       "0  6 a.m. - 10 p.m.    Play Area  Play Area        NaN       False     False   \n",
       "1  6 a.m. - 10 p.m.         View        NaN        NaN       False     False   \n",
       "\n",
       "                                  Location 1  \n",
       "0   1200 W Howe St\\n(-122.372985, 47.636097)  \n",
       "1  2821 12TH Ave S\\n(-122.317765, 47.577953)  "
      ]
     },
     "execution_count": 7,
     "metadata": {},
     "output_type": "execute_result"
    }
   ],
   "source": [
    "park_features = pd.read_csv(r\"data\\Seattle_Parks_and_Recreation_Parks_Features.csv\")\n",
    "park_features.head(2)"
   ]
  },
  {
   "cell_type": "markdown",
   "id": "bab0c916",
   "metadata": {},
   "source": [
    "### Parking_48 data preparation"
   ]
  },
  {
   "cell_type": "code",
   "execution_count": 8,
   "id": "9c869bc5",
   "metadata": {},
   "outputs": [
    {
     "data": {
      "text/plain": [
       "(6502273, 12)"
      ]
     },
     "execution_count": 8,
     "metadata": {},
     "output_type": "execute_result"
    }
   ],
   "source": [
    "parking_48.shape"
   ]
  },
  {
   "cell_type": "code",
   "execution_count": 9,
   "id": "e9b67db8",
   "metadata": {},
   "outputs": [
    {
     "name": "stdout",
     "output_type": "stream",
     "text": [
      "<class 'pandas.core.frame.DataFrame'>\n",
      "RangeIndex: 6502273 entries, 0 to 6502272\n",
      "Data columns (total 12 columns):\n",
      " #   Column                    Dtype  \n",
      "---  ------                    -----  \n",
      " 0   OccupancyDateTime         object \n",
      " 1   PaidOccupancy             int64  \n",
      " 2   BlockfaceName             object \n",
      " 3   SideOfStreet              object \n",
      " 4   SourceElementKey          int64  \n",
      " 5   ParkingTimeLimitCategory  float64\n",
      " 6   ParkingSpaceCount         int64  \n",
      " 7   PaidParkingArea           object \n",
      " 8   PaidParkingSubArea        object \n",
      " 9   PaidParkingRate           float64\n",
      " 10  ParkingCategory           object \n",
      " 11  Location                  object \n",
      "dtypes: float64(2), int64(3), object(7)\n",
      "memory usage: 595.3+ MB\n"
     ]
    }
   ],
   "source": [
    "parking_48.info()"
   ]
  },
  {
   "cell_type": "code",
   "execution_count": 10,
   "id": "378d2683",
   "metadata": {},
   "outputs": [
    {
     "data": {
      "text/html": [
       "<div>\n",
       "<style scoped>\n",
       "    .dataframe tbody tr th:only-of-type {\n",
       "        vertical-align: middle;\n",
       "    }\n",
       "\n",
       "    .dataframe tbody tr th {\n",
       "        vertical-align: top;\n",
       "    }\n",
       "\n",
       "    .dataframe thead th {\n",
       "        text-align: right;\n",
       "    }\n",
       "</style>\n",
       "<table border=\"1\" class=\"dataframe\">\n",
       "  <thead>\n",
       "    <tr style=\"text-align: right;\">\n",
       "      <th></th>\n",
       "      <th>PaidOccupancy</th>\n",
       "      <th>SourceElementKey</th>\n",
       "      <th>ParkingTimeLimitCategory</th>\n",
       "      <th>ParkingSpaceCount</th>\n",
       "      <th>PaidParkingRate</th>\n",
       "    </tr>\n",
       "  </thead>\n",
       "  <tbody>\n",
       "    <tr>\n",
       "      <th>count</th>\n",
       "      <td>6.502273e+06</td>\n",
       "      <td>6.502273e+06</td>\n",
       "      <td>6.489311e+06</td>\n",
       "      <td>6.502273e+06</td>\n",
       "      <td>0.0</td>\n",
       "    </tr>\n",
       "    <tr>\n",
       "      <th>mean</th>\n",
       "      <td>2.931026e+00</td>\n",
       "      <td>4.590525e+04</td>\n",
       "      <td>1.980114e+02</td>\n",
       "      <td>7.275680e+00</td>\n",
       "      <td>NaN</td>\n",
       "    </tr>\n",
       "    <tr>\n",
       "      <th>std</th>\n",
       "      <td>3.254317e+00</td>\n",
       "      <td>2.875972e+04</td>\n",
       "      <td>2.621425e+02</td>\n",
       "      <td>4.806224e+00</td>\n",
       "      <td>NaN</td>\n",
       "    </tr>\n",
       "    <tr>\n",
       "      <th>min</th>\n",
       "      <td>0.000000e+00</td>\n",
       "      <td>1.001000e+03</td>\n",
       "      <td>3.000000e+01</td>\n",
       "      <td>1.000000e+00</td>\n",
       "      <td>NaN</td>\n",
       "    </tr>\n",
       "    <tr>\n",
       "      <th>25%</th>\n",
       "      <td>1.000000e+00</td>\n",
       "      <td>2.018500e+04</td>\n",
       "      <td>1.200000e+02</td>\n",
       "      <td>4.000000e+00</td>\n",
       "      <td>NaN</td>\n",
       "    </tr>\n",
       "    <tr>\n",
       "      <th>50%</th>\n",
       "      <td>2.000000e+00</td>\n",
       "      <td>4.582600e+04</td>\n",
       "      <td>1.200000e+02</td>\n",
       "      <td>6.000000e+00</td>\n",
       "      <td>NaN</td>\n",
       "    </tr>\n",
       "    <tr>\n",
       "      <th>75%</th>\n",
       "      <td>4.000000e+00</td>\n",
       "      <td>7.074100e+04</td>\n",
       "      <td>2.400000e+02</td>\n",
       "      <td>9.000000e+00</td>\n",
       "      <td>NaN</td>\n",
       "    </tr>\n",
       "    <tr>\n",
       "      <th>max</th>\n",
       "      <td>8.000000e+01</td>\n",
       "      <td>1.363220e+05</td>\n",
       "      <td>4.320000e+03</td>\n",
       "      <td>5.400000e+01</td>\n",
       "      <td>NaN</td>\n",
       "    </tr>\n",
       "  </tbody>\n",
       "</table>\n",
       "</div>"
      ],
      "text/plain": [
       "       PaidOccupancy  SourceElementKey  ParkingTimeLimitCategory  \\\n",
       "count   6.502273e+06      6.502273e+06              6.489311e+06   \n",
       "mean    2.931026e+00      4.590525e+04              1.980114e+02   \n",
       "std     3.254317e+00      2.875972e+04              2.621425e+02   \n",
       "min     0.000000e+00      1.001000e+03              3.000000e+01   \n",
       "25%     1.000000e+00      2.018500e+04              1.200000e+02   \n",
       "50%     2.000000e+00      4.582600e+04              1.200000e+02   \n",
       "75%     4.000000e+00      7.074100e+04              2.400000e+02   \n",
       "max     8.000000e+01      1.363220e+05              4.320000e+03   \n",
       "\n",
       "       ParkingSpaceCount  PaidParkingRate  \n",
       "count       6.502273e+06              0.0  \n",
       "mean        7.275680e+00              NaN  \n",
       "std         4.806224e+00              NaN  \n",
       "min         1.000000e+00              NaN  \n",
       "25%         4.000000e+00              NaN  \n",
       "50%         6.000000e+00              NaN  \n",
       "75%         9.000000e+00              NaN  \n",
       "max         5.400000e+01              NaN  "
      ]
     },
     "execution_count": 10,
     "metadata": {},
     "output_type": "execute_result"
    }
   ],
   "source": [
    "parking_48.describe()"
   ]
  },
  {
   "cell_type": "code",
   "execution_count": 11,
   "id": "adc464d4",
   "metadata": {},
   "outputs": [
    {
     "data": {
      "text/plain": [
       "OccupancyDateTime                 0\n",
       "PaidOccupancy                     0\n",
       "BlockfaceName                     0\n",
       "SideOfStreet                      0\n",
       "SourceElementKey                  0\n",
       "ParkingTimeLimitCategory      12962\n",
       "ParkingSpaceCount                 0\n",
       "PaidParkingArea                   0\n",
       "PaidParkingSubArea          1819501\n",
       "PaidParkingRate             6502273\n",
       "ParkingCategory                   0\n",
       "Location                          0\n",
       "dtype: int64"
      ]
     },
     "execution_count": 11,
     "metadata": {},
     "output_type": "execute_result"
    }
   ],
   "source": [
    " #a summary of all missing values for each column\n",
    "parking_48.isnull().sum()"
   ]
  },
  {
   "cell_type": "code",
   "execution_count": 12,
   "id": "b0dbaabd",
   "metadata": {},
   "outputs": [
    {
     "data": {
      "text/plain": [
       "Index(['OccupancyDateTime', 'PaidOccupancy', 'BlockfaceName', 'SideOfStreet',\n",
       "       'SourceElementKey', 'ParkingTimeLimitCategory', 'ParkingSpaceCount',\n",
       "       'PaidParkingArea', 'PaidParkingSubArea', 'PaidParkingRate',\n",
       "       'ParkingCategory', 'Location'],\n",
       "      dtype='object')"
      ]
     },
     "execution_count": 12,
     "metadata": {},
     "output_type": "execute_result"
    }
   ],
   "source": [
    "parking_48.columns"
   ]
  },
  {
   "cell_type": "code",
   "execution_count": 13,
   "id": "84822957",
   "metadata": {},
   "outputs": [
    {
     "data": {
      "text/html": [
       "<div>\n",
       "<style scoped>\n",
       "    .dataframe tbody tr th:only-of-type {\n",
       "        vertical-align: middle;\n",
       "    }\n",
       "\n",
       "    .dataframe tbody tr th {\n",
       "        vertical-align: top;\n",
       "    }\n",
       "\n",
       "    .dataframe thead th {\n",
       "        text-align: right;\n",
       "    }\n",
       "</style>\n",
       "<table border=\"1\" class=\"dataframe\">\n",
       "  <thead>\n",
       "    <tr style=\"text-align: right;\">\n",
       "      <th></th>\n",
       "      <th>OccupancyDateTime</th>\n",
       "      <th>PaidOccupancy</th>\n",
       "      <th>BlockfaceName</th>\n",
       "      <th>SourceElementKey</th>\n",
       "      <th>ParkingTimeLimitCategory</th>\n",
       "      <th>ParkingSpaceCount</th>\n",
       "      <th>PaidParkingArea</th>\n",
       "      <th>ParkingCategory</th>\n",
       "      <th>Location</th>\n",
       "    </tr>\n",
       "  </thead>\n",
       "  <tbody>\n",
       "    <tr>\n",
       "      <th>0</th>\n",
       "      <td>08/27/2022 01:49:00 PM</td>\n",
       "      <td>6</td>\n",
       "      <td>UNIVERSITY WAY NE BETWEEN NE 41ST ST AND NE 42...</td>\n",
       "      <td>58514</td>\n",
       "      <td>120.0</td>\n",
       "      <td>7</td>\n",
       "      <td>University District</td>\n",
       "      <td>Paid Parking</td>\n",
       "      <td>POINT (-122.31314236 47.65753657)</td>\n",
       "    </tr>\n",
       "    <tr>\n",
       "      <th>1</th>\n",
       "      <td>08/27/2022 02:42:00 PM</td>\n",
       "      <td>3</td>\n",
       "      <td>BELL ST BETWEEN ELLIOTT AVE AND WESTERN AVE</td>\n",
       "      <td>32018</td>\n",
       "      <td>120.0</td>\n",
       "      <td>6</td>\n",
       "      <td>Belltown</td>\n",
       "      <td>Paid Parking</td>\n",
       "      <td>POINT (-122.34769758 47.6123506)</td>\n",
       "    </tr>\n",
       "  </tbody>\n",
       "</table>\n",
       "</div>"
      ],
      "text/plain": [
       "        OccupancyDateTime  PaidOccupancy  \\\n",
       "0  08/27/2022 01:49:00 PM              6   \n",
       "1  08/27/2022 02:42:00 PM              3   \n",
       "\n",
       "                                       BlockfaceName  SourceElementKey  \\\n",
       "0  UNIVERSITY WAY NE BETWEEN NE 41ST ST AND NE 42...             58514   \n",
       "1        BELL ST BETWEEN ELLIOTT AVE AND WESTERN AVE             32018   \n",
       "\n",
       "   ParkingTimeLimitCategory  ParkingSpaceCount      PaidParkingArea  \\\n",
       "0                     120.0                  7  University District   \n",
       "1                     120.0                  6             Belltown   \n",
       "\n",
       "  ParkingCategory                           Location  \n",
       "0    Paid Parking  POINT (-122.31314236 47.65753657)  \n",
       "1    Paid Parking   POINT (-122.34769758 47.6123506)  "
      ]
     },
     "execution_count": 13,
     "metadata": {},
     "output_type": "execute_result"
    }
   ],
   "source": [
    "# delete unusable columns\n",
    "parking_48 = parking_48.drop([\"SideOfStreet\", \"PaidParkingSubArea\", \"PaidParkingRate\"], axis=1)\n",
    "parking_48.head(2)"
   ]
  },
  {
   "cell_type": "code",
   "execution_count": 14,
   "id": "db25a76a",
   "metadata": {},
   "outputs": [
    {
     "data": {
      "text/plain": [
       "OccupancyDateTime               0\n",
       "PaidOccupancy                   0\n",
       "BlockfaceName                   0\n",
       "SourceElementKey                0\n",
       "ParkingTimeLimitCategory    12962\n",
       "ParkingSpaceCount               0\n",
       "PaidParkingArea                 0\n",
       "ParkingCategory                 0\n",
       "Location                        0\n",
       "dtype: int64"
      ]
     },
     "execution_count": 14,
     "metadata": {},
     "output_type": "execute_result"
    }
   ],
   "source": [
    "parking_48.isnull().sum()"
   ]
  },
  {
   "cell_type": "code",
   "execution_count": 15,
   "id": "41a4b526",
   "metadata": {},
   "outputs": [
    {
     "data": {
      "text/plain": [
       "array([ 120.,  240.,  600.,   30.,   nan, 4320.])"
      ]
     },
     "execution_count": 15,
     "metadata": {},
     "output_type": "execute_result"
    }
   ],
   "source": [
    " parking_48[\"ParkingTimeLimitCategory\"].unique()"
   ]
  },
  {
   "cell_type": "code",
   "execution_count": 16,
   "id": "9b6c0802",
   "metadata": {},
   "outputs": [],
   "source": [
    "# change nan on \"Unknown\" (column \"ParkingTimeLimitCategory\"), this information will be useful for local authority\n",
    "parking_48.fillna(\"Unknown\", inplace=True)"
   ]
  },
  {
   "cell_type": "code",
   "execution_count": 17,
   "id": "c01c1a4c",
   "metadata": {},
   "outputs": [],
   "source": [
    "# make appropriate columns from column \"OccupancyDateTime\" date and time\n",
    "parking_48[\"Date\"] = pd.to_datetime(parking_48[\"OccupancyDateTime\"]).dt.date\n",
    "parking_48[\"Time\"] =pd.to_datetime(parking_48[\"OccupancyDateTime\"]).dt.time"
   ]
  },
  {
   "cell_type": "code",
   "execution_count": 18,
   "id": "d5bf0df7",
   "metadata": {},
   "outputs": [],
   "source": [
    "# create clumn day of week and month\n",
    "parking_48[\"DayWeek\"] = pd.to_datetime(parking_48[\"OccupancyDateTime\"]).dt.day_name() #weekday_name isn't used\n",
    "parking_48[\"Month\"] = pd.to_datetime(parking_48[\"OccupancyDateTime\"]).dt.month"
   ]
  },
  {
   "cell_type": "code",
   "execution_count": 19,
   "id": "870ec21e",
   "metadata": {},
   "outputs": [
    {
     "data": {
      "text/html": [
       "<div>\n",
       "<style scoped>\n",
       "    .dataframe tbody tr th:only-of-type {\n",
       "        vertical-align: middle;\n",
       "    }\n",
       "\n",
       "    .dataframe tbody tr th {\n",
       "        vertical-align: top;\n",
       "    }\n",
       "\n",
       "    .dataframe thead th {\n",
       "        text-align: right;\n",
       "    }\n",
       "</style>\n",
       "<table border=\"1\" class=\"dataframe\">\n",
       "  <thead>\n",
       "    <tr style=\"text-align: right;\">\n",
       "      <th></th>\n",
       "      <th>OccupancyDateTime</th>\n",
       "      <th>PaidOccupancy</th>\n",
       "      <th>BlockfaceName</th>\n",
       "      <th>SourceElementKey</th>\n",
       "      <th>ParkingTimeLimitCategory</th>\n",
       "      <th>ParkingSpaceCount</th>\n",
       "      <th>PaidParkingArea</th>\n",
       "      <th>ParkingCategory</th>\n",
       "      <th>Location</th>\n",
       "      <th>Date</th>\n",
       "      <th>Time</th>\n",
       "      <th>DayWeek</th>\n",
       "      <th>Month</th>\n",
       "    </tr>\n",
       "  </thead>\n",
       "  <tbody>\n",
       "    <tr>\n",
       "      <th>0</th>\n",
       "      <td>08/27/2022 01:49:00 PM</td>\n",
       "      <td>6</td>\n",
       "      <td>UNIVERSITY WAY NE BETWEEN NE 41ST ST AND NE 42...</td>\n",
       "      <td>58514</td>\n",
       "      <td>120.0</td>\n",
       "      <td>7</td>\n",
       "      <td>University District</td>\n",
       "      <td>Paid Parking</td>\n",
       "      <td>POINT (-122.31314236 47.65753657)</td>\n",
       "      <td>2022-08-27</td>\n",
       "      <td>13:49:00</td>\n",
       "      <td>Saturday</td>\n",
       "      <td>8</td>\n",
       "    </tr>\n",
       "    <tr>\n",
       "      <th>1</th>\n",
       "      <td>08/27/2022 02:42:00 PM</td>\n",
       "      <td>3</td>\n",
       "      <td>BELL ST BETWEEN ELLIOTT AVE AND WESTERN AVE</td>\n",
       "      <td>32018</td>\n",
       "      <td>120.0</td>\n",
       "      <td>6</td>\n",
       "      <td>Belltown</td>\n",
       "      <td>Paid Parking</td>\n",
       "      <td>POINT (-122.34769758 47.6123506)</td>\n",
       "      <td>2022-08-27</td>\n",
       "      <td>14:42:00</td>\n",
       "      <td>Saturday</td>\n",
       "      <td>8</td>\n",
       "    </tr>\n",
       "  </tbody>\n",
       "</table>\n",
       "</div>"
      ],
      "text/plain": [
       "        OccupancyDateTime  PaidOccupancy  \\\n",
       "0  08/27/2022 01:49:00 PM              6   \n",
       "1  08/27/2022 02:42:00 PM              3   \n",
       "\n",
       "                                       BlockfaceName  SourceElementKey  \\\n",
       "0  UNIVERSITY WAY NE BETWEEN NE 41ST ST AND NE 42...             58514   \n",
       "1        BELL ST BETWEEN ELLIOTT AVE AND WESTERN AVE             32018   \n",
       "\n",
       "  ParkingTimeLimitCategory  ParkingSpaceCount      PaidParkingArea  \\\n",
       "0                    120.0                  7  University District   \n",
       "1                    120.0                  6             Belltown   \n",
       "\n",
       "  ParkingCategory                           Location        Date      Time  \\\n",
       "0    Paid Parking  POINT (-122.31314236 47.65753657)  2022-08-27  13:49:00   \n",
       "1    Paid Parking   POINT (-122.34769758 47.6123506)  2022-08-27  14:42:00   \n",
       "\n",
       "    DayWeek  Month  \n",
       "0  Saturday      8  \n",
       "1  Saturday      8  "
      ]
     },
     "execution_count": 19,
     "metadata": {},
     "output_type": "execute_result"
    }
   ],
   "source": [
    "parking_48.head(2)"
   ]
  },
  {
   "cell_type": "markdown",
   "id": "aaf8e4c8",
   "metadata": {},
   "source": [
    "now everything should be fine"
   ]
  },
  {
   "cell_type": "code",
   "execution_count": 20,
   "id": "ce3b30fa",
   "metadata": {},
   "outputs": [],
   "source": [
    "parking_48.to_csv(\"parking_48.csv\")"
   ]
  },
  {
   "cell_type": "markdown",
   "id": "abcf9992",
   "metadata": {},
   "source": [
    "### parking_30days data preparation"
   ]
  },
  {
   "cell_type": "code",
   "execution_count": 21,
   "id": "e6da849f",
   "metadata": {},
   "outputs": [
    {
     "data": {
      "text/plain": [
       "(1836416, 12)"
      ]
     },
     "execution_count": 21,
     "metadata": {},
     "output_type": "execute_result"
    }
   ],
   "source": [
    "parking_30days.shape"
   ]
  },
  {
   "cell_type": "code",
   "execution_count": 22,
   "id": "f525e11f",
   "metadata": {},
   "outputs": [
    {
     "name": "stdout",
     "output_type": "stream",
     "text": [
      "<class 'pandas.core.frame.DataFrame'>\n",
      "RangeIndex: 1836416 entries, 0 to 1836415\n",
      "Data columns (total 12 columns):\n",
      " #   Column                    Dtype  \n",
      "---  ------                    -----  \n",
      " 0   OccupancyDateTime         object \n",
      " 1   PaidOccupancy             float64\n",
      " 2   BlockfaceName             object \n",
      " 3   SideOfStreet              object \n",
      " 4   SourceElementKey          float64\n",
      " 5   ParkingTimeLimitCategory  float64\n",
      " 6   ParkingSpaceCount         float64\n",
      " 7   PaidParkingArea           object \n",
      " 8   PaidParkingSubArea        object \n",
      " 9   PaidParkingRate           float64\n",
      " 10  ParkingCategory           object \n",
      " 11  Location                  object \n",
      "dtypes: float64(5), object(7)\n",
      "memory usage: 168.1+ MB\n"
     ]
    }
   ],
   "source": [
    "parking_30days.info()"
   ]
  },
  {
   "cell_type": "code",
   "execution_count": 23,
   "id": "400a321d",
   "metadata": {},
   "outputs": [
    {
     "data": {
      "text/plain": [
       "OccupancyDateTime                 0\n",
       "PaidOccupancy                     4\n",
       "BlockfaceName                     4\n",
       "SideOfStreet                      4\n",
       "SourceElementKey                  4\n",
       "ParkingTimeLimitCategory       2120\n",
       "ParkingSpaceCount                 4\n",
       "PaidParkingArea                   4\n",
       "PaidParkingSubArea           518723\n",
       "PaidParkingRate             1836416\n",
       "ParkingCategory                   4\n",
       "Location                          4\n",
       "dtype: int64"
      ]
     },
     "execution_count": 23,
     "metadata": {},
     "output_type": "execute_result"
    }
   ],
   "source": [
    "parking_30days.isnull().sum()"
   ]
  },
  {
   "cell_type": "code",
   "execution_count": 24,
   "id": "b6df2a00",
   "metadata": {},
   "outputs": [
    {
     "data": {
      "text/html": [
       "<div>\n",
       "<style scoped>\n",
       "    .dataframe tbody tr th:only-of-type {\n",
       "        vertical-align: middle;\n",
       "    }\n",
       "\n",
       "    .dataframe tbody tr th {\n",
       "        vertical-align: top;\n",
       "    }\n",
       "\n",
       "    .dataframe thead th {\n",
       "        text-align: right;\n",
       "    }\n",
       "</style>\n",
       "<table border=\"1\" class=\"dataframe\">\n",
       "  <thead>\n",
       "    <tr style=\"text-align: right;\">\n",
       "      <th></th>\n",
       "      <th>PaidOccupancy</th>\n",
       "      <th>SourceElementKey</th>\n",
       "      <th>ParkingTimeLimitCategory</th>\n",
       "      <th>ParkingSpaceCount</th>\n",
       "      <th>PaidParkingRate</th>\n",
       "    </tr>\n",
       "  </thead>\n",
       "  <tbody>\n",
       "    <tr>\n",
       "      <th>count</th>\n",
       "      <td>1.836412e+06</td>\n",
       "      <td>1.836412e+06</td>\n",
       "      <td>1.834296e+06</td>\n",
       "      <td>1.836412e+06</td>\n",
       "      <td>0.0</td>\n",
       "    </tr>\n",
       "    <tr>\n",
       "      <th>mean</th>\n",
       "      <td>2.984700e+00</td>\n",
       "      <td>4.589895e+04</td>\n",
       "      <td>1.942781e+02</td>\n",
       "      <td>7.307481e+00</td>\n",
       "      <td>NaN</td>\n",
       "    </tr>\n",
       "    <tr>\n",
       "      <th>std</th>\n",
       "      <td>3.241306e+00</td>\n",
       "      <td>2.879162e+04</td>\n",
       "      <td>2.299566e+02</td>\n",
       "      <td>4.811278e+00</td>\n",
       "      <td>NaN</td>\n",
       "    </tr>\n",
       "    <tr>\n",
       "      <th>min</th>\n",
       "      <td>0.000000e+00</td>\n",
       "      <td>1.001000e+03</td>\n",
       "      <td>3.000000e+01</td>\n",
       "      <td>1.000000e+00</td>\n",
       "      <td>NaN</td>\n",
       "    </tr>\n",
       "    <tr>\n",
       "      <th>25%</th>\n",
       "      <td>1.000000e+00</td>\n",
       "      <td>2.018500e+04</td>\n",
       "      <td>1.200000e+02</td>\n",
       "      <td>4.000000e+00</td>\n",
       "      <td>NaN</td>\n",
       "    </tr>\n",
       "    <tr>\n",
       "      <th>50%</th>\n",
       "      <td>2.000000e+00</td>\n",
       "      <td>4.394600e+04</td>\n",
       "      <td>1.200000e+02</td>\n",
       "      <td>6.000000e+00</td>\n",
       "      <td>NaN</td>\n",
       "    </tr>\n",
       "    <tr>\n",
       "      <th>75%</th>\n",
       "      <td>4.000000e+00</td>\n",
       "      <td>7.073800e+04</td>\n",
       "      <td>2.400000e+02</td>\n",
       "      <td>9.000000e+00</td>\n",
       "      <td>NaN</td>\n",
       "    </tr>\n",
       "    <tr>\n",
       "      <th>max</th>\n",
       "      <td>7.600000e+01</td>\n",
       "      <td>1.363220e+05</td>\n",
       "      <td>4.320000e+03</td>\n",
       "      <td>5.400000e+01</td>\n",
       "      <td>NaN</td>\n",
       "    </tr>\n",
       "  </tbody>\n",
       "</table>\n",
       "</div>"
      ],
      "text/plain": [
       "       PaidOccupancy  SourceElementKey  ParkingTimeLimitCategory  \\\n",
       "count   1.836412e+06      1.836412e+06              1.834296e+06   \n",
       "mean    2.984700e+00      4.589895e+04              1.942781e+02   \n",
       "std     3.241306e+00      2.879162e+04              2.299566e+02   \n",
       "min     0.000000e+00      1.001000e+03              3.000000e+01   \n",
       "25%     1.000000e+00      2.018500e+04              1.200000e+02   \n",
       "50%     2.000000e+00      4.394600e+04              1.200000e+02   \n",
       "75%     4.000000e+00      7.073800e+04              2.400000e+02   \n",
       "max     7.600000e+01      1.363220e+05              4.320000e+03   \n",
       "\n",
       "       ParkingSpaceCount  PaidParkingRate  \n",
       "count       1.836412e+06              0.0  \n",
       "mean        7.307481e+00              NaN  \n",
       "std         4.811278e+00              NaN  \n",
       "min         1.000000e+00              NaN  \n",
       "25%         4.000000e+00              NaN  \n",
       "50%         6.000000e+00              NaN  \n",
       "75%         9.000000e+00              NaN  \n",
       "max         5.400000e+01              NaN  "
      ]
     },
     "execution_count": 24,
     "metadata": {},
     "output_type": "execute_result"
    }
   ],
   "source": [
    "parking_30days.describe()"
   ]
  },
  {
   "cell_type": "code",
   "execution_count": 25,
   "id": "34b07bf7",
   "metadata": {},
   "outputs": [
    {
     "data": {
      "text/plain": [
       "Index(['OccupancyDateTime', 'PaidOccupancy', 'BlockfaceName', 'SideOfStreet',\n",
       "       'SourceElementKey', 'ParkingTimeLimitCategory', 'ParkingSpaceCount',\n",
       "       'PaidParkingArea', 'PaidParkingSubArea', 'PaidParkingRate',\n",
       "       'ParkingCategory', 'Location'],\n",
       "      dtype='object')"
      ]
     },
     "execution_count": 25,
     "metadata": {},
     "output_type": "execute_result"
    }
   ],
   "source": [
    "parking_30days.columns"
   ]
  },
  {
   "cell_type": "code",
   "execution_count": 26,
   "id": "2f0168a0",
   "metadata": {},
   "outputs": [],
   "source": [
    "#drop unusable columns\n",
    "parking_30days = parking_30days.drop(['SideOfStreet',\n",
    "        'PaidParkingSubArea', 'PaidParkingRate'], axis=1)"
   ]
  },
  {
   "cell_type": "code",
   "execution_count": 27,
   "id": "3b155ba9",
   "metadata": {},
   "outputs": [],
   "source": [
    "# rename nan in column 'ParkingTimeLimitCategory' on \"Unknown\" which will be usefull for local authority\n",
    "parking_30days.fillna(\"Unknown\", inplace=True)"
   ]
  },
  {
   "cell_type": "code",
   "execution_count": 28,
   "id": "2f4f52a0",
   "metadata": {},
   "outputs": [
    {
     "data": {
      "text/plain": [
       "OccupancyDateTime           0\n",
       "PaidOccupancy               0\n",
       "BlockfaceName               0\n",
       "SourceElementKey            0\n",
       "ParkingTimeLimitCategory    0\n",
       "ParkingSpaceCount           0\n",
       "PaidParkingArea             0\n",
       "ParkingCategory             0\n",
       "Location                    0\n",
       "dtype: int64"
      ]
     },
     "execution_count": 28,
     "metadata": {},
     "output_type": "execute_result"
    }
   ],
   "source": [
    "parking_30days.isnull().sum()"
   ]
  },
  {
   "cell_type": "code",
   "execution_count": 29,
   "id": "6b61b9c8",
   "metadata": {},
   "outputs": [],
   "source": [
    "#get column with date and time, convert them to datetime format\n",
    "parking_30days['Date'] = pd.to_datetime(parking_30days['OccupancyDateTime'], errors = 'coerce').dt.date\n",
    "parking_30days['Time'] = pd.to_datetime(parking_30days['OccupancyDateTime'], errors = 'coerce').dt.time"
   ]
  },
  {
   "cell_type": "code",
   "execution_count": 30,
   "id": "fafd2c86",
   "metadata": {},
   "outputs": [],
   "source": [
    "#create columns \"DayWeek\" and \"Month\", write  errors='coerce' if we get error about unknown string format on pd.to_datetime\n",
    "parking_30days['DayWeek'] = pd.to_datetime(parking_30days['Date'], errors = 'coerce').dt.day_name()\n",
    "parking_30days['Month'] = pd.to_datetime(parking_30days['Date'], errors='coerce').dt.month"
   ]
  },
  {
   "cell_type": "code",
   "execution_count": 31,
   "id": "9ff8391e",
   "metadata": {},
   "outputs": [
    {
     "data": {
      "text/html": [
       "<div>\n",
       "<style scoped>\n",
       "    .dataframe tbody tr th:only-of-type {\n",
       "        vertical-align: middle;\n",
       "    }\n",
       "\n",
       "    .dataframe tbody tr th {\n",
       "        vertical-align: top;\n",
       "    }\n",
       "\n",
       "    .dataframe thead th {\n",
       "        text-align: right;\n",
       "    }\n",
       "</style>\n",
       "<table border=\"1\" class=\"dataframe\">\n",
       "  <thead>\n",
       "    <tr style=\"text-align: right;\">\n",
       "      <th></th>\n",
       "      <th>OccupancyDateTime</th>\n",
       "      <th>PaidOccupancy</th>\n",
       "      <th>BlockfaceName</th>\n",
       "      <th>SourceElementKey</th>\n",
       "      <th>ParkingTimeLimitCategory</th>\n",
       "      <th>ParkingSpaceCount</th>\n",
       "      <th>PaidParkingArea</th>\n",
       "      <th>ParkingCategory</th>\n",
       "      <th>Location</th>\n",
       "      <th>Date</th>\n",
       "      <th>Time</th>\n",
       "      <th>DayWeek</th>\n",
       "      <th>Month</th>\n",
       "    </tr>\n",
       "  </thead>\n",
       "  <tbody>\n",
       "    <tr>\n",
       "      <th>0</th>\n",
       "      <td>07/20/2022 06:23:00 PM</td>\n",
       "      <td>1.0</td>\n",
       "      <td>4TH AVE BETWEEN MADISON ST AND SPRING ST</td>\n",
       "      <td>51473.0</td>\n",
       "      <td>120.0</td>\n",
       "      <td>6.0</td>\n",
       "      <td>Commercial Core</td>\n",
       "      <td>Paid Parking</td>\n",
       "      <td>POINT (-122.33336524 47.60639351)</td>\n",
       "      <td>2022-07-20</td>\n",
       "      <td>18:23:00</td>\n",
       "      <td>Wednesday</td>\n",
       "      <td>7.0</td>\n",
       "    </tr>\n",
       "    <tr>\n",
       "      <th>1</th>\n",
       "      <td>07/20/2022 07:42:00 PM</td>\n",
       "      <td>4.0</td>\n",
       "      <td>WESTERN AVE BETWEEN CEDAR ST AND CLAY ST</td>\n",
       "      <td>36121.0</td>\n",
       "      <td>240.0</td>\n",
       "      <td>6.0</td>\n",
       "      <td>Belltown</td>\n",
       "      <td>Paid Parking</td>\n",
       "      <td>POINT (-122.35199635 47.61536129)</td>\n",
       "      <td>2022-07-20</td>\n",
       "      <td>19:42:00</td>\n",
       "      <td>Wednesday</td>\n",
       "      <td>7.0</td>\n",
       "    </tr>\n",
       "    <tr>\n",
       "      <th>2</th>\n",
       "      <td>07/20/2022 06:34:00 PM</td>\n",
       "      <td>4.0</td>\n",
       "      <td>3RD AVE BETWEEN BATTERY ST AND WALL ST</td>\n",
       "      <td>49658.0</td>\n",
       "      <td>240.0</td>\n",
       "      <td>7.0</td>\n",
       "      <td>Belltown</td>\n",
       "      <td>Paid Parking</td>\n",
       "      <td>POINT (-122.34649132 47.61581407)</td>\n",
       "      <td>2022-07-20</td>\n",
       "      <td>18:34:00</td>\n",
       "      <td>Wednesday</td>\n",
       "      <td>7.0</td>\n",
       "    </tr>\n",
       "    <tr>\n",
       "      <th>3</th>\n",
       "      <td>07/20/2022 05:37:00 PM</td>\n",
       "      <td>8.0</td>\n",
       "      <td>ELLIOTT AVE BETWEEN CLAY ST AND BROAD ST</td>\n",
       "      <td>10221.0</td>\n",
       "      <td>240.0</td>\n",
       "      <td>9.0</td>\n",
       "      <td>Belltown</td>\n",
       "      <td>Paid Parking</td>\n",
       "      <td>POINT (-122.3538062 47.61525792)</td>\n",
       "      <td>2022-07-20</td>\n",
       "      <td>17:37:00</td>\n",
       "      <td>Wednesday</td>\n",
       "      <td>7.0</td>\n",
       "    </tr>\n",
       "    <tr>\n",
       "      <th>4</th>\n",
       "      <td>07/20/2022 10:28:00 AM</td>\n",
       "      <td>10.0</td>\n",
       "      <td>2ND AVE N BETWEEN DENNY WAY AND JOHN ST</td>\n",
       "      <td>70762.0</td>\n",
       "      <td>240.0</td>\n",
       "      <td>11.0</td>\n",
       "      <td>Uptown</td>\n",
       "      <td>Paid Parking</td>\n",
       "      <td>POINT (-122.3526927 47.61920357)</td>\n",
       "      <td>2022-07-20</td>\n",
       "      <td>10:28:00</td>\n",
       "      <td>Wednesday</td>\n",
       "      <td>7.0</td>\n",
       "    </tr>\n",
       "    <tr>\n",
       "      <th>5</th>\n",
       "      <td>07/20/2022 12:26:00 PM</td>\n",
       "      <td>1.0</td>\n",
       "      <td>UNION ST BETWEEN 6TH AVE AND 7TH AVE</td>\n",
       "      <td>81194.0</td>\n",
       "      <td>120.0</td>\n",
       "      <td>6.0</td>\n",
       "      <td>Commercial Core</td>\n",
       "      <td>Paid Parking</td>\n",
       "      <td>POINT (-122.33297464 47.61031904)</td>\n",
       "      <td>2022-07-20</td>\n",
       "      <td>12:26:00</td>\n",
       "      <td>Wednesday</td>\n",
       "      <td>7.0</td>\n",
       "    </tr>\n",
       "    <tr>\n",
       "      <th>6</th>\n",
       "      <td>07/20/2022 07:26:00 PM</td>\n",
       "      <td>1.0</td>\n",
       "      <td>W REPUBLICAN ST BETWEEN 1ST AVE W AND 2ND AVE W</td>\n",
       "      <td>46082.0</td>\n",
       "      <td>240.0</td>\n",
       "      <td>9.0</td>\n",
       "      <td>Uptown</td>\n",
       "      <td>Paid Parking</td>\n",
       "      <td>POINT (-122.35868143 47.62324243)</td>\n",
       "      <td>2022-07-20</td>\n",
       "      <td>19:26:00</td>\n",
       "      <td>Wednesday</td>\n",
       "      <td>7.0</td>\n",
       "    </tr>\n",
       "    <tr>\n",
       "      <th>7</th>\n",
       "      <td>07/20/2022 11:32:00 AM</td>\n",
       "      <td>3.0</td>\n",
       "      <td>4TH AVE BETWEEN VINE ST AND CEDAR ST</td>\n",
       "      <td>6198.0</td>\n",
       "      <td>240.0</td>\n",
       "      <td>8.0</td>\n",
       "      <td>Belltown</td>\n",
       "      <td>Paid Parking</td>\n",
       "      <td>POINT (-122.34746383 47.61757189)</td>\n",
       "      <td>2022-07-20</td>\n",
       "      <td>11:32:00</td>\n",
       "      <td>Wednesday</td>\n",
       "      <td>7.0</td>\n",
       "    </tr>\n",
       "    <tr>\n",
       "      <th>8</th>\n",
       "      <td>07/20/2022 03:12:00 PM</td>\n",
       "      <td>7.0</td>\n",
       "      <td>MINOR AVE N BETWEEN THOMAS ST AND HARRISON ST</td>\n",
       "      <td>34505.0</td>\n",
       "      <td>600.0</td>\n",
       "      <td>13.0</td>\n",
       "      <td>South Lake Union</td>\n",
       "      <td>Paid Parking</td>\n",
       "      <td>POINT (-122.33309119 47.62139739)</td>\n",
       "      <td>2022-07-20</td>\n",
       "      <td>15:12:00</td>\n",
       "      <td>Wednesday</td>\n",
       "      <td>7.0</td>\n",
       "    </tr>\n",
       "    <tr>\n",
       "      <th>9</th>\n",
       "      <td>07/20/2022 11:33:00 AM</td>\n",
       "      <td>2.0</td>\n",
       "      <td>UNION ST BETWEEN 4TH AVE AND 5TH AVE</td>\n",
       "      <td>35798.0</td>\n",
       "      <td>120.0</td>\n",
       "      <td>5.0</td>\n",
       "      <td>Commercial Core</td>\n",
       "      <td>Paid Parking</td>\n",
       "      <td>POINT (-122.33515851 47.60939858)</td>\n",
       "      <td>2022-07-20</td>\n",
       "      <td>11:33:00</td>\n",
       "      <td>Wednesday</td>\n",
       "      <td>7.0</td>\n",
       "    </tr>\n",
       "    <tr>\n",
       "      <th>10</th>\n",
       "      <td>07/20/2022 12:28:00 PM</td>\n",
       "      <td>6.0</td>\n",
       "      <td>NW 56TH ST BETWEEN 22ND AVE NW AND 24TH AVE NW</td>\n",
       "      <td>86449.0</td>\n",
       "      <td>240.0</td>\n",
       "      <td>12.0</td>\n",
       "      <td>Ballard</td>\n",
       "      <td>Paid Parking</td>\n",
       "      <td>POINT (-122.38614452 47.66951625)</td>\n",
       "      <td>2022-07-20</td>\n",
       "      <td>12:28:00</td>\n",
       "      <td>Wednesday</td>\n",
       "      <td>7.0</td>\n",
       "    </tr>\n",
       "    <tr>\n",
       "      <th>11</th>\n",
       "      <td>07/20/2022 12:31:00 PM</td>\n",
       "      <td>1.0</td>\n",
       "      <td>MERCER ST BETWEEN 1ST AVE N AND WARREN AVE N</td>\n",
       "      <td>11766.0</td>\n",
       "      <td>240.0</td>\n",
       "      <td>4.0</td>\n",
       "      <td>Uptown</td>\n",
       "      <td>Paid Parking</td>\n",
       "      <td>POINT (-122.3547637 47.62449467)</td>\n",
       "      <td>2022-07-20</td>\n",
       "      <td>12:31:00</td>\n",
       "      <td>Wednesday</td>\n",
       "      <td>7.0</td>\n",
       "    </tr>\n",
       "    <tr>\n",
       "      <th>12</th>\n",
       "      <td>07/20/2022 11:22:00 AM</td>\n",
       "      <td>1.0</td>\n",
       "      <td>REPUBLICAN ST BETWEEN 8TH AVE N AND 9TH AVE N</td>\n",
       "      <td>80545.0</td>\n",
       "      <td>120.0</td>\n",
       "      <td>5.0</td>\n",
       "      <td>South Lake Union</td>\n",
       "      <td>Paid Parking</td>\n",
       "      <td>POINT (-122.34042507 47.62328513)</td>\n",
       "      <td>2022-07-20</td>\n",
       "      <td>11:22:00</td>\n",
       "      <td>Wednesday</td>\n",
       "      <td>7.0</td>\n",
       "    </tr>\n",
       "    <tr>\n",
       "      <th>13</th>\n",
       "      <td>07/20/2022 04:34:00 PM</td>\n",
       "      <td>3.0</td>\n",
       "      <td>2ND AVE N BETWEEN MERCER ST AND ROY ST</td>\n",
       "      <td>2798.0</td>\n",
       "      <td>240.0</td>\n",
       "      <td>3.0</td>\n",
       "      <td>Uptown</td>\n",
       "      <td>Paid Parking</td>\n",
       "      <td>POINT (-122.35266686 47.62501129)</td>\n",
       "      <td>2022-07-20</td>\n",
       "      <td>16:34:00</td>\n",
       "      <td>Wednesday</td>\n",
       "      <td>7.0</td>\n",
       "    </tr>\n",
       "    <tr>\n",
       "      <th>14</th>\n",
       "      <td>07/20/2022 09:26:00 AM</td>\n",
       "      <td>2.0</td>\n",
       "      <td>N 35TH ST BETWEEN FREMONT AVE N AND TROLL AVE N</td>\n",
       "      <td>83222.0</td>\n",
       "      <td>120.0</td>\n",
       "      <td>4.0</td>\n",
       "      <td>Fremont</td>\n",
       "      <td>Paid Parking</td>\n",
       "      <td>POINT (-122.34859641 47.65027486)</td>\n",
       "      <td>2022-07-20</td>\n",
       "      <td>09:26:00</td>\n",
       "      <td>Wednesday</td>\n",
       "      <td>7.0</td>\n",
       "    </tr>\n",
       "    <tr>\n",
       "      <th>15</th>\n",
       "      <td>07/20/2022 02:41:00 PM</td>\n",
       "      <td>5.0</td>\n",
       "      <td>10TH AVE BETWEEN E PIKE ST AND E PINE ST</td>\n",
       "      <td>1233.0</td>\n",
       "      <td>120.0</td>\n",
       "      <td>9.0</td>\n",
       "      <td>Pike-Pine</td>\n",
       "      <td>Paid Parking</td>\n",
       "      <td>POINT (-122.31955777 47.61468219)</td>\n",
       "      <td>2022-07-20</td>\n",
       "      <td>14:41:00</td>\n",
       "      <td>Wednesday</td>\n",
       "      <td>7.0</td>\n",
       "    </tr>\n",
       "    <tr>\n",
       "      <th>16</th>\n",
       "      <td>07/20/2022 12:19:00 PM</td>\n",
       "      <td>6.0</td>\n",
       "      <td>TALLMAN AVE NW BETWEEN NW IONE PL AND NW CENTR...</td>\n",
       "      <td>13045.0</td>\n",
       "      <td>240.0</td>\n",
       "      <td>9.0</td>\n",
       "      <td>Ballard</td>\n",
       "      <td>Paid Parking</td>\n",
       "      <td>POINT (-122.37969237 47.66686786)</td>\n",
       "      <td>2022-07-20</td>\n",
       "      <td>12:19:00</td>\n",
       "      <td>Wednesday</td>\n",
       "      <td>7.0</td>\n",
       "    </tr>\n",
       "    <tr>\n",
       "      <th>17</th>\n",
       "      <td>07/20/2022 05:51:00 PM</td>\n",
       "      <td>3.0</td>\n",
       "      <td>HARRISON ST BETWEEN DEXTER AVE N AND 8TH AVE N</td>\n",
       "      <td>10869.0</td>\n",
       "      <td>600.0</td>\n",
       "      <td>5.0</td>\n",
       "      <td>South Lake Union</td>\n",
       "      <td>Paid Parking</td>\n",
       "      <td>POINT (-122.34169609 47.62213569)</td>\n",
       "      <td>2022-07-20</td>\n",
       "      <td>17:51:00</td>\n",
       "      <td>Wednesday</td>\n",
       "      <td>7.0</td>\n",
       "    </tr>\n",
       "    <tr>\n",
       "      <th>18</th>\n",
       "      <td>07/20/2022 12:27:00 PM</td>\n",
       "      <td>11.0</td>\n",
       "      <td>VINE ST BETWEEN 3RD AVE AND 4TH AVE</td>\n",
       "      <td>81290.0</td>\n",
       "      <td>240.0</td>\n",
       "      <td>11.0</td>\n",
       "      <td>Belltown</td>\n",
       "      <td>Paid Parking</td>\n",
       "      <td>POINT (-122.34744013 47.616859)</td>\n",
       "      <td>2022-07-20</td>\n",
       "      <td>12:27:00</td>\n",
       "      <td>Wednesday</td>\n",
       "      <td>7.0</td>\n",
       "    </tr>\n",
       "    <tr>\n",
       "      <th>19</th>\n",
       "      <td>07/20/2022 11:08:00 AM</td>\n",
       "      <td>4.0</td>\n",
       "      <td>3RD AVE BETWEEN BELL ST AND BATTERY ST</td>\n",
       "      <td>27277.0</td>\n",
       "      <td>240.0</td>\n",
       "      <td>8.0</td>\n",
       "      <td>Belltown</td>\n",
       "      <td>Paid Parking</td>\n",
       "      <td>POINT (-122.34549499 47.61500973)</td>\n",
       "      <td>2022-07-20</td>\n",
       "      <td>11:08:00</td>\n",
       "      <td>Wednesday</td>\n",
       "      <td>7.0</td>\n",
       "    </tr>\n",
       "    <tr>\n",
       "      <th>20</th>\n",
       "      <td>07/20/2022 01:14:00 PM</td>\n",
       "      <td>1.0</td>\n",
       "      <td>BOYLSTON AVE BETWEEN E UNION ST AND E PIKE ST</td>\n",
       "      <td>32173.0</td>\n",
       "      <td>120.0</td>\n",
       "      <td>9.0</td>\n",
       "      <td>Pike-Pine</td>\n",
       "      <td>Restricted Parking Zone</td>\n",
       "      <td>POINT (-122.32346094 47.61352495)</td>\n",
       "      <td>2022-07-20</td>\n",
       "      <td>13:14:00</td>\n",
       "      <td>Wednesday</td>\n",
       "      <td>7.0</td>\n",
       "    </tr>\n",
       "    <tr>\n",
       "      <th>21</th>\n",
       "      <td>07/20/2022 09:03:00 AM</td>\n",
       "      <td>1.0</td>\n",
       "      <td>1ST AVE BETWEEN CHERRY ST AND COLUMBIA ST</td>\n",
       "      <td>1002.0</td>\n",
       "      <td>120.0</td>\n",
       "      <td>8.0</td>\n",
       "      <td>Pioneer Square</td>\n",
       "      <td>Paid Parking</td>\n",
       "      <td>POINT (-122.33451266 47.60294861)</td>\n",
       "      <td>2022-07-20</td>\n",
       "      <td>09:03:00</td>\n",
       "      <td>Wednesday</td>\n",
       "      <td>7.0</td>\n",
       "    </tr>\n",
       "    <tr>\n",
       "      <th>22</th>\n",
       "      <td>07/20/2022 07:37:00 PM</td>\n",
       "      <td>4.0</td>\n",
       "      <td>S KING ST BETWEEN 7TH AVE S AND CANTON AL S</td>\n",
       "      <td>20846.0</td>\n",
       "      <td>120.0</td>\n",
       "      <td>3.0</td>\n",
       "      <td>Chinatown/ID</td>\n",
       "      <td>Paid Parking</td>\n",
       "      <td>POINT (-122.32338342 47.5982855)</td>\n",
       "      <td>2022-07-20</td>\n",
       "      <td>19:37:00</td>\n",
       "      <td>Wednesday</td>\n",
       "      <td>7.0</td>\n",
       "    </tr>\n",
       "    <tr>\n",
       "      <th>23</th>\n",
       "      <td>07/20/2022 04:29:00 PM</td>\n",
       "      <td>3.0</td>\n",
       "      <td>BROOKLYN AVE NE BETWEEN NE 43RD ST AND NE 45TH ST</td>\n",
       "      <td>77393.0</td>\n",
       "      <td>120.0</td>\n",
       "      <td>8.0</td>\n",
       "      <td>University District</td>\n",
       "      <td>Paid Parking</td>\n",
       "      <td>POINT (-122.31439334 47.6605153)</td>\n",
       "      <td>2022-07-20</td>\n",
       "      <td>16:29:00</td>\n",
       "      <td>Wednesday</td>\n",
       "      <td>7.0</td>\n",
       "    </tr>\n",
       "    <tr>\n",
       "      <th>24</th>\n",
       "      <td>07/20/2022 04:19:00 PM</td>\n",
       "      <td>6.0</td>\n",
       "      <td>UNIVERSITY ST BETWEEN 1ST AVE AND 2ND AVE</td>\n",
       "      <td>58493.0</td>\n",
       "      <td>120.0</td>\n",
       "      <td>6.0</td>\n",
       "      <td>Commercial Core</td>\n",
       "      <td>Paid Parking</td>\n",
       "      <td>POINT (-122.33768158 47.60710524)</td>\n",
       "      <td>2022-07-20</td>\n",
       "      <td>16:19:00</td>\n",
       "      <td>Wednesday</td>\n",
       "      <td>7.0</td>\n",
       "    </tr>\n",
       "    <tr>\n",
       "      <th>25</th>\n",
       "      <td>07/20/2022 10:22:00 AM</td>\n",
       "      <td>4.0</td>\n",
       "      <td>UNION ST BETWEEN 2ND AVE AND 3RD AVE</td>\n",
       "      <td>35794.0</td>\n",
       "      <td>120.0</td>\n",
       "      <td>4.0</td>\n",
       "      <td>Commercial Core</td>\n",
       "      <td>Paid Parking</td>\n",
       "      <td>POINT (-122.33737977 47.60848168)</td>\n",
       "      <td>2022-07-20</td>\n",
       "      <td>10:22:00</td>\n",
       "      <td>Wednesday</td>\n",
       "      <td>7.0</td>\n",
       "    </tr>\n",
       "    <tr>\n",
       "      <th>26</th>\n",
       "      <td>07/20/2022 09:26:00 AM</td>\n",
       "      <td>1.0</td>\n",
       "      <td>2ND AVE BETWEEN STEWART ST AND VIRGINIA ST</td>\n",
       "      <td>25706.0</td>\n",
       "      <td>120.0</td>\n",
       "      <td>7.0</td>\n",
       "      <td>Belltown</td>\n",
       "      <td>Paid Parking</td>\n",
       "      <td>POINT (-122.34102039 47.61140567)</td>\n",
       "      <td>2022-07-20</td>\n",
       "      <td>09:26:00</td>\n",
       "      <td>Wednesday</td>\n",
       "      <td>7.0</td>\n",
       "    </tr>\n",
       "    <tr>\n",
       "      <th>27</th>\n",
       "      <td>07/20/2022 08:58:00 PM</td>\n",
       "      <td>5.0</td>\n",
       "      <td>E PIKE ST BETWEEN 12TH AVE AND 13TH AVE</td>\n",
       "      <td>59966.0</td>\n",
       "      <td>120.0</td>\n",
       "      <td>10.0</td>\n",
       "      <td>Pike-Pine</td>\n",
       "      <td>Paid Parking</td>\n",
       "      <td>POINT (-122.31615961 47.61403722)</td>\n",
       "      <td>2022-07-20</td>\n",
       "      <td>20:58:00</td>\n",
       "      <td>Wednesday</td>\n",
       "      <td>7.0</td>\n",
       "    </tr>\n",
       "    <tr>\n",
       "      <th>28</th>\n",
       "      <td>07/20/2022 06:37:00 PM</td>\n",
       "      <td>1.0</td>\n",
       "      <td>S LANE ST BETWEEN 6TH AVE S AND MAYNARD AVE S</td>\n",
       "      <td>43118.0</td>\n",
       "      <td>120.0</td>\n",
       "      <td>6.0</td>\n",
       "      <td>Chinatown/ID</td>\n",
       "      <td>Paid Parking</td>\n",
       "      <td>POINT (-122.32571811 47.59660677)</td>\n",
       "      <td>2022-07-20</td>\n",
       "      <td>18:37:00</td>\n",
       "      <td>Wednesday</td>\n",
       "      <td>7.0</td>\n",
       "    </tr>\n",
       "    <tr>\n",
       "      <th>29</th>\n",
       "      <td>07/20/2022 02:40:00 PM</td>\n",
       "      <td>1.0</td>\n",
       "      <td>UNIVERSITY ST BETWEEN SUMMIT AVE AND BOYLSTON ...</td>\n",
       "      <td>13197.0</td>\n",
       "      <td>120.0</td>\n",
       "      <td>6.0</td>\n",
       "      <td>First Hill</td>\n",
       "      <td>Restricted Parking Zone</td>\n",
       "      <td>POINT (-122.32435978 47.6126884)</td>\n",
       "      <td>2022-07-20</td>\n",
       "      <td>14:40:00</td>\n",
       "      <td>Wednesday</td>\n",
       "      <td>7.0</td>\n",
       "    </tr>\n",
       "    <tr>\n",
       "      <th>30</th>\n",
       "      <td>07/20/2022 07:11:00 PM</td>\n",
       "      <td>2.0</td>\n",
       "      <td>MARION ST BETWEEN TERRY AVE AND BOREN AVE</td>\n",
       "      <td>34305.0</td>\n",
       "      <td>120.0</td>\n",
       "      <td>5.0</td>\n",
       "      <td>First Hill</td>\n",
       "      <td>Paid Parking</td>\n",
       "      <td>POINT (-122.32507698 47.60843237)</td>\n",
       "      <td>2022-07-20</td>\n",
       "      <td>19:11:00</td>\n",
       "      <td>Wednesday</td>\n",
       "      <td>7.0</td>\n",
       "    </tr>\n",
       "    <tr>\n",
       "      <th>31</th>\n",
       "      <td>07/20/2022 06:50:00 PM</td>\n",
       "      <td>4.0</td>\n",
       "      <td>7TH AVE BETWEEN WESTLAKE AVE AND LENORA ST</td>\n",
       "      <td>53429.0</td>\n",
       "      <td>120.0</td>\n",
       "      <td>4.0</td>\n",
       "      <td>Denny Triangle</td>\n",
       "      <td>Paid Parking</td>\n",
       "      <td>POINT (-122.33836153 47.61548441)</td>\n",
       "      <td>2022-07-20</td>\n",
       "      <td>18:50:00</td>\n",
       "      <td>Wednesday</td>\n",
       "      <td>7.0</td>\n",
       "    </tr>\n",
       "    <tr>\n",
       "      <th>32</th>\n",
       "      <td>07/20/2022 04:09:00 PM</td>\n",
       "      <td>2.0</td>\n",
       "      <td>S WASHINGTON ST BETWEEN ALASKAN E RDWY WAY S A...</td>\n",
       "      <td>21765.0</td>\n",
       "      <td>120.0</td>\n",
       "      <td>3.0</td>\n",
       "      <td>Pioneer Square</td>\n",
       "      <td>Paid Parking</td>\n",
       "      <td>POINT (-122.33489185 47.60093944)</td>\n",
       "      <td>2022-07-20</td>\n",
       "      <td>16:09:00</td>\n",
       "      <td>Wednesday</td>\n",
       "      <td>7.0</td>\n",
       "    </tr>\n",
       "    <tr>\n",
       "      <th>33</th>\n",
       "      <td>07/20/2022 01:33:00 PM</td>\n",
       "      <td>5.0</td>\n",
       "      <td>8TH AVE N BETWEEN REPUBLICAN ST AND MERCER SR ST</td>\n",
       "      <td>8401.0</td>\n",
       "      <td>600.0</td>\n",
       "      <td>11.0</td>\n",
       "      <td>South Lake Union</td>\n",
       "      <td>Paid Parking</td>\n",
       "      <td>POINT (-122.34116298 47.6239067)</td>\n",
       "      <td>2022-07-20</td>\n",
       "      <td>13:33:00</td>\n",
       "      <td>Wednesday</td>\n",
       "      <td>7.0</td>\n",
       "    </tr>\n",
       "    <tr>\n",
       "      <th>34</th>\n",
       "      <td>07/20/2022 12:11:00 PM</td>\n",
       "      <td>2.0</td>\n",
       "      <td>COLUMBIA ST BETWEEN TERRY AVE AND BOREN AVE</td>\n",
       "      <td>55030.0</td>\n",
       "      <td>120.0</td>\n",
       "      <td>3.0</td>\n",
       "      <td>First Hill</td>\n",
       "      <td>Paid Parking</td>\n",
       "      <td>POINT (-122.32435775 47.60764057)</td>\n",
       "      <td>2022-07-20</td>\n",
       "      <td>12:11:00</td>\n",
       "      <td>Wednesday</td>\n",
       "      <td>7.0</td>\n",
       "    </tr>\n",
       "  </tbody>\n",
       "</table>\n",
       "</div>"
      ],
      "text/plain": [
       "         OccupancyDateTime PaidOccupancy  \\\n",
       "0   07/20/2022 06:23:00 PM           1.0   \n",
       "1   07/20/2022 07:42:00 PM           4.0   \n",
       "2   07/20/2022 06:34:00 PM           4.0   \n",
       "3   07/20/2022 05:37:00 PM           8.0   \n",
       "4   07/20/2022 10:28:00 AM          10.0   \n",
       "5   07/20/2022 12:26:00 PM           1.0   \n",
       "6   07/20/2022 07:26:00 PM           1.0   \n",
       "7   07/20/2022 11:32:00 AM           3.0   \n",
       "8   07/20/2022 03:12:00 PM           7.0   \n",
       "9   07/20/2022 11:33:00 AM           2.0   \n",
       "10  07/20/2022 12:28:00 PM           6.0   \n",
       "11  07/20/2022 12:31:00 PM           1.0   \n",
       "12  07/20/2022 11:22:00 AM           1.0   \n",
       "13  07/20/2022 04:34:00 PM           3.0   \n",
       "14  07/20/2022 09:26:00 AM           2.0   \n",
       "15  07/20/2022 02:41:00 PM           5.0   \n",
       "16  07/20/2022 12:19:00 PM           6.0   \n",
       "17  07/20/2022 05:51:00 PM           3.0   \n",
       "18  07/20/2022 12:27:00 PM          11.0   \n",
       "19  07/20/2022 11:08:00 AM           4.0   \n",
       "20  07/20/2022 01:14:00 PM           1.0   \n",
       "21  07/20/2022 09:03:00 AM           1.0   \n",
       "22  07/20/2022 07:37:00 PM           4.0   \n",
       "23  07/20/2022 04:29:00 PM           3.0   \n",
       "24  07/20/2022 04:19:00 PM           6.0   \n",
       "25  07/20/2022 10:22:00 AM           4.0   \n",
       "26  07/20/2022 09:26:00 AM           1.0   \n",
       "27  07/20/2022 08:58:00 PM           5.0   \n",
       "28  07/20/2022 06:37:00 PM           1.0   \n",
       "29  07/20/2022 02:40:00 PM           1.0   \n",
       "30  07/20/2022 07:11:00 PM           2.0   \n",
       "31  07/20/2022 06:50:00 PM           4.0   \n",
       "32  07/20/2022 04:09:00 PM           2.0   \n",
       "33  07/20/2022 01:33:00 PM           5.0   \n",
       "34  07/20/2022 12:11:00 PM           2.0   \n",
       "\n",
       "                                        BlockfaceName SourceElementKey  \\\n",
       "0            4TH AVE BETWEEN MADISON ST AND SPRING ST          51473.0   \n",
       "1            WESTERN AVE BETWEEN CEDAR ST AND CLAY ST          36121.0   \n",
       "2              3RD AVE BETWEEN BATTERY ST AND WALL ST          49658.0   \n",
       "3            ELLIOTT AVE BETWEEN CLAY ST AND BROAD ST          10221.0   \n",
       "4             2ND AVE N BETWEEN DENNY WAY AND JOHN ST          70762.0   \n",
       "5                UNION ST BETWEEN 6TH AVE AND 7TH AVE          81194.0   \n",
       "6     W REPUBLICAN ST BETWEEN 1ST AVE W AND 2ND AVE W          46082.0   \n",
       "7                4TH AVE BETWEEN VINE ST AND CEDAR ST           6198.0   \n",
       "8       MINOR AVE N BETWEEN THOMAS ST AND HARRISON ST          34505.0   \n",
       "9                UNION ST BETWEEN 4TH AVE AND 5TH AVE          35798.0   \n",
       "10     NW 56TH ST BETWEEN 22ND AVE NW AND 24TH AVE NW          86449.0   \n",
       "11       MERCER ST BETWEEN 1ST AVE N AND WARREN AVE N          11766.0   \n",
       "12      REPUBLICAN ST BETWEEN 8TH AVE N AND 9TH AVE N          80545.0   \n",
       "13             2ND AVE N BETWEEN MERCER ST AND ROY ST           2798.0   \n",
       "14    N 35TH ST BETWEEN FREMONT AVE N AND TROLL AVE N          83222.0   \n",
       "15           10TH AVE BETWEEN E PIKE ST AND E PINE ST           1233.0   \n",
       "16  TALLMAN AVE NW BETWEEN NW IONE PL AND NW CENTR...          13045.0   \n",
       "17     HARRISON ST BETWEEN DEXTER AVE N AND 8TH AVE N          10869.0   \n",
       "18                VINE ST BETWEEN 3RD AVE AND 4TH AVE          81290.0   \n",
       "19             3RD AVE BETWEEN BELL ST AND BATTERY ST          27277.0   \n",
       "20      BOYLSTON AVE BETWEEN E UNION ST AND E PIKE ST          32173.0   \n",
       "21          1ST AVE BETWEEN CHERRY ST AND COLUMBIA ST           1002.0   \n",
       "22        S KING ST BETWEEN 7TH AVE S AND CANTON AL S          20846.0   \n",
       "23  BROOKLYN AVE NE BETWEEN NE 43RD ST AND NE 45TH ST          77393.0   \n",
       "24          UNIVERSITY ST BETWEEN 1ST AVE AND 2ND AVE          58493.0   \n",
       "25               UNION ST BETWEEN 2ND AVE AND 3RD AVE          35794.0   \n",
       "26         2ND AVE BETWEEN STEWART ST AND VIRGINIA ST          25706.0   \n",
       "27            E PIKE ST BETWEEN 12TH AVE AND 13TH AVE          59966.0   \n",
       "28      S LANE ST BETWEEN 6TH AVE S AND MAYNARD AVE S          43118.0   \n",
       "29  UNIVERSITY ST BETWEEN SUMMIT AVE AND BOYLSTON ...          13197.0   \n",
       "30          MARION ST BETWEEN TERRY AVE AND BOREN AVE          34305.0   \n",
       "31         7TH AVE BETWEEN WESTLAKE AVE AND LENORA ST          53429.0   \n",
       "32  S WASHINGTON ST BETWEEN ALASKAN E RDWY WAY S A...          21765.0   \n",
       "33   8TH AVE N BETWEEN REPUBLICAN ST AND MERCER SR ST           8401.0   \n",
       "34        COLUMBIA ST BETWEEN TERRY AVE AND BOREN AVE          55030.0   \n",
       "\n",
       "   ParkingTimeLimitCategory ParkingSpaceCount      PaidParkingArea  \\\n",
       "0                     120.0               6.0      Commercial Core   \n",
       "1                     240.0               6.0             Belltown   \n",
       "2                     240.0               7.0             Belltown   \n",
       "3                     240.0               9.0             Belltown   \n",
       "4                     240.0              11.0               Uptown   \n",
       "5                     120.0               6.0      Commercial Core   \n",
       "6                     240.0               9.0               Uptown   \n",
       "7                     240.0               8.0             Belltown   \n",
       "8                     600.0              13.0     South Lake Union   \n",
       "9                     120.0               5.0      Commercial Core   \n",
       "10                    240.0              12.0              Ballard   \n",
       "11                    240.0               4.0               Uptown   \n",
       "12                    120.0               5.0     South Lake Union   \n",
       "13                    240.0               3.0               Uptown   \n",
       "14                    120.0               4.0              Fremont   \n",
       "15                    120.0               9.0            Pike-Pine   \n",
       "16                    240.0               9.0              Ballard   \n",
       "17                    600.0               5.0     South Lake Union   \n",
       "18                    240.0              11.0             Belltown   \n",
       "19                    240.0               8.0             Belltown   \n",
       "20                    120.0               9.0            Pike-Pine   \n",
       "21                    120.0               8.0       Pioneer Square   \n",
       "22                    120.0               3.0         Chinatown/ID   \n",
       "23                    120.0               8.0  University District   \n",
       "24                    120.0               6.0      Commercial Core   \n",
       "25                    120.0               4.0      Commercial Core   \n",
       "26                    120.0               7.0             Belltown   \n",
       "27                    120.0              10.0            Pike-Pine   \n",
       "28                    120.0               6.0         Chinatown/ID   \n",
       "29                    120.0               6.0           First Hill   \n",
       "30                    120.0               5.0           First Hill   \n",
       "31                    120.0               4.0       Denny Triangle   \n",
       "32                    120.0               3.0       Pioneer Square   \n",
       "33                    600.0              11.0     South Lake Union   \n",
       "34                    120.0               3.0           First Hill   \n",
       "\n",
       "            ParkingCategory                           Location        Date  \\\n",
       "0              Paid Parking  POINT (-122.33336524 47.60639351)  2022-07-20   \n",
       "1              Paid Parking  POINT (-122.35199635 47.61536129)  2022-07-20   \n",
       "2              Paid Parking  POINT (-122.34649132 47.61581407)  2022-07-20   \n",
       "3              Paid Parking   POINT (-122.3538062 47.61525792)  2022-07-20   \n",
       "4              Paid Parking   POINT (-122.3526927 47.61920357)  2022-07-20   \n",
       "5              Paid Parking  POINT (-122.33297464 47.61031904)  2022-07-20   \n",
       "6              Paid Parking  POINT (-122.35868143 47.62324243)  2022-07-20   \n",
       "7              Paid Parking  POINT (-122.34746383 47.61757189)  2022-07-20   \n",
       "8              Paid Parking  POINT (-122.33309119 47.62139739)  2022-07-20   \n",
       "9              Paid Parking  POINT (-122.33515851 47.60939858)  2022-07-20   \n",
       "10             Paid Parking  POINT (-122.38614452 47.66951625)  2022-07-20   \n",
       "11             Paid Parking   POINT (-122.3547637 47.62449467)  2022-07-20   \n",
       "12             Paid Parking  POINT (-122.34042507 47.62328513)  2022-07-20   \n",
       "13             Paid Parking  POINT (-122.35266686 47.62501129)  2022-07-20   \n",
       "14             Paid Parking  POINT (-122.34859641 47.65027486)  2022-07-20   \n",
       "15             Paid Parking  POINT (-122.31955777 47.61468219)  2022-07-20   \n",
       "16             Paid Parking  POINT (-122.37969237 47.66686786)  2022-07-20   \n",
       "17             Paid Parking  POINT (-122.34169609 47.62213569)  2022-07-20   \n",
       "18             Paid Parking    POINT (-122.34744013 47.616859)  2022-07-20   \n",
       "19             Paid Parking  POINT (-122.34549499 47.61500973)  2022-07-20   \n",
       "20  Restricted Parking Zone  POINT (-122.32346094 47.61352495)  2022-07-20   \n",
       "21             Paid Parking  POINT (-122.33451266 47.60294861)  2022-07-20   \n",
       "22             Paid Parking   POINT (-122.32338342 47.5982855)  2022-07-20   \n",
       "23             Paid Parking   POINT (-122.31439334 47.6605153)  2022-07-20   \n",
       "24             Paid Parking  POINT (-122.33768158 47.60710524)  2022-07-20   \n",
       "25             Paid Parking  POINT (-122.33737977 47.60848168)  2022-07-20   \n",
       "26             Paid Parking  POINT (-122.34102039 47.61140567)  2022-07-20   \n",
       "27             Paid Parking  POINT (-122.31615961 47.61403722)  2022-07-20   \n",
       "28             Paid Parking  POINT (-122.32571811 47.59660677)  2022-07-20   \n",
       "29  Restricted Parking Zone   POINT (-122.32435978 47.6126884)  2022-07-20   \n",
       "30             Paid Parking  POINT (-122.32507698 47.60843237)  2022-07-20   \n",
       "31             Paid Parking  POINT (-122.33836153 47.61548441)  2022-07-20   \n",
       "32             Paid Parking  POINT (-122.33489185 47.60093944)  2022-07-20   \n",
       "33             Paid Parking   POINT (-122.34116298 47.6239067)  2022-07-20   \n",
       "34             Paid Parking  POINT (-122.32435775 47.60764057)  2022-07-20   \n",
       "\n",
       "        Time    DayWeek  Month  \n",
       "0   18:23:00  Wednesday    7.0  \n",
       "1   19:42:00  Wednesday    7.0  \n",
       "2   18:34:00  Wednesday    7.0  \n",
       "3   17:37:00  Wednesday    7.0  \n",
       "4   10:28:00  Wednesday    7.0  \n",
       "5   12:26:00  Wednesday    7.0  \n",
       "6   19:26:00  Wednesday    7.0  \n",
       "7   11:32:00  Wednesday    7.0  \n",
       "8   15:12:00  Wednesday    7.0  \n",
       "9   11:33:00  Wednesday    7.0  \n",
       "10  12:28:00  Wednesday    7.0  \n",
       "11  12:31:00  Wednesday    7.0  \n",
       "12  11:22:00  Wednesday    7.0  \n",
       "13  16:34:00  Wednesday    7.0  \n",
       "14  09:26:00  Wednesday    7.0  \n",
       "15  14:41:00  Wednesday    7.0  \n",
       "16  12:19:00  Wednesday    7.0  \n",
       "17  17:51:00  Wednesday    7.0  \n",
       "18  12:27:00  Wednesday    7.0  \n",
       "19  11:08:00  Wednesday    7.0  \n",
       "20  13:14:00  Wednesday    7.0  \n",
       "21  09:03:00  Wednesday    7.0  \n",
       "22  19:37:00  Wednesday    7.0  \n",
       "23  16:29:00  Wednesday    7.0  \n",
       "24  16:19:00  Wednesday    7.0  \n",
       "25  10:22:00  Wednesday    7.0  \n",
       "26  09:26:00  Wednesday    7.0  \n",
       "27  20:58:00  Wednesday    7.0  \n",
       "28  18:37:00  Wednesday    7.0  \n",
       "29  14:40:00  Wednesday    7.0  \n",
       "30  19:11:00  Wednesday    7.0  \n",
       "31  18:50:00  Wednesday    7.0  \n",
       "32  16:09:00  Wednesday    7.0  \n",
       "33  13:33:00  Wednesday    7.0  \n",
       "34  12:11:00  Wednesday    7.0  "
      ]
     },
     "execution_count": 31,
     "metadata": {},
     "output_type": "execute_result"
    }
   ],
   "source": [
    "parking_30days.head(35)"
   ]
  },
  {
   "cell_type": "markdown",
   "id": "fef01267",
   "metadata": {},
   "source": [
    "Everything looks good"
   ]
  },
  {
   "cell_type": "code",
   "execution_count": 32,
   "id": "39f74386",
   "metadata": {},
   "outputs": [],
   "source": [
    "parking_30days.to_csv('parking_30days.csv')"
   ]
  },
  {
   "cell_type": "markdown",
   "id": "84f24e5a",
   "metadata": {},
   "source": [
    "### public_location data preparation"
   ]
  },
  {
   "cell_type": "code",
   "execution_count": 33,
   "id": "1bc1d9e6",
   "metadata": {},
   "outputs": [
    {
     "data": {
      "text/plain": [
       "(126, 20)"
      ]
     },
     "execution_count": 33,
     "metadata": {},
     "output_type": "execute_result"
    }
   ],
   "source": [
    "public_location.shape"
   ]
  },
  {
   "cell_type": "code",
   "execution_count": 34,
   "id": "caf03748",
   "metadata": {},
   "outputs": [
    {
     "name": "stdout",
     "output_type": "stream",
     "text": [
      "<class 'pandas.core.frame.DataFrame'>\n",
      "RangeIndex: 126 entries, 0 to 125\n",
      "Data columns (total 20 columns):\n",
      " #   Column                                    Non-Null Count  Dtype  \n",
      "---  ------                                    --------------  -----  \n",
      " 0   location_id                               126 non-null    object \n",
      " 1   location_name_primary                     126 non-null    object \n",
      " 2   location_name_secondary                   126 non-null    object \n",
      " 3   location_detail                           124 non-null    object \n",
      " 4   location_blockface_elmntkey               120 non-null    float64\n",
      " 5   location_sidewalk_compkey                 121 non-null    object \n",
      " 6   location_transit_stop_present             125 non-null    object \n",
      " 7   location_neighborhood_type                126 non-null    object \n",
      " 8   location_neighborhood                     126 non-null    object \n",
      " 9   location_character                        126 non-null    object \n",
      " 10  location_line_typology_vehicular          126 non-null    object \n",
      " 11  location_area_typology                    126 non-null    object \n",
      " 12  location_area_typology_subcategory        122 non-null    object \n",
      " 13  location_total_sqft                       123 non-null    float64\n",
      " 14  location_average_number_commercial_seats  110 non-null    float64\n",
      " 15  location_average_number_public_seats      110 non-null    float64\n",
      " 16  location_country                          126 non-null    object \n",
      " 17  location_region                           126 non-null    object \n",
      " 18  location_city                             126 non-null    object \n",
      " 19  location_notes                            7 non-null      object \n",
      "dtypes: float64(4), object(16)\n",
      "memory usage: 19.8+ KB\n"
     ]
    }
   ],
   "source": [
    "public_location.info()"
   ]
  },
  {
   "cell_type": "code",
   "execution_count": 35,
   "id": "88a3ed43",
   "metadata": {},
   "outputs": [
    {
     "data": {
      "text/plain": [
       "location_id                                   0\n",
       "location_name_primary                         0\n",
       "location_name_secondary                       0\n",
       "location_detail                               2\n",
       "location_blockface_elmntkey                   6\n",
       "location_sidewalk_compkey                     5\n",
       "location_transit_stop_present                 1\n",
       "location_neighborhood_type                    0\n",
       "location_neighborhood                         0\n",
       "location_character                            0\n",
       "location_line_typology_vehicular              0\n",
       "location_area_typology                        0\n",
       "location_area_typology_subcategory            4\n",
       "location_total_sqft                           3\n",
       "location_average_number_commercial_seats     16\n",
       "location_average_number_public_seats         16\n",
       "location_country                              0\n",
       "location_region                               0\n",
       "location_city                                 0\n",
       "location_notes                              119\n",
       "dtype: int64"
      ]
     },
     "execution_count": 35,
     "metadata": {},
     "output_type": "execute_result"
    }
   ],
   "source": [
    "public_location.isnull().sum()"
   ]
  },
  {
   "cell_type": "code",
   "execution_count": 36,
   "id": "f1f2c75f",
   "metadata": {},
   "outputs": [
    {
     "data": {
      "text/html": [
       "<div>\n",
       "<style scoped>\n",
       "    .dataframe tbody tr th:only-of-type {\n",
       "        vertical-align: middle;\n",
       "    }\n",
       "\n",
       "    .dataframe tbody tr th {\n",
       "        vertical-align: top;\n",
       "    }\n",
       "\n",
       "    .dataframe thead th {\n",
       "        text-align: right;\n",
       "    }\n",
       "</style>\n",
       "<table border=\"1\" class=\"dataframe\">\n",
       "  <thead>\n",
       "    <tr style=\"text-align: right;\">\n",
       "      <th></th>\n",
       "      <th>location_id</th>\n",
       "      <th>location_name_primary</th>\n",
       "      <th>location_name_secondary</th>\n",
       "      <th>location_detail</th>\n",
       "      <th>location_blockface_elmntkey</th>\n",
       "      <th>location_sidewalk_compkey</th>\n",
       "      <th>location_transit_stop_present</th>\n",
       "      <th>location_neighborhood_type</th>\n",
       "      <th>location_neighborhood</th>\n",
       "      <th>location_character</th>\n",
       "      <th>location_line_typology_vehicular</th>\n",
       "      <th>location_area_typology</th>\n",
       "      <th>location_area_typology_subcategory</th>\n",
       "      <th>location_total_sqft</th>\n",
       "      <th>location_average_number_commercial_seats</th>\n",
       "      <th>location_average_number_public_seats</th>\n",
       "      <th>location_country</th>\n",
       "      <th>location_region</th>\n",
       "      <th>location_city</th>\n",
       "      <th>location_notes</th>\n",
       "    </tr>\n",
       "  </thead>\n",
       "  <tbody>\n",
       "    <tr>\n",
       "      <th>0</th>\n",
       "      <td>ALK1</td>\n",
       "      <td>ALKI AVE SW</td>\n",
       "      <td>BETWEEN MARINE AVE SW AND 59TH AVE SW</td>\n",
       "      <td>SE</td>\n",
       "      <td>76698.0</td>\n",
       "      <td>318968</td>\n",
       "      <td>Bus</td>\n",
       "      <td>Outside</td>\n",
       "      <td>Alki</td>\n",
       "      <td>Commercial</td>\n",
       "      <td>Neighborhood Corridor</td>\n",
       "      <td>Street</td>\n",
       "      <td>Block face</td>\n",
       "      <td>2480.0</td>\n",
       "      <td>0.0</td>\n",
       "      <td>6.0</td>\n",
       "      <td>United States of America</td>\n",
       "      <td>Washington</td>\n",
       "      <td>Seattle</td>\n",
       "      <td>NaN</td>\n",
       "    </tr>\n",
       "    <tr>\n",
       "      <th>1</th>\n",
       "      <td>ALK2</td>\n",
       "      <td>ALKI AVE SW</td>\n",
       "      <td>BETWEEN 57TH AVE SW AND 58TH AVE SW</td>\n",
       "      <td>SE</td>\n",
       "      <td>8914.0</td>\n",
       "      <td>318972</td>\n",
       "      <td>None</td>\n",
       "      <td>Outside</td>\n",
       "      <td>Alki</td>\n",
       "      <td>Commercial</td>\n",
       "      <td>Neighborhood Corridor</td>\n",
       "      <td>Street</td>\n",
       "      <td>Block face</td>\n",
       "      <td>1428.0</td>\n",
       "      <td>23.0</td>\n",
       "      <td>0.0</td>\n",
       "      <td>United States of America</td>\n",
       "      <td>Washington</td>\n",
       "      <td>Seattle</td>\n",
       "      <td>NaN</td>\n",
       "    </tr>\n",
       "  </tbody>\n",
       "</table>\n",
       "</div>"
      ],
      "text/plain": [
       "  location_id location_name_primary                location_name_secondary  \\\n",
       "0        ALK1           ALKI AVE SW  BETWEEN MARINE AVE SW AND 59TH AVE SW   \n",
       "1        ALK2           ALKI AVE SW    BETWEEN 57TH AVE SW AND 58TH AVE SW   \n",
       "\n",
       "  location_detail  location_blockface_elmntkey location_sidewalk_compkey  \\\n",
       "0              SE                      76698.0                    318968   \n",
       "1              SE                       8914.0                    318972   \n",
       "\n",
       "  location_transit_stop_present location_neighborhood_type  \\\n",
       "0                           Bus                    Outside   \n",
       "1                          None                    Outside   \n",
       "\n",
       "  location_neighborhood location_character location_line_typology_vehicular  \\\n",
       "0                  Alki         Commercial            Neighborhood Corridor   \n",
       "1                  Alki         Commercial            Neighborhood Corridor   \n",
       "\n",
       "  location_area_typology location_area_typology_subcategory  \\\n",
       "0                 Street                         Block face   \n",
       "1                 Street                         Block face   \n",
       "\n",
       "   location_total_sqft  location_average_number_commercial_seats  \\\n",
       "0               2480.0                                       0.0   \n",
       "1               1428.0                                      23.0   \n",
       "\n",
       "   location_average_number_public_seats          location_country  \\\n",
       "0                                   6.0  United States of America   \n",
       "1                                   0.0  United States of America   \n",
       "\n",
       "  location_region location_city location_notes  \n",
       "0      Washington       Seattle            NaN  \n",
       "1      Washington       Seattle            NaN  "
      ]
     },
     "execution_count": 36,
     "metadata": {},
     "output_type": "execute_result"
    }
   ],
   "source": [
    "public_location.head(2)"
   ]
  },
  {
   "cell_type": "code",
   "execution_count": 37,
   "id": "c59f2ef6",
   "metadata": {},
   "outputs": [
    {
     "data": {
      "text/plain": [
       "Index(['location_id', 'location_name_primary', 'location_name_secondary',\n",
       "       'location_detail', 'location_blockface_elmntkey',\n",
       "       'location_sidewalk_compkey', 'location_transit_stop_present',\n",
       "       'location_neighborhood_type', 'location_neighborhood',\n",
       "       'location_character', 'location_line_typology_vehicular',\n",
       "       'location_area_typology', 'location_area_typology_subcategory',\n",
       "       'location_total_sqft', 'location_average_number_commercial_seats',\n",
       "       'location_average_number_public_seats', 'location_country',\n",
       "       'location_region', 'location_city', 'location_notes'],\n",
       "      dtype='object')"
      ]
     },
     "execution_count": 37,
     "metadata": {},
     "output_type": "execute_result"
    }
   ],
   "source": [
    "public_location.columns"
   ]
  },
  {
   "cell_type": "code",
   "execution_count": 38,
   "id": "a33833a4",
   "metadata": {},
   "outputs": [],
   "source": [
    "# drop unusable columns\n",
    "public_location = public_location.drop(['location_detail', 'location_sidewalk_compkey', 'location_area_typology', 'location_total_sqft', 'location_transit_stop_present', 'location_neighborhood_type', 'location_line_typology_vehicular', 'location_country',\n",
    "       'location_region', 'location_city', 'location_notes'], axis=1)"
   ]
  },
  {
   "cell_type": "code",
   "execution_count": 39,
   "id": "62a4a769",
   "metadata": {},
   "outputs": [
    {
     "data": {
      "text/html": [
       "<div>\n",
       "<style scoped>\n",
       "    .dataframe tbody tr th:only-of-type {\n",
       "        vertical-align: middle;\n",
       "    }\n",
       "\n",
       "    .dataframe tbody tr th {\n",
       "        vertical-align: top;\n",
       "    }\n",
       "\n",
       "    .dataframe thead th {\n",
       "        text-align: right;\n",
       "    }\n",
       "</style>\n",
       "<table border=\"1\" class=\"dataframe\">\n",
       "  <thead>\n",
       "    <tr style=\"text-align: right;\">\n",
       "      <th></th>\n",
       "      <th>location_id</th>\n",
       "      <th>location_name_primary</th>\n",
       "      <th>location_name_secondary</th>\n",
       "      <th>location_blockface_elmntkey</th>\n",
       "      <th>location_neighborhood</th>\n",
       "      <th>location_character</th>\n",
       "      <th>location_area_typology_subcategory</th>\n",
       "      <th>location_average_number_commercial_seats</th>\n",
       "      <th>location_average_number_public_seats</th>\n",
       "    </tr>\n",
       "  </thead>\n",
       "  <tbody>\n",
       "    <tr>\n",
       "      <th>0</th>\n",
       "      <td>ALK1</td>\n",
       "      <td>ALKI AVE SW</td>\n",
       "      <td>BETWEEN MARINE AVE SW AND 59TH AVE SW</td>\n",
       "      <td>76698.0</td>\n",
       "      <td>Alki</td>\n",
       "      <td>Commercial</td>\n",
       "      <td>Block face</td>\n",
       "      <td>0.0</td>\n",
       "      <td>6.0</td>\n",
       "    </tr>\n",
       "    <tr>\n",
       "      <th>1</th>\n",
       "      <td>ALK2</td>\n",
       "      <td>ALKI AVE SW</td>\n",
       "      <td>BETWEEN 57TH AVE SW AND 58TH AVE SW</td>\n",
       "      <td>8914.0</td>\n",
       "      <td>Alki</td>\n",
       "      <td>Commercial</td>\n",
       "      <td>Block face</td>\n",
       "      <td>23.0</td>\n",
       "      <td>0.0</td>\n",
       "    </tr>\n",
       "  </tbody>\n",
       "</table>\n",
       "</div>"
      ],
      "text/plain": [
       "  location_id location_name_primary                location_name_secondary  \\\n",
       "0        ALK1           ALKI AVE SW  BETWEEN MARINE AVE SW AND 59TH AVE SW   \n",
       "1        ALK2           ALKI AVE SW    BETWEEN 57TH AVE SW AND 58TH AVE SW   \n",
       "\n",
       "   location_blockface_elmntkey location_neighborhood location_character  \\\n",
       "0                      76698.0                  Alki         Commercial   \n",
       "1                       8914.0                  Alki         Commercial   \n",
       "\n",
       "  location_area_typology_subcategory  \\\n",
       "0                         Block face   \n",
       "1                         Block face   \n",
       "\n",
       "   location_average_number_commercial_seats  \\\n",
       "0                                       0.0   \n",
       "1                                      23.0   \n",
       "\n",
       "   location_average_number_public_seats  \n",
       "0                                   6.0  \n",
       "1                                   0.0  "
      ]
     },
     "execution_count": 39,
     "metadata": {},
     "output_type": "execute_result"
    }
   ],
   "source": [
    "public_location.head(2)"
   ]
  },
  {
   "cell_type": "code",
   "execution_count": 40,
   "id": "3952d4a0",
   "metadata": {},
   "outputs": [
    {
     "data": {
      "text/plain": [
       "location_id                                  0\n",
       "location_name_primary                        0\n",
       "location_name_secondary                      0\n",
       "location_blockface_elmntkey                  6\n",
       "location_neighborhood                        0\n",
       "location_character                           0\n",
       "location_area_typology_subcategory           4\n",
       "location_average_number_commercial_seats    16\n",
       "location_average_number_public_seats        16\n",
       "dtype: int64"
      ]
     },
     "execution_count": 40,
     "metadata": {},
     "output_type": "execute_result"
    }
   ],
   "source": [
    "public_location.isnull().sum()"
   ]
  },
  {
   "cell_type": "code",
   "execution_count": 41,
   "id": "419ae65e",
   "metadata": {},
   "outputs": [],
   "source": [
    "# drop rows with Nan in 'location_blockface_elmntkey', because it is a primarykey in join with other column\n",
    "public_location= public_location.dropna(subset=['location_blockface_elmntkey'])"
   ]
  },
  {
   "cell_type": "code",
   "execution_count": 42,
   "id": "d66e5417",
   "metadata": {},
   "outputs": [],
   "source": [
    "# drop rows with Nan in 'location_average_number_commercial_seats' and 'location_average_number_public_seats' because we cannot to calculate the ocupancy of seat or change it on 0\n",
    "#(clarify it during calculation). Now fill it with 0\n",
    "public_location = public_location.fillna(0)"
   ]
  },
  {
   "cell_type": "code",
   "execution_count": 43,
   "id": "abfb13df",
   "metadata": {},
   "outputs": [
    {
     "data": {
      "text/plain": [
       "location_id                                 0\n",
       "location_name_primary                       0\n",
       "location_name_secondary                     0\n",
       "location_blockface_elmntkey                 0\n",
       "location_neighborhood                       0\n",
       "location_character                          0\n",
       "location_area_typology_subcategory          0\n",
       "location_average_number_commercial_seats    0\n",
       "location_average_number_public_seats        0\n",
       "dtype: int64"
      ]
     },
     "execution_count": 43,
     "metadata": {},
     "output_type": "execute_result"
    }
   ],
   "source": [
    "public_location.isnull().sum()"
   ]
  },
  {
   "cell_type": "code",
   "execution_count": 44,
   "id": "cb8aaa2b",
   "metadata": {},
   "outputs": [
    {
     "data": {
      "text/plain": [
       "(120, 9)"
      ]
     },
     "execution_count": 44,
     "metadata": {},
     "output_type": "execute_result"
    }
   ],
   "source": [
    "public_location.shape"
   ]
  },
  {
   "cell_type": "code",
   "execution_count": 45,
   "id": "d18a7843",
   "metadata": {},
   "outputs": [],
   "source": [
    "public_location.to_csv('public_location.csv')"
   ]
  },
  {
   "cell_type": "markdown",
   "id": "255e53ff",
   "metadata": {},
   "source": [
    "Now everything looks good"
   ]
  },
  {
   "cell_type": "markdown",
   "id": "fe7a146a",
   "metadata": {},
   "source": [
    "### public_staying preparation"
   ]
  },
  {
   "cell_type": "code",
   "execution_count": 46,
   "id": "c1a85ce3",
   "metadata": {},
   "outputs": [
    {
     "data": {
      "text/plain": [
       "(11202, 50)"
      ]
     },
     "execution_count": 46,
     "metadata": {},
     "output_type": "execute_result"
    }
   ],
   "source": [
    "public_staying.shape"
   ]
  },
  {
   "cell_type": "code",
   "execution_count": 47,
   "id": "b64f44a8",
   "metadata": {},
   "outputs": [
    {
     "name": "stdout",
     "output_type": "stream",
     "text": [
      "<class 'pandas.core.frame.DataFrame'>\n",
      "RangeIndex: 11202 entries, 0 to 11201\n",
      "Data columns (total 50 columns):\n",
      " #   Column                                       Non-Null Count  Dtype  \n",
      "---  ------                                       --------------  -----  \n",
      " 0   unique_staying_id                            11202 non-null  int64  \n",
      " 1   study_id                                     11202 non-null  object \n",
      " 2   location_id                                  11202 non-null  object \n",
      " 3   staying_time_start                           11202 non-null  object \n",
      " 4   staying_time_end                             11202 non-null  object \n",
      " 5   staying_day_of_week                          11202 non-null  object \n",
      " 6   staying_time_of_day                          11202 non-null  object \n",
      " 7   staying_count_surveyor                       11202 non-null  object \n",
      " 8   staying_conditions                           953 non-null    object \n",
      " 9   staying_microclimate                         6662 non-null   object \n",
      " 10  staying_temperature                          6662 non-null   float64\n",
      " 11  staying_row_total                            11202 non-null  int64  \n",
      " 12  staying_group_size                           11032 non-null  object \n",
      " 13  staying_race_ethnicity                       10561 non-null  object \n",
      " 14  staying_gender                               11048 non-null  object \n",
      " 15  staying_age                                  10841 non-null  object \n",
      " 16  standing                                     6375 non-null   float64\n",
      " 17  leaning                                      602 non-null    float64\n",
      " 18  sitting_formal_all                           3031 non-null   float64\n",
      " 19  sitting_formal_public                        1017 non-null   float64\n",
      " 20  sitting_formal_public_fixed_bench            346 non-null    float64\n",
      " 21  sitting_formal_public_fixed_wall_with_seats  372 non-null    float64\n",
      " 22  sitting_formal_public_movable_seat           114 non-null    float64\n",
      " 23  sitting_formal_commercial                    970 non-null    float64\n",
      " 24  sitting_formal_private                       213 non-null    float64\n",
      " 25  sitting_informal                             699 non-null    float64\n",
      " 26  lying                                        270 non-null    float64\n",
      " 27  staying_mobility_assist                      220 non-null    float64\n",
      " 28  commercial_all                               1842 non-null   float64\n",
      " 29  commercial_selling                           175 non-null    float64\n",
      " 30  commercial_selling_informal                  50 non-null     float64\n",
      " 31  commercial_buying                            845 non-null    float64\n",
      " 32  commercial_observing                         516 non-null    float64\n",
      " 33  eating_drinking                              1886 non-null   float64\n",
      " 34  talking_to_others                            5034 non-null   float64\n",
      " 35  smoking                                      950 non-null    float64\n",
      " 36  cultural                                     72 non-null     float64\n",
      " 37  recreation_active                            197 non-null    float64\n",
      " 38  recreation_passive                           1373 non-null   float64\n",
      " 39  waiting_transportation                       2468 non-null   float64\n",
      " 40  working_civic                                215 non-null    float64\n",
      " 41  disruptive                                   23 non-null     float64\n",
      " 42  disruptive_aggressive                        15 non-null     float64\n",
      " 43  disruptive_intoxicated                       19 non-null     float64\n",
      " 44  living_public                                324 non-null    float64\n",
      " 45  using_electronics                            2624 non-null   float64\n",
      " 46  soliciting                                   119 non-null    float64\n",
      " 47  staying_covid_mask                           486 non-null    object \n",
      " 48  staying_covid_social_distance                486 non-null    object \n",
      " 49  staying_notes                                453 non-null    object \n",
      "dtypes: float64(32), int64(2), object(16)\n",
      "memory usage: 4.3+ MB\n"
     ]
    }
   ],
   "source": [
    "public_staying.info()"
   ]
  },
  {
   "cell_type": "code",
   "execution_count": 48,
   "id": "e4ff0a27",
   "metadata": {},
   "outputs": [],
   "source": [
    "#select columns for our analysis\n",
    "public_staying = public_staying[['location_id', 'staying_time_start', 'staying_day_of_week', 'staying_time_of_day', 'staying_group_size', 'staying_gender', 'staying_age']]"
   ]
  },
  {
   "cell_type": "code",
   "execution_count": 49,
   "id": "63762560",
   "metadata": {},
   "outputs": [
    {
     "data": {
      "text/plain": [
       "(11202, 7)"
      ]
     },
     "execution_count": 49,
     "metadata": {},
     "output_type": "execute_result"
    }
   ],
   "source": [
    "public_staying.shape"
   ]
  },
  {
   "cell_type": "code",
   "execution_count": 50,
   "id": "68959113",
   "metadata": {},
   "outputs": [
    {
     "data": {
      "text/plain": [
       "location_id              0\n",
       "staying_time_start       0\n",
       "staying_day_of_week      0\n",
       "staying_time_of_day      0\n",
       "staying_group_size     170\n",
       "staying_gender         154\n",
       "staying_age            361\n",
       "dtype: int64"
      ]
     },
     "execution_count": 50,
     "metadata": {},
     "output_type": "execute_result"
    }
   ],
   "source": [
    "public_staying.isnull().sum()"
   ]
  },
  {
   "cell_type": "code",
   "execution_count": 51,
   "id": "306d1a06",
   "metadata": {},
   "outputs": [],
   "source": [
    "#we will use a group size to calculate the occupancy of public places, so drop the rows with Nan value\n",
    "public_staying = public_staying.dropna()"
   ]
  },
  {
   "cell_type": "code",
   "execution_count": 52,
   "id": "bf17f202",
   "metadata": {},
   "outputs": [
    {
     "data": {
      "text/plain": [
       "location_id            0\n",
       "staying_time_start     0\n",
       "staying_day_of_week    0\n",
       "staying_time_of_day    0\n",
       "staying_group_size     0\n",
       "staying_gender         0\n",
       "staying_age            0\n",
       "dtype: int64"
      ]
     },
     "execution_count": 52,
     "metadata": {},
     "output_type": "execute_result"
    }
   ],
   "source": [
    "public_staying.isnull().sum()"
   ]
  },
  {
   "cell_type": "markdown",
   "id": "9f1f8a9e",
   "metadata": {},
   "source": [
    "*Now all data are complete and there is no missing values*"
   ]
  },
  {
   "cell_type": "code",
   "execution_count": 53,
   "id": "f4491dd2",
   "metadata": {},
   "outputs": [
    {
     "data": {
      "text/plain": [
       "(10820, 7)"
      ]
     },
     "execution_count": 53,
     "metadata": {},
     "output_type": "execute_result"
    }
   ],
   "source": [
    "public_staying.shape"
   ]
  },
  {
   "cell_type": "code",
   "execution_count": 54,
   "id": "99a25540",
   "metadata": {},
   "outputs": [
    {
     "data": {
      "text/plain": [
       "array(['Female', 'Other_Unsure', 'Male'], dtype=object)"
      ]
     },
     "execution_count": 54,
     "metadata": {},
     "output_type": "execute_result"
    }
   ],
   "source": [
    "public_staying['staying_gender'].unique()"
   ]
  },
  {
   "cell_type": "code",
   "execution_count": 55,
   "id": "f87c72df",
   "metadata": {},
   "outputs": [],
   "source": [
    "#rename 'Other_Unsure' on 'Unknown'\n",
    "public_staying.replace(to_replace = \"Other_Unsure\", value = \"Unknown\", inplace = True)"
   ]
  },
  {
   "cell_type": "code",
   "execution_count": 56,
   "id": "20081750",
   "metadata": {},
   "outputs": [
    {
     "data": {
      "text/plain": [
       "array(['45-64', '0-4', '25-44', '65+', '15-24', '14-May', '25-64',\n",
       "       'Toddler - Walking unconfidently', 'Baby - Lying / Crawling',\n",
       "       'Up to 5 - Walking confidently'], dtype=object)"
      ]
     },
     "execution_count": 56,
     "metadata": {},
     "output_type": "execute_result"
    }
   ],
   "source": [
    "public_staying[\"staying_age\"].unique()"
   ]
  },
  {
   "cell_type": "code",
   "execution_count": 57,
   "id": "e3148fae",
   "metadata": {},
   "outputs": [],
   "source": [
    "# we see some problems with column \"staying_age\", so normalise it. \n",
    "# 1. Rename rows 'Toddler - Walking unconfidently', 'Baby - Lying / Crawling', 'Up to 5 - Walking confidently' to '0-4'\n",
    "public_staying.replace(to_replace=('Toddler - Walking unconfidently', 'Baby - Lying / Crawling', 'Up to 5 - Walking confidently'), value='0-4', inplace=True)"
   ]
  },
  {
   "cell_type": "code",
   "execution_count": 58,
   "id": "e1994f5f",
   "metadata": {},
   "outputs": [],
   "source": [
    "# 2. We need to do something with '14-May'. If to see on metadata for this dataset on https://data.seattle.gov/Transportation/Public-Life-Data-People-Staying/5mzj-4rtf we have age '5-14', so make a change\n",
    "public_staying.replace(to_replace = '14-May', value='5-14', inplace=True)\n"
   ]
  },
  {
   "cell_type": "code",
   "execution_count": 59,
   "id": "24c25836",
   "metadata": {},
   "outputs": [],
   "source": [
    "#in tables about parking there is information about weekdays from Monday to saturday, so we need to recognize in dataset public_staying column staying_day_of_week. Make a new appropriate column\n",
    "public_staying['day_of_week'] = pd.to_datetime(public_staying['staying_time_start']).dt.day_name()"
   ]
  },
  {
   "cell_type": "code",
   "execution_count": 60,
   "id": "1c8d55bc",
   "metadata": {},
   "outputs": [],
   "source": [
    "#delete column \"staying_day_of_week\" because it doesn't have appropriate format for our analysis\n",
    "public_staying = public_staying.drop('staying_day_of_week', axis=1)"
   ]
  },
  {
   "cell_type": "code",
   "execution_count": 61,
   "id": "d19a0002",
   "metadata": {},
   "outputs": [
    {
     "data": {
      "text/html": [
       "<div>\n",
       "<style scoped>\n",
       "    .dataframe tbody tr th:only-of-type {\n",
       "        vertical-align: middle;\n",
       "    }\n",
       "\n",
       "    .dataframe tbody tr th {\n",
       "        vertical-align: top;\n",
       "    }\n",
       "\n",
       "    .dataframe thead th {\n",
       "        text-align: right;\n",
       "    }\n",
       "</style>\n",
       "<table border=\"1\" class=\"dataframe\">\n",
       "  <thead>\n",
       "    <tr style=\"text-align: right;\">\n",
       "      <th></th>\n",
       "      <th>location_id</th>\n",
       "      <th>staying_time_start</th>\n",
       "      <th>staying_time_of_day</th>\n",
       "      <th>staying_group_size</th>\n",
       "      <th>staying_gender</th>\n",
       "      <th>staying_age</th>\n",
       "      <th>day_of_week</th>\n",
       "    </tr>\n",
       "  </thead>\n",
       "  <tbody>\n",
       "    <tr>\n",
       "      <th>2</th>\n",
       "      <td>MAP1</td>\n",
       "      <td>08/02/2018 08:20:00 AM</td>\n",
       "      <td>Morning</td>\n",
       "      <td>3</td>\n",
       "      <td>Female</td>\n",
       "      <td>45-64</td>\n",
       "      <td>Thursday</td>\n",
       "    </tr>\n",
       "    <tr>\n",
       "      <th>3</th>\n",
       "      <td>MAP1</td>\n",
       "      <td>08/02/2018 08:20:00 AM</td>\n",
       "      <td>Morning</td>\n",
       "      <td>3</td>\n",
       "      <td>Female</td>\n",
       "      <td>45-64</td>\n",
       "      <td>Thursday</td>\n",
       "    </tr>\n",
       "    <tr>\n",
       "      <th>4</th>\n",
       "      <td>MAP1</td>\n",
       "      <td>08/02/2018 08:20:00 AM</td>\n",
       "      <td>Morning</td>\n",
       "      <td>3</td>\n",
       "      <td>Unknown</td>\n",
       "      <td>0-4</td>\n",
       "      <td>Thursday</td>\n",
       "    </tr>\n",
       "    <tr>\n",
       "      <th>5</th>\n",
       "      <td>MAP1</td>\n",
       "      <td>08/02/2018 08:20:00 AM</td>\n",
       "      <td>Morning</td>\n",
       "      <td>1</td>\n",
       "      <td>Male</td>\n",
       "      <td>25-44</td>\n",
       "      <td>Thursday</td>\n",
       "    </tr>\n",
       "    <tr>\n",
       "      <th>6</th>\n",
       "      <td>MAP1</td>\n",
       "      <td>08/02/2018 08:20:00 AM</td>\n",
       "      <td>Morning</td>\n",
       "      <td>2</td>\n",
       "      <td>Male</td>\n",
       "      <td>25-44</td>\n",
       "      <td>Thursday</td>\n",
       "    </tr>\n",
       "    <tr>\n",
       "      <th>7</th>\n",
       "      <td>MAP1</td>\n",
       "      <td>08/02/2018 08:20:00 AM</td>\n",
       "      <td>Morning</td>\n",
       "      <td>2</td>\n",
       "      <td>Unknown</td>\n",
       "      <td>0-4</td>\n",
       "      <td>Thursday</td>\n",
       "    </tr>\n",
       "    <tr>\n",
       "      <th>8</th>\n",
       "      <td>MAP1</td>\n",
       "      <td>08/02/2018 12:20:00 PM</td>\n",
       "      <td>Midday</td>\n",
       "      <td>1</td>\n",
       "      <td>Male</td>\n",
       "      <td>45-64</td>\n",
       "      <td>Thursday</td>\n",
       "    </tr>\n",
       "    <tr>\n",
       "      <th>9</th>\n",
       "      <td>MAP1</td>\n",
       "      <td>08/02/2018 12:20:00 PM</td>\n",
       "      <td>Midday</td>\n",
       "      <td>1</td>\n",
       "      <td>Female</td>\n",
       "      <td>65+</td>\n",
       "      <td>Thursday</td>\n",
       "    </tr>\n",
       "    <tr>\n",
       "      <th>10</th>\n",
       "      <td>MAP1</td>\n",
       "      <td>08/02/2018 12:20:00 PM</td>\n",
       "      <td>Midday</td>\n",
       "      <td>2</td>\n",
       "      <td>Male</td>\n",
       "      <td>45-64</td>\n",
       "      <td>Thursday</td>\n",
       "    </tr>\n",
       "    <tr>\n",
       "      <th>11</th>\n",
       "      <td>MAP1</td>\n",
       "      <td>08/02/2018 12:20:00 PM</td>\n",
       "      <td>Midday</td>\n",
       "      <td>2</td>\n",
       "      <td>Male</td>\n",
       "      <td>25-44</td>\n",
       "      <td>Thursday</td>\n",
       "    </tr>\n",
       "  </tbody>\n",
       "</table>\n",
       "</div>"
      ],
      "text/plain": [
       "   location_id      staying_time_start staying_time_of_day staying_group_size  \\\n",
       "2         MAP1  08/02/2018 08:20:00 AM             Morning                  3   \n",
       "3         MAP1  08/02/2018 08:20:00 AM             Morning                  3   \n",
       "4         MAP1  08/02/2018 08:20:00 AM             Morning                  3   \n",
       "5         MAP1  08/02/2018 08:20:00 AM             Morning                  1   \n",
       "6         MAP1  08/02/2018 08:20:00 AM             Morning                  2   \n",
       "7         MAP1  08/02/2018 08:20:00 AM             Morning                  2   \n",
       "8         MAP1  08/02/2018 12:20:00 PM              Midday                  1   \n",
       "9         MAP1  08/02/2018 12:20:00 PM              Midday                  1   \n",
       "10        MAP1  08/02/2018 12:20:00 PM              Midday                  2   \n",
       "11        MAP1  08/02/2018 12:20:00 PM              Midday                  2   \n",
       "\n",
       "   staying_gender staying_age day_of_week  \n",
       "2          Female       45-64    Thursday  \n",
       "3          Female       45-64    Thursday  \n",
       "4         Unknown         0-4    Thursday  \n",
       "5            Male       25-44    Thursday  \n",
       "6            Male       25-44    Thursday  \n",
       "7         Unknown         0-4    Thursday  \n",
       "8            Male       45-64    Thursday  \n",
       "9          Female         65+    Thursday  \n",
       "10           Male       45-64    Thursday  \n",
       "11           Male       25-44    Thursday  "
      ]
     },
     "execution_count": 61,
     "metadata": {},
     "output_type": "execute_result"
    }
   ],
   "source": [
    "public_staying.head(10)"
   ]
  },
  {
   "cell_type": "code",
   "execution_count": 62,
   "id": "0a6a0441",
   "metadata": {},
   "outputs": [
    {
     "data": {
      "text/plain": [
       "location_id            0\n",
       "staying_time_start     0\n",
       "staying_time_of_day    0\n",
       "staying_group_size     0\n",
       "staying_gender         0\n",
       "staying_age            0\n",
       "day_of_week            0\n",
       "dtype: int64"
      ]
     },
     "execution_count": 62,
     "metadata": {},
     "output_type": "execute_result"
    }
   ],
   "source": [
    "public_staying.isnull().sum()"
   ]
  },
  {
   "cell_type": "code",
   "execution_count": 63,
   "id": "fe079fd7",
   "metadata": {},
   "outputs": [],
   "source": [
    "public_staying.to_csv('public_staying.csv')"
   ]
  },
  {
   "cell_type": "markdown",
   "id": "6965dadc",
   "metadata": {},
   "source": [
    "#### For appropriate analysis with parking dataset by dates, find month of 2020 year and create new table if I will make it"
   ]
  },
  {
   "cell_type": "code",
   "execution_count": 64,
   "id": "8d0746fd",
   "metadata": {},
   "outputs": [],
   "source": [
    "public_staying['Year'] = pd.to_datetime(public_staying['staying_time_start']).dt.year"
   ]
  },
  {
   "cell_type": "code",
   "execution_count": 65,
   "id": "bb022b70",
   "metadata": {},
   "outputs": [
    {
     "data": {
      "text/plain": [
       "array([2018, 2019, 2020], dtype=int64)"
      ]
     },
     "execution_count": 65,
     "metadata": {},
     "output_type": "execute_result"
    }
   ],
   "source": [
    "public_staying['Year'].unique()"
   ]
  },
  {
   "cell_type": "code",
   "execution_count": 66,
   "id": "999bd61e",
   "metadata": {},
   "outputs": [],
   "source": [
    "public_staying['Month'] = pd.to_datetime(public_staying['staying_time_start']).dt.month"
   ]
  },
  {
   "cell_type": "code",
   "execution_count": 67,
   "id": "ca551e95",
   "metadata": {},
   "outputs": [],
   "source": [
    "public_staying_2020 = public_staying[public_staying['Year'] == 2020] "
   ]
  },
  {
   "cell_type": "code",
   "execution_count": 68,
   "id": "0dd275f9",
   "metadata": {},
   "outputs": [
    {
     "data": {
      "text/html": [
       "<div>\n",
       "<style scoped>\n",
       "    .dataframe tbody tr th:only-of-type {\n",
       "        vertical-align: middle;\n",
       "    }\n",
       "\n",
       "    .dataframe tbody tr th {\n",
       "        vertical-align: top;\n",
       "    }\n",
       "\n",
       "    .dataframe thead th {\n",
       "        text-align: right;\n",
       "    }\n",
       "</style>\n",
       "<table border=\"1\" class=\"dataframe\">\n",
       "  <thead>\n",
       "    <tr style=\"text-align: right;\">\n",
       "      <th></th>\n",
       "      <th>location_id</th>\n",
       "      <th>staying_time_start</th>\n",
       "      <th>staying_time_of_day</th>\n",
       "      <th>staying_group_size</th>\n",
       "      <th>staying_gender</th>\n",
       "      <th>staying_age</th>\n",
       "      <th>day_of_week</th>\n",
       "      <th>Year</th>\n",
       "      <th>Month</th>\n",
       "    </tr>\n",
       "  </thead>\n",
       "  <tbody>\n",
       "    <tr>\n",
       "      <th>10716</th>\n",
       "      <td>BAL3</td>\n",
       "      <td>10/02/2020 12:18:00 PM</td>\n",
       "      <td>Midday</td>\n",
       "      <td>1</td>\n",
       "      <td>Male</td>\n",
       "      <td>25-64</td>\n",
       "      <td>Friday</td>\n",
       "      <td>2020</td>\n",
       "      <td>10</td>\n",
       "    </tr>\n",
       "    <tr>\n",
       "      <th>10717</th>\n",
       "      <td>BAL3</td>\n",
       "      <td>10/02/2020 12:18:00 PM</td>\n",
       "      <td>Midday</td>\n",
       "      <td>1</td>\n",
       "      <td>Male</td>\n",
       "      <td>25-64</td>\n",
       "      <td>Friday</td>\n",
       "      <td>2020</td>\n",
       "      <td>10</td>\n",
       "    </tr>\n",
       "  </tbody>\n",
       "</table>\n",
       "</div>"
      ],
      "text/plain": [
       "      location_id      staying_time_start staying_time_of_day  \\\n",
       "10716        BAL3  10/02/2020 12:18:00 PM              Midday   \n",
       "10717        BAL3  10/02/2020 12:18:00 PM              Midday   \n",
       "\n",
       "      staying_group_size staying_gender staying_age day_of_week  Year  Month  \n",
       "10716                  1           Male       25-64      Friday  2020     10  \n",
       "10717                  1           Male       25-64      Friday  2020     10  "
      ]
     },
     "execution_count": 68,
     "metadata": {},
     "output_type": "execute_result"
    }
   ],
   "source": [
    "public_staying_2020.head(2)"
   ]
  },
  {
   "cell_type": "code",
   "execution_count": 69,
   "id": "d99f9cbe",
   "metadata": {},
   "outputs": [
    {
     "data": {
      "text/plain": [
       "(486, 9)"
      ]
     },
     "execution_count": 69,
     "metadata": {},
     "output_type": "execute_result"
    }
   ],
   "source": [
    "public_staying_2020.shape"
   ]
  },
  {
   "cell_type": "code",
   "execution_count": 70,
   "id": "c54b80d4",
   "metadata": {},
   "outputs": [
    {
     "data": {
      "text/plain": [
       "array([10,  9], dtype=int64)"
      ]
     },
     "execution_count": 70,
     "metadata": {},
     "output_type": "execute_result"
    }
   ],
   "source": [
    "public_staying_2020['Month'].unique()"
   ]
  },
  {
   "cell_type": "code",
   "execution_count": 71,
   "id": "006e687e",
   "metadata": {},
   "outputs": [],
   "source": [
    "public_staying_2020.to_csv('public_staying_2020.csv')"
   ]
  },
  {
   "cell_type": "markdown",
   "id": "b95e86a7",
   "metadata": {},
   "source": [
    "### park_address data preparation"
   ]
  },
  {
   "cell_type": "code",
   "execution_count": 72,
   "id": "828576d2",
   "metadata": {},
   "outputs": [
    {
     "data": {
      "text/plain": [
       "(412, 8)"
      ]
     },
     "execution_count": 72,
     "metadata": {},
     "output_type": "execute_result"
    }
   ],
   "source": [
    "park_address.shape"
   ]
  },
  {
   "cell_type": "code",
   "execution_count": 73,
   "id": "942b2ad2",
   "metadata": {},
   "outputs": [
    {
     "name": "stdout",
     "output_type": "stream",
     "text": [
      "<class 'pandas.core.frame.DataFrame'>\n",
      "RangeIndex: 412 entries, 0 to 411\n",
      "Data columns (total 8 columns):\n",
      " #   Column      Non-Null Count  Dtype  \n",
      "---  ------      --------------  -----  \n",
      " 0   PMAID       412 non-null    int64  \n",
      " 1   LocID       412 non-null    int64  \n",
      " 2   Name        412 non-null    object \n",
      " 3   Address     412 non-null    object \n",
      " 4   ZIP Code    412 non-null    int64  \n",
      " 5   X Coord     412 non-null    float64\n",
      " 6   Y Coord     412 non-null    float64\n",
      " 7   Location 1  412 non-null    object \n",
      "dtypes: float64(2), int64(3), object(3)\n",
      "memory usage: 25.9+ KB\n"
     ]
    }
   ],
   "source": [
    "park_address.info()"
   ]
  },
  {
   "cell_type": "code",
   "execution_count": 74,
   "id": "212b83b3",
   "metadata": {},
   "outputs": [
    {
     "data": {
      "text/plain": [
       "PMAID         0\n",
       "LocID         0\n",
       "Name          0\n",
       "Address       0\n",
       "ZIP Code      0\n",
       "X Coord       0\n",
       "Y Coord       0\n",
       "Location 1    0\n",
       "dtype: int64"
      ]
     },
     "execution_count": 74,
     "metadata": {},
     "output_type": "execute_result"
    }
   ],
   "source": [
    "park_address.isnull().sum()"
   ]
  },
  {
   "cell_type": "markdown",
   "id": "27b65d2e",
   "metadata": {},
   "source": [
    "Everything looks good"
   ]
  },
  {
   "cell_type": "code",
   "execution_count": 75,
   "id": "bc37548a",
   "metadata": {},
   "outputs": [],
   "source": [
    "park_address.to_csv('park_address.csv')"
   ]
  },
  {
   "cell_type": "code",
   "execution_count": null,
   "id": "cafc8de4",
   "metadata": {},
   "outputs": [],
   "source": []
  }
 ],
 "metadata": {
  "kernelspec": {
   "display_name": "Python 3",
   "language": "python",
   "name": "python3"
  },
  "language_info": {
   "codemirror_mode": {
    "name": "ipython",
    "version": 3
   },
   "file_extension": ".py",
   "mimetype": "text/x-python",
   "name": "python",
   "nbconvert_exporter": "python",
   "pygments_lexer": "ipython3",
   "version": "3.8.8"
  }
 },
 "nbformat": 4,
 "nbformat_minor": 5
}
