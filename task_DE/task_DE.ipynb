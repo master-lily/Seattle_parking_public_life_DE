{
 "cells": [
  {
   "cell_type": "markdown",
   "id": "b363a322",
   "metadata": {},
   "source": [
    "The project idea is to find parking areas near public life places or parks for choosing the place for the rest with suitable conditions.\n",
    "Bussines description: \n",
    "1. Visualize parking areas near public places and parks.\n",
    "2. Compare the occupancy in parking areas and seats in public places by area and time.\n",
    "3. Compare the parking time limit for paid parking area in public places. \n",
    "4. Visualize the number of paid parking areas by time limit near public places and parks.\n",
    "5. Find which days of the week, months (if I will have resources) are the busiest.\n",
    "6. Describe in which time (morning, midday or afternoon) there are more men, women or children by age.\n"
   ]
  },
  {
   "cell_type": "code",
   "execution_count": 1,
   "id": "f956735a",
   "metadata": {},
   "outputs": [],
   "source": [
    "import pandas as pd\n",
    "from datetime import datetime as dt\n",
    "import numpy as np"
   ]
  },
  {
   "cell_type": "markdown",
   "id": "8e75e4aa",
   "metadata": {},
   "source": [
    "#### Read data about parking"
   ]
  },
  {
   "cell_type": "code",
   "execution_count": 178,
   "id": "149dc659",
   "metadata": {},
   "outputs": [
    {
     "data": {
      "text/html": [
       "<div>\n",
       "<style scoped>\n",
       "    .dataframe tbody tr th:only-of-type {\n",
       "        vertical-align: middle;\n",
       "    }\n",
       "\n",
       "    .dataframe tbody tr th {\n",
       "        vertical-align: top;\n",
       "    }\n",
       "\n",
       "    .dataframe thead th {\n",
       "        text-align: right;\n",
       "    }\n",
       "</style>\n",
       "<table border=\"1\" class=\"dataframe\">\n",
       "  <thead>\n",
       "    <tr style=\"text-align: right;\">\n",
       "      <th></th>\n",
       "      <th>OccupancyDateTime</th>\n",
       "      <th>PaidOccupancy</th>\n",
       "      <th>BlockfaceName</th>\n",
       "      <th>SideOfStreet</th>\n",
       "      <th>SourceElementKey</th>\n",
       "      <th>ParkingTimeLimitCategory</th>\n",
       "      <th>ParkingSpaceCount</th>\n",
       "      <th>PaidParkingArea</th>\n",
       "      <th>PaidParkingSubArea</th>\n",
       "      <th>PaidParkingRate</th>\n",
       "      <th>ParkingCategory</th>\n",
       "      <th>Location</th>\n",
       "    </tr>\n",
       "  </thead>\n",
       "  <tbody>\n",
       "    <tr>\n",
       "      <th>0</th>\n",
       "      <td>8/9/2022 8:10</td>\n",
       "      <td>2</td>\n",
       "      <td>OCCIDENTAL AVE S BETWEEN S KING W ST AND RAILR...</td>\n",
       "      <td>W</td>\n",
       "      <td>80001</td>\n",
       "      <td>120.0</td>\n",
       "      <td>7</td>\n",
       "      <td>Pioneer Square</td>\n",
       "      <td>Edge</td>\n",
       "      <td>NaN</td>\n",
       "      <td>Paid Parking</td>\n",
       "      <td>POINT (-122.33338994 47.59675354)</td>\n",
       "    </tr>\n",
       "    <tr>\n",
       "      <th>1</th>\n",
       "      <td>8/9/2022 12:31</td>\n",
       "      <td>5</td>\n",
       "      <td>ALASKAN WAY BETWEEN VIRGINIA ST AND LENORA ST</td>\n",
       "      <td>SW</td>\n",
       "      <td>76621</td>\n",
       "      <td>120.0</td>\n",
       "      <td>16</td>\n",
       "      <td>Belltown</td>\n",
       "      <td>South</td>\n",
       "      <td>NaN</td>\n",
       "      <td>Paid Parking</td>\n",
       "      <td>POINT (-122.34572989 47.6095449)</td>\n",
       "    </tr>\n",
       "  </tbody>\n",
       "</table>\n",
       "</div>"
      ],
      "text/plain": [
       "  OccupancyDateTime  PaidOccupancy  \\\n",
       "0     8/9/2022 8:10              2   \n",
       "1    8/9/2022 12:31              5   \n",
       "\n",
       "                                       BlockfaceName SideOfStreet  \\\n",
       "0  OCCIDENTAL AVE S BETWEEN S KING W ST AND RAILR...            W   \n",
       "1      ALASKAN WAY BETWEEN VIRGINIA ST AND LENORA ST           SW   \n",
       "\n",
       "   SourceElementKey  ParkingTimeLimitCategory  ParkingSpaceCount  \\\n",
       "0             80001                     120.0                  7   \n",
       "1             76621                     120.0                 16   \n",
       "\n",
       "  PaidParkingArea PaidParkingSubArea  PaidParkingRate ParkingCategory  \\\n",
       "0  Pioneer Square               Edge              NaN    Paid Parking   \n",
       "1        Belltown              South              NaN    Paid Parking   \n",
       "\n",
       "                            Location  \n",
       "0  POINT (-122.33338994 47.59675354)  \n",
       "1   POINT (-122.34572989 47.6095449)  "
      ]
     },
     "execution_count": 178,
     "metadata": {},
     "output_type": "execute_result"
    }
   ],
   "source": [
    "\n",
    "parking_48 = pd.read_csv(r\"..\\..\\data_engineering_course\\task_DE\\data\\Paid_Parking__Last_48_Hours_.csv\")\n",
    "parking_48.head(2)"
   ]
  },
  {
   "cell_type": "code",
   "execution_count": 177,
   "id": "60bc0235",
   "metadata": {},
   "outputs": [
    {
     "data": {
      "text/html": [
       "<div>\n",
       "<style scoped>\n",
       "    .dataframe tbody tr th:only-of-type {\n",
       "        vertical-align: middle;\n",
       "    }\n",
       "\n",
       "    .dataframe tbody tr th {\n",
       "        vertical-align: top;\n",
       "    }\n",
       "\n",
       "    .dataframe thead th {\n",
       "        text-align: right;\n",
       "    }\n",
       "</style>\n",
       "<table border=\"1\" class=\"dataframe\">\n",
       "  <thead>\n",
       "    <tr style=\"text-align: right;\">\n",
       "      <th></th>\n",
       "      <th>OccupancyDateTime</th>\n",
       "      <th>PaidOccupancy</th>\n",
       "      <th>BlockfaceName</th>\n",
       "      <th>SideOfStreet</th>\n",
       "      <th>SourceElementKey</th>\n",
       "      <th>ParkingTimeLimitCategory</th>\n",
       "      <th>ParkingSpaceCount</th>\n",
       "      <th>PaidParkingArea</th>\n",
       "      <th>PaidParkingSubArea</th>\n",
       "      <th>PaidParkingRate</th>\n",
       "      <th>ParkingCategory</th>\n",
       "      <th>Location</th>\n",
       "    </tr>\n",
       "  </thead>\n",
       "  <tbody>\n",
       "    <tr>\n",
       "      <th>0</th>\n",
       "      <td>7/20/2022 18:23</td>\n",
       "      <td>1</td>\n",
       "      <td>4TH AVE BETWEEN MADISON ST AND SPRING ST</td>\n",
       "      <td>SW</td>\n",
       "      <td>51473</td>\n",
       "      <td>120.0</td>\n",
       "      <td>6</td>\n",
       "      <td>Commercial Core</td>\n",
       "      <td>Financial</td>\n",
       "      <td>NaN</td>\n",
       "      <td>Paid Parking</td>\n",
       "      <td>POINT (-122.33336524 47.60639351)</td>\n",
       "    </tr>\n",
       "    <tr>\n",
       "      <th>1</th>\n",
       "      <td>7/20/2022 19:42</td>\n",
       "      <td>4</td>\n",
       "      <td>WESTERN AVE BETWEEN CEDAR ST AND CLAY ST</td>\n",
       "      <td>SW</td>\n",
       "      <td>36121</td>\n",
       "      <td>240.0</td>\n",
       "      <td>6</td>\n",
       "      <td>Belltown</td>\n",
       "      <td>North</td>\n",
       "      <td>NaN</td>\n",
       "      <td>Paid Parking</td>\n",
       "      <td>POINT (-122.35199635 47.61536129)</td>\n",
       "    </tr>\n",
       "  </tbody>\n",
       "</table>\n",
       "</div>"
      ],
      "text/plain": [
       "  OccupancyDateTime  PaidOccupancy                             BlockfaceName  \\\n",
       "0   7/20/2022 18:23              1  4TH AVE BETWEEN MADISON ST AND SPRING ST   \n",
       "1   7/20/2022 19:42              4  WESTERN AVE BETWEEN CEDAR ST AND CLAY ST   \n",
       "\n",
       "  SideOfStreet  SourceElementKey  ParkingTimeLimitCategory  ParkingSpaceCount  \\\n",
       "0           SW             51473                     120.0                  6   \n",
       "1           SW             36121                     240.0                  6   \n",
       "\n",
       "   PaidParkingArea PaidParkingSubArea  PaidParkingRate ParkingCategory  \\\n",
       "0  Commercial Core          Financial              NaN    Paid Parking   \n",
       "1         Belltown              North              NaN    Paid Parking   \n",
       "\n",
       "                            Location  \n",
       "0  POINT (-122.33336524 47.60639351)  \n",
       "1  POINT (-122.35199635 47.61536129)  "
      ]
     },
     "execution_count": 177,
     "metadata": {},
     "output_type": "execute_result"
    }
   ],
   "source": [
    "parking_30days = pd.read_csv(r\"..\\..\\data_engineering_course\\task_DE\\data\\Paid_Parking_Occupancy__Last_30_Days_.csv\")\n",
    "parking_30days.head(2)"
   ]
  },
  {
   "cell_type": "markdown",
   "id": "02686125",
   "metadata": {},
   "source": [
    "#### Read data about public life"
   ]
  },
  {
   "cell_type": "code",
   "execution_count": 179,
   "id": "d5ada0f7",
   "metadata": {},
   "outputs": [
    {
     "data": {
      "text/html": [
       "<div>\n",
       "<style scoped>\n",
       "    .dataframe tbody tr th:only-of-type {\n",
       "        vertical-align: middle;\n",
       "    }\n",
       "\n",
       "    .dataframe tbody tr th {\n",
       "        vertical-align: top;\n",
       "    }\n",
       "\n",
       "    .dataframe thead th {\n",
       "        text-align: right;\n",
       "    }\n",
       "</style>\n",
       "<table border=\"1\" class=\"dataframe\">\n",
       "  <thead>\n",
       "    <tr style=\"text-align: right;\">\n",
       "      <th></th>\n",
       "      <th>location_id</th>\n",
       "      <th>location_name_primary</th>\n",
       "      <th>location_name_secondary</th>\n",
       "      <th>location_detail</th>\n",
       "      <th>location_blockface_elmntkey</th>\n",
       "      <th>location_sidewalk_compkey</th>\n",
       "      <th>location_transit_stop_present</th>\n",
       "      <th>location_neighborhood_type</th>\n",
       "      <th>location_neighborhood</th>\n",
       "      <th>location_character</th>\n",
       "      <th>location_line_typology_vehicular</th>\n",
       "      <th>location_area_typology</th>\n",
       "      <th>location_area_typology_subcategory</th>\n",
       "      <th>location_total_sqft</th>\n",
       "      <th>location_average_number_commercial_seats</th>\n",
       "      <th>location_average_number_public_seats</th>\n",
       "      <th>location_country</th>\n",
       "      <th>location_region</th>\n",
       "      <th>location_city</th>\n",
       "      <th>location_notes</th>\n",
       "    </tr>\n",
       "  </thead>\n",
       "  <tbody>\n",
       "    <tr>\n",
       "      <th>0</th>\n",
       "      <td>ALK1</td>\n",
       "      <td>ALKI AVE SW</td>\n",
       "      <td>BETWEEN MARINE AVE SW AND 59TH AVE SW</td>\n",
       "      <td>SE</td>\n",
       "      <td>76698.0</td>\n",
       "      <td>318968</td>\n",
       "      <td>Bus</td>\n",
       "      <td>Outside</td>\n",
       "      <td>Alki</td>\n",
       "      <td>Commercial</td>\n",
       "      <td>Neighborhood Corridor</td>\n",
       "      <td>Street</td>\n",
       "      <td>Block face</td>\n",
       "      <td>2480.0</td>\n",
       "      <td>0.0</td>\n",
       "      <td>6.0</td>\n",
       "      <td>United States of America</td>\n",
       "      <td>Washington</td>\n",
       "      <td>Seattle</td>\n",
       "      <td>NaN</td>\n",
       "    </tr>\n",
       "    <tr>\n",
       "      <th>1</th>\n",
       "      <td>ALK2</td>\n",
       "      <td>ALKI AVE SW</td>\n",
       "      <td>BETWEEN 57TH AVE SW AND 58TH AVE SW</td>\n",
       "      <td>SE</td>\n",
       "      <td>8914.0</td>\n",
       "      <td>318972</td>\n",
       "      <td>None</td>\n",
       "      <td>Outside</td>\n",
       "      <td>Alki</td>\n",
       "      <td>Commercial</td>\n",
       "      <td>Neighborhood Corridor</td>\n",
       "      <td>Street</td>\n",
       "      <td>Block face</td>\n",
       "      <td>1428.0</td>\n",
       "      <td>23.0</td>\n",
       "      <td>0.0</td>\n",
       "      <td>United States of America</td>\n",
       "      <td>Washington</td>\n",
       "      <td>Seattle</td>\n",
       "      <td>NaN</td>\n",
       "    </tr>\n",
       "  </tbody>\n",
       "</table>\n",
       "</div>"
      ],
      "text/plain": [
       "  location_id location_name_primary                location_name_secondary  \\\n",
       "0        ALK1           ALKI AVE SW  BETWEEN MARINE AVE SW AND 59TH AVE SW   \n",
       "1        ALK2           ALKI AVE SW    BETWEEN 57TH AVE SW AND 58TH AVE SW   \n",
       "\n",
       "  location_detail  location_blockface_elmntkey location_sidewalk_compkey  \\\n",
       "0              SE                      76698.0                    318968   \n",
       "1              SE                       8914.0                    318972   \n",
       "\n",
       "  location_transit_stop_present location_neighborhood_type  \\\n",
       "0                           Bus                    Outside   \n",
       "1                          None                    Outside   \n",
       "\n",
       "  location_neighborhood location_character location_line_typology_vehicular  \\\n",
       "0                  Alki         Commercial            Neighborhood Corridor   \n",
       "1                  Alki         Commercial            Neighborhood Corridor   \n",
       "\n",
       "  location_area_typology location_area_typology_subcategory  \\\n",
       "0                 Street                         Block face   \n",
       "1                 Street                         Block face   \n",
       "\n",
       "   location_total_sqft  location_average_number_commercial_seats  \\\n",
       "0               2480.0                                       0.0   \n",
       "1               1428.0                                      23.0   \n",
       "\n",
       "   location_average_number_public_seats          location_country  \\\n",
       "0                                   6.0  United States of America   \n",
       "1                                   0.0  United States of America   \n",
       "\n",
       "  location_region location_city location_notes  \n",
       "0      Washington       Seattle            NaN  \n",
       "1      Washington       Seattle            NaN  "
      ]
     },
     "execution_count": 179,
     "metadata": {},
     "output_type": "execute_result"
    }
   ],
   "source": [
    "public_location = pd.read_csv(r\"..\\..\\data_engineering_course\\task_DE\\data\\Public_Life_Data_-_Locations.csv\")\n",
    "public_location.head(2)"
   ]
  },
  {
   "cell_type": "code",
   "execution_count": 180,
   "id": "ee9e18f8",
   "metadata": {},
   "outputs": [
    {
     "data": {
      "text/html": [
       "<div>\n",
       "<style scoped>\n",
       "    .dataframe tbody tr th:only-of-type {\n",
       "        vertical-align: middle;\n",
       "    }\n",
       "\n",
       "    .dataframe tbody tr th {\n",
       "        vertical-align: top;\n",
       "    }\n",
       "\n",
       "    .dataframe thead th {\n",
       "        text-align: right;\n",
       "    }\n",
       "</style>\n",
       "<table border=\"1\" class=\"dataframe\">\n",
       "  <thead>\n",
       "    <tr style=\"text-align: right;\">\n",
       "      <th></th>\n",
       "      <th>unique_staying_id</th>\n",
       "      <th>study_id</th>\n",
       "      <th>location_id</th>\n",
       "      <th>staying_time_start</th>\n",
       "      <th>staying_time_end</th>\n",
       "      <th>staying_day_of_week</th>\n",
       "      <th>staying_time_of_day</th>\n",
       "      <th>staying_count_surveyor</th>\n",
       "      <th>staying_conditions</th>\n",
       "      <th>staying_microclimate</th>\n",
       "      <th>...</th>\n",
       "      <th>working_civic</th>\n",
       "      <th>disruptive</th>\n",
       "      <th>disruptive_aggressive</th>\n",
       "      <th>disruptive_intoxicated</th>\n",
       "      <th>living_public</th>\n",
       "      <th>using_electronics</th>\n",
       "      <th>soliciting</th>\n",
       "      <th>staying_covid_mask</th>\n",
       "      <th>staying_covid_social_distance</th>\n",
       "      <th>staying_notes</th>\n",
       "    </tr>\n",
       "  </thead>\n",
       "  <tbody>\n",
       "    <tr>\n",
       "      <th>0</th>\n",
       "      <td>632</td>\n",
       "      <td>2018_Seattle_Citywide</td>\n",
       "      <td>RAV4</td>\n",
       "      <td>09/14/2018 05:09:00 PM</td>\n",
       "      <td>09/14/2018 05:29:00 PM</td>\n",
       "      <td>Weekday</td>\n",
       "      <td>Evening</td>\n",
       "      <td>UD4H</td>\n",
       "      <td>NaN</td>\n",
       "      <td>Heavy Clouds</td>\n",
       "      <td>...</td>\n",
       "      <td>NaN</td>\n",
       "      <td>NaN</td>\n",
       "      <td>NaN</td>\n",
       "      <td>NaN</td>\n",
       "      <td>NaN</td>\n",
       "      <td>NaN</td>\n",
       "      <td>NaN</td>\n",
       "      <td>NaN</td>\n",
       "      <td>NaN</td>\n",
       "      <td>NaN</td>\n",
       "    </tr>\n",
       "    <tr>\n",
       "      <th>1</th>\n",
       "      <td>920</td>\n",
       "      <td>2018_Seattle_Citywide</td>\n",
       "      <td>RAI2</td>\n",
       "      <td>08/11/2018 05:23:00 PM</td>\n",
       "      <td>08/11/2018 05:43:00 PM</td>\n",
       "      <td>Weekend</td>\n",
       "      <td>Evening</td>\n",
       "      <td>UD4H</td>\n",
       "      <td>NaN</td>\n",
       "      <td>Light Rain</td>\n",
       "      <td>...</td>\n",
       "      <td>NaN</td>\n",
       "      <td>NaN</td>\n",
       "      <td>NaN</td>\n",
       "      <td>NaN</td>\n",
       "      <td>NaN</td>\n",
       "      <td>NaN</td>\n",
       "      <td>NaN</td>\n",
       "      <td>NaN</td>\n",
       "      <td>NaN</td>\n",
       "      <td>NaN</td>\n",
       "    </tr>\n",
       "  </tbody>\n",
       "</table>\n",
       "<p>2 rows × 50 columns</p>\n",
       "</div>"
      ],
      "text/plain": [
       "   unique_staying_id               study_id location_id  \\\n",
       "0                632  2018_Seattle_Citywide        RAV4   \n",
       "1                920  2018_Seattle_Citywide        RAI2   \n",
       "\n",
       "       staying_time_start        staying_time_end staying_day_of_week  \\\n",
       "0  09/14/2018 05:09:00 PM  09/14/2018 05:29:00 PM             Weekday   \n",
       "1  08/11/2018 05:23:00 PM  08/11/2018 05:43:00 PM             Weekend   \n",
       "\n",
       "  staying_time_of_day staying_count_surveyor staying_conditions  \\\n",
       "0             Evening                   UD4H                NaN   \n",
       "1             Evening                   UD4H                NaN   \n",
       "\n",
       "  staying_microclimate  ...  working_civic  disruptive disruptive_aggressive  \\\n",
       "0         Heavy Clouds  ...            NaN         NaN                   NaN   \n",
       "1           Light Rain  ...            NaN         NaN                   NaN   \n",
       "\n",
       "  disruptive_intoxicated living_public using_electronics  soliciting  \\\n",
       "0                    NaN           NaN               NaN         NaN   \n",
       "1                    NaN           NaN               NaN         NaN   \n",
       "\n",
       "   staying_covid_mask  staying_covid_social_distance  staying_notes  \n",
       "0                 NaN                            NaN            NaN  \n",
       "1                 NaN                            NaN            NaN  \n",
       "\n",
       "[2 rows x 50 columns]"
      ]
     },
     "execution_count": 180,
     "metadata": {},
     "output_type": "execute_result"
    }
   ],
   "source": [
    "public_staying = pd.read_csv(r\"..\\..\\data_engineering_course\\task_DE\\data\\Public_Life_Data_-_People_Staying.csv\")\n",
    "public_staying.head(2)"
   ]
  },
  {
   "cell_type": "markdown",
   "id": "537fa141",
   "metadata": {},
   "source": [
    "Read data about parks"
   ]
  },
  {
   "cell_type": "code",
   "execution_count": 181,
   "id": "d9e4e67c",
   "metadata": {},
   "outputs": [
    {
     "data": {
      "text/html": [
       "<div>\n",
       "<style scoped>\n",
       "    .dataframe tbody tr th:only-of-type {\n",
       "        vertical-align: middle;\n",
       "    }\n",
       "\n",
       "    .dataframe tbody tr th {\n",
       "        vertical-align: top;\n",
       "    }\n",
       "\n",
       "    .dataframe thead th {\n",
       "        text-align: right;\n",
       "    }\n",
       "</style>\n",
       "<table border=\"1\" class=\"dataframe\">\n",
       "  <thead>\n",
       "    <tr style=\"text-align: right;\">\n",
       "      <th></th>\n",
       "      <th>PMAID</th>\n",
       "      <th>LocID</th>\n",
       "      <th>Name</th>\n",
       "      <th>Address</th>\n",
       "      <th>ZIP Code</th>\n",
       "      <th>X Coord</th>\n",
       "      <th>Y Coord</th>\n",
       "      <th>Location 1</th>\n",
       "    </tr>\n",
       "  </thead>\n",
       "  <tbody>\n",
       "    <tr>\n",
       "      <th>0</th>\n",
       "      <td>281</td>\n",
       "      <td>2545</td>\n",
       "      <td>12th and Howe Play Park</td>\n",
       "      <td>1200 W Howe St</td>\n",
       "      <td>98119</td>\n",
       "      <td>-122.372985</td>\n",
       "      <td>47.636097</td>\n",
       "      <td>(47.636097, -122.372985)</td>\n",
       "    </tr>\n",
       "    <tr>\n",
       "      <th>1</th>\n",
       "      <td>4159</td>\n",
       "      <td>2387</td>\n",
       "      <td>12th Ave S Viewpoint</td>\n",
       "      <td>2821 12TH Ave S</td>\n",
       "      <td>98144</td>\n",
       "      <td>-122.317765</td>\n",
       "      <td>47.577953</td>\n",
       "      <td>(47.577953, -122.317765)</td>\n",
       "    </tr>\n",
       "  </tbody>\n",
       "</table>\n",
       "</div>"
      ],
      "text/plain": [
       "   PMAID  LocID                     Name          Address  ZIP Code  \\\n",
       "0    281   2545  12th and Howe Play Park   1200 W Howe St     98119   \n",
       "1   4159   2387     12th Ave S Viewpoint  2821 12TH Ave S     98144   \n",
       "\n",
       "      X Coord    Y Coord                Location 1  \n",
       "0 -122.372985  47.636097  (47.636097, -122.372985)  \n",
       "1 -122.317765  47.577953  (47.577953, -122.317765)  "
      ]
     },
     "execution_count": 181,
     "metadata": {},
     "output_type": "execute_result"
    }
   ],
   "source": [
    "park_address = pd.read_csv(r\"..\\..\\data_engineering_course\\task_DE\\data\\Seattle_Parks_And_Recreation_Park_Addresses.csv\")\n",
    "park_address.head(2)"
   ]
  },
  {
   "cell_type": "code",
   "execution_count": 182,
   "id": "5f0e7092",
   "metadata": {},
   "outputs": [
    {
     "data": {
      "text/html": [
       "<div>\n",
       "<style scoped>\n",
       "    .dataframe tbody tr th:only-of-type {\n",
       "        vertical-align: middle;\n",
       "    }\n",
       "\n",
       "    .dataframe tbody tr th {\n",
       "        vertical-align: top;\n",
       "    }\n",
       "\n",
       "    .dataframe thead th {\n",
       "        text-align: right;\n",
       "    }\n",
       "</style>\n",
       "<table border=\"1\" class=\"dataframe\">\n",
       "  <thead>\n",
       "    <tr style=\"text-align: right;\">\n",
       "      <th></th>\n",
       "      <th>PMAID</th>\n",
       "      <th>Name</th>\n",
       "      <th>Alt_Name</th>\n",
       "      <th>xPos</th>\n",
       "      <th>yPos</th>\n",
       "      <th>Feature_ID</th>\n",
       "      <th>hours</th>\n",
       "      <th>Feature_Desc</th>\n",
       "      <th>CHILD_DESC</th>\n",
       "      <th>FIELD_TYPE</th>\n",
       "      <th>YOUTH_ONLY</th>\n",
       "      <th>LIGHTING</th>\n",
       "      <th>Location 1</th>\n",
       "    </tr>\n",
       "  </thead>\n",
       "  <tbody>\n",
       "    <tr>\n",
       "      <th>0</th>\n",
       "      <td>281</td>\n",
       "      <td>12th and Howe Play Park</td>\n",
       "      <td>NaN</td>\n",
       "      <td>-122.372985</td>\n",
       "      <td>47.636097</td>\n",
       "      <td>22</td>\n",
       "      <td>6 a.m. - 10 p.m.</td>\n",
       "      <td>Play Area</td>\n",
       "      <td>Play Area</td>\n",
       "      <td>NaN</td>\n",
       "      <td>False</td>\n",
       "      <td>False</td>\n",
       "      <td>1200 W Howe St\\n(-122.372985, 47.636097)</td>\n",
       "    </tr>\n",
       "    <tr>\n",
       "      <th>1</th>\n",
       "      <td>4159</td>\n",
       "      <td>12th Ave S Viewpoint</td>\n",
       "      <td>NaN</td>\n",
       "      <td>-122.317765</td>\n",
       "      <td>47.577953</td>\n",
       "      <td>34</td>\n",
       "      <td>6 a.m. - 10 p.m.</td>\n",
       "      <td>View</td>\n",
       "      <td>NaN</td>\n",
       "      <td>NaN</td>\n",
       "      <td>False</td>\n",
       "      <td>False</td>\n",
       "      <td>2821 12TH Ave S\\n(-122.317765, 47.577953)</td>\n",
       "    </tr>\n",
       "  </tbody>\n",
       "</table>\n",
       "</div>"
      ],
      "text/plain": [
       "   PMAID                     Name Alt_Name        xPos       yPos  Feature_ID  \\\n",
       "0    281  12th and Howe Play Park      NaN -122.372985  47.636097          22   \n",
       "1   4159     12th Ave S Viewpoint      NaN -122.317765  47.577953          34   \n",
       "\n",
       "              hours Feature_Desc CHILD_DESC FIELD_TYPE  YOUTH_ONLY  LIGHTING  \\\n",
       "0  6 a.m. - 10 p.m.    Play Area  Play Area        NaN       False     False   \n",
       "1  6 a.m. - 10 p.m.         View        NaN        NaN       False     False   \n",
       "\n",
       "                                  Location 1  \n",
       "0   1200 W Howe St\\n(-122.372985, 47.636097)  \n",
       "1  2821 12TH Ave S\\n(-122.317765, 47.577953)  "
      ]
     },
     "execution_count": 182,
     "metadata": {},
     "output_type": "execute_result"
    }
   ],
   "source": [
    "park_features = pd.read_csv(r\"..\\..\\data_engineering_course\\task_DE\\data\\Seattle_Parks_and_Recreation_Parks_Features.csv\")\n",
    "park_features.head(2)"
   ]
  },
  {
   "cell_type": "markdown",
   "id": "bab0c916",
   "metadata": {},
   "source": [
    "### Parking_48 data preparation"
   ]
  },
  {
   "cell_type": "code",
   "execution_count": 8,
   "id": "9c869bc5",
   "metadata": {},
   "outputs": [
    {
     "data": {
      "text/plain": [
       "(1048575, 12)"
      ]
     },
     "execution_count": 8,
     "metadata": {},
     "output_type": "execute_result"
    }
   ],
   "source": [
    "parking_48.shape"
   ]
  },
  {
   "cell_type": "code",
   "execution_count": 11,
   "id": "e9b67db8",
   "metadata": {},
   "outputs": [
    {
     "name": "stdout",
     "output_type": "stream",
     "text": [
      "<class 'pandas.core.frame.DataFrame'>\n",
      "RangeIndex: 1048575 entries, 0 to 1048574\n",
      "Data columns (total 12 columns):\n",
      " #   Column                    Non-Null Count    Dtype  \n",
      "---  ------                    --------------    -----  \n",
      " 0   OccupancyDateTime         1048575 non-null  object \n",
      " 1   PaidOccupancy             1048575 non-null  int64  \n",
      " 2   BlockfaceName             1048575 non-null  object \n",
      " 3   SideOfStreet              1048575 non-null  object \n",
      " 4   SourceElementKey          1048575 non-null  int64  \n",
      " 5   ParkingTimeLimitCategory  1047296 non-null  float64\n",
      " 6   ParkingSpaceCount         1048575 non-null  int64  \n",
      " 7   PaidParkingArea           1048575 non-null  object \n",
      " 8   PaidParkingSubArea        762047 non-null   object \n",
      " 9   PaidParkingRate           0 non-null        float64\n",
      " 10  ParkingCategory           1048575 non-null  object \n",
      " 11  Location                  1048575 non-null  object \n",
      "dtypes: float64(2), int64(3), object(7)\n",
      "memory usage: 96.0+ MB\n"
     ]
    }
   ],
   "source": [
    "parking_48.info()"
   ]
  },
  {
   "cell_type": "code",
   "execution_count": 14,
   "id": "378d2683",
   "metadata": {},
   "outputs": [
    {
     "data": {
      "text/html": [
       "<div>\n",
       "<style scoped>\n",
       "    .dataframe tbody tr th:only-of-type {\n",
       "        vertical-align: middle;\n",
       "    }\n",
       "\n",
       "    .dataframe tbody tr th {\n",
       "        vertical-align: top;\n",
       "    }\n",
       "\n",
       "    .dataframe thead th {\n",
       "        text-align: right;\n",
       "    }\n",
       "</style>\n",
       "<table border=\"1\" class=\"dataframe\">\n",
       "  <thead>\n",
       "    <tr style=\"text-align: right;\">\n",
       "      <th></th>\n",
       "      <th>PaidOccupancy</th>\n",
       "      <th>SourceElementKey</th>\n",
       "      <th>ParkingTimeLimitCategory</th>\n",
       "      <th>ParkingSpaceCount</th>\n",
       "      <th>PaidParkingRate</th>\n",
       "    </tr>\n",
       "  </thead>\n",
       "  <tbody>\n",
       "    <tr>\n",
       "      <th>count</th>\n",
       "      <td>1.048575e+06</td>\n",
       "      <td>1.048575e+06</td>\n",
       "      <td>1.047296e+06</td>\n",
       "      <td>1.048575e+06</td>\n",
       "      <td>0.0</td>\n",
       "    </tr>\n",
       "    <tr>\n",
       "      <th>mean</th>\n",
       "      <td>3.037925e+00</td>\n",
       "      <td>4.618630e+04</td>\n",
       "      <td>2.271959e+02</td>\n",
       "      <td>7.535829e+00</td>\n",
       "      <td>NaN</td>\n",
       "    </tr>\n",
       "    <tr>\n",
       "      <th>std</th>\n",
       "      <td>3.356127e+00</td>\n",
       "      <td>2.918847e+04</td>\n",
       "      <td>4.216029e+02</td>\n",
       "      <td>5.375816e+00</td>\n",
       "      <td>NaN</td>\n",
       "    </tr>\n",
       "    <tr>\n",
       "      <th>min</th>\n",
       "      <td>0.000000e+00</td>\n",
       "      <td>1.001000e+03</td>\n",
       "      <td>3.000000e+01</td>\n",
       "      <td>1.000000e+00</td>\n",
       "      <td>NaN</td>\n",
       "    </tr>\n",
       "    <tr>\n",
       "      <th>25%</th>\n",
       "      <td>1.000000e+00</td>\n",
       "      <td>1.948600e+04</td>\n",
       "      <td>1.200000e+02</td>\n",
       "      <td>4.000000e+00</td>\n",
       "      <td>NaN</td>\n",
       "    </tr>\n",
       "    <tr>\n",
       "      <th>50%</th>\n",
       "      <td>2.000000e+00</td>\n",
       "      <td>4.597400e+04</td>\n",
       "      <td>1.200000e+02</td>\n",
       "      <td>7.000000e+00</td>\n",
       "      <td>NaN</td>\n",
       "    </tr>\n",
       "    <tr>\n",
       "      <th>75%</th>\n",
       "      <td>4.000000e+00</td>\n",
       "      <td>7.075300e+04</td>\n",
       "      <td>2.400000e+02</td>\n",
       "      <td>9.000000e+00</td>\n",
       "      <td>NaN</td>\n",
       "    </tr>\n",
       "    <tr>\n",
       "      <th>max</th>\n",
       "      <td>7.300000e+01</td>\n",
       "      <td>1.363220e+05</td>\n",
       "      <td>4.320000e+03</td>\n",
       "      <td>5.400000e+01</td>\n",
       "      <td>NaN</td>\n",
       "    </tr>\n",
       "  </tbody>\n",
       "</table>\n",
       "</div>"
      ],
      "text/plain": [
       "       PaidOccupancy  SourceElementKey  ParkingTimeLimitCategory  \\\n",
       "count   1.048575e+06      1.048575e+06              1.047296e+06   \n",
       "mean    3.037925e+00      4.618630e+04              2.271959e+02   \n",
       "std     3.356127e+00      2.918847e+04              4.216029e+02   \n",
       "min     0.000000e+00      1.001000e+03              3.000000e+01   \n",
       "25%     1.000000e+00      1.948600e+04              1.200000e+02   \n",
       "50%     2.000000e+00      4.597400e+04              1.200000e+02   \n",
       "75%     4.000000e+00      7.075300e+04              2.400000e+02   \n",
       "max     7.300000e+01      1.363220e+05              4.320000e+03   \n",
       "\n",
       "       ParkingSpaceCount  PaidParkingRate  \n",
       "count       1.048575e+06              0.0  \n",
       "mean        7.535829e+00              NaN  \n",
       "std         5.375816e+00              NaN  \n",
       "min         1.000000e+00              NaN  \n",
       "25%         4.000000e+00              NaN  \n",
       "50%         7.000000e+00              NaN  \n",
       "75%         9.000000e+00              NaN  \n",
       "max         5.400000e+01              NaN  "
      ]
     },
     "execution_count": 14,
     "metadata": {},
     "output_type": "execute_result"
    }
   ],
   "source": [
    "parking_48.describe()"
   ]
  },
  {
   "cell_type": "code",
   "execution_count": 15,
   "id": "adc464d4",
   "metadata": {},
   "outputs": [
    {
     "data": {
      "text/plain": [
       "OccupancyDateTime                 0\n",
       "PaidOccupancy                     0\n",
       "BlockfaceName                     0\n",
       "SideOfStreet                      0\n",
       "SourceElementKey                  0\n",
       "ParkingTimeLimitCategory       1279\n",
       "ParkingSpaceCount                 0\n",
       "PaidParkingArea                   0\n",
       "PaidParkingSubArea           286528\n",
       "PaidParkingRate             1048575\n",
       "ParkingCategory                   0\n",
       "Location                          0\n",
       "dtype: int64"
      ]
     },
     "execution_count": 15,
     "metadata": {},
     "output_type": "execute_result"
    }
   ],
   "source": [
    " #a summary of all missing values for each column\n",
    "parking_48.isnull().sum()"
   ]
  },
  {
   "cell_type": "code",
   "execution_count": 10,
   "id": "b0dbaabd",
   "metadata": {},
   "outputs": [
    {
     "data": {
      "text/plain": [
       "Index(['OccupancyDateTime', 'PaidOccupancy', 'BlockfaceName', 'SideOfStreet',\n",
       "       'SourceElementKey', 'ParkingTimeLimitCategory', 'ParkingSpaceCount',\n",
       "       'PaidParkingArea', 'PaidParkingSubArea', 'PaidParkingRate',\n",
       "       'ParkingCategory', 'Location'],\n",
       "      dtype='object')"
      ]
     },
     "execution_count": 10,
     "metadata": {},
     "output_type": "execute_result"
    }
   ],
   "source": [
    "parking_48.columns"
   ]
  },
  {
   "cell_type": "code",
   "execution_count": 17,
   "id": "84822957",
   "metadata": {},
   "outputs": [
    {
     "data": {
      "text/html": [
       "<div>\n",
       "<style scoped>\n",
       "    .dataframe tbody tr th:only-of-type {\n",
       "        vertical-align: middle;\n",
       "    }\n",
       "\n",
       "    .dataframe tbody tr th {\n",
       "        vertical-align: top;\n",
       "    }\n",
       "\n",
       "    .dataframe thead th {\n",
       "        text-align: right;\n",
       "    }\n",
       "</style>\n",
       "<table border=\"1\" class=\"dataframe\">\n",
       "  <thead>\n",
       "    <tr style=\"text-align: right;\">\n",
       "      <th></th>\n",
       "      <th>OccupancyDateTime</th>\n",
       "      <th>PaidOccupancy</th>\n",
       "      <th>BlockfaceName</th>\n",
       "      <th>SourceElementKey</th>\n",
       "      <th>ParkingTimeLimitCategory</th>\n",
       "      <th>ParkingSpaceCount</th>\n",
       "      <th>PaidParkingArea</th>\n",
       "      <th>ParkingCategory</th>\n",
       "      <th>Location</th>\n",
       "    </tr>\n",
       "  </thead>\n",
       "  <tbody>\n",
       "    <tr>\n",
       "      <th>0</th>\n",
       "      <td>8/9/2022 8:10</td>\n",
       "      <td>2</td>\n",
       "      <td>OCCIDENTAL AVE S BETWEEN S KING W ST AND RAILR...</td>\n",
       "      <td>80001</td>\n",
       "      <td>120.0</td>\n",
       "      <td>7</td>\n",
       "      <td>Pioneer Square</td>\n",
       "      <td>Paid Parking</td>\n",
       "      <td>POINT (-122.33338994 47.59675354)</td>\n",
       "    </tr>\n",
       "    <tr>\n",
       "      <th>1</th>\n",
       "      <td>8/9/2022 12:31</td>\n",
       "      <td>5</td>\n",
       "      <td>ALASKAN WAY BETWEEN VIRGINIA ST AND LENORA ST</td>\n",
       "      <td>76621</td>\n",
       "      <td>120.0</td>\n",
       "      <td>16</td>\n",
       "      <td>Belltown</td>\n",
       "      <td>Paid Parking</td>\n",
       "      <td>POINT (-122.34572989 47.6095449)</td>\n",
       "    </tr>\n",
       "  </tbody>\n",
       "</table>\n",
       "</div>"
      ],
      "text/plain": [
       "  OccupancyDateTime  PaidOccupancy  \\\n",
       "0     8/9/2022 8:10              2   \n",
       "1    8/9/2022 12:31              5   \n",
       "\n",
       "                                       BlockfaceName  SourceElementKey  \\\n",
       "0  OCCIDENTAL AVE S BETWEEN S KING W ST AND RAILR...             80001   \n",
       "1      ALASKAN WAY BETWEEN VIRGINIA ST AND LENORA ST             76621   \n",
       "\n",
       "   ParkingTimeLimitCategory  ParkingSpaceCount PaidParkingArea  \\\n",
       "0                     120.0                  7  Pioneer Square   \n",
       "1                     120.0                 16        Belltown   \n",
       "\n",
       "  ParkingCategory                           Location  \n",
       "0    Paid Parking  POINT (-122.33338994 47.59675354)  \n",
       "1    Paid Parking   POINT (-122.34572989 47.6095449)  "
      ]
     },
     "execution_count": 17,
     "metadata": {},
     "output_type": "execute_result"
    }
   ],
   "source": [
    "# delete unusable columns\n",
    "parking_48 = parking_48.drop([\"SideOfStreet\", \"PaidParkingSubArea\", \"PaidParkingRate\"], axis=1)\n",
    "parking_48.head(2)"
   ]
  },
  {
   "cell_type": "code",
   "execution_count": 103,
   "id": "db25a76a",
   "metadata": {},
   "outputs": [
    {
     "data": {
      "text/plain": [
       "OccupancyDateTime              0\n",
       "PaidOccupancy                  0\n",
       "BlockfaceName                  0\n",
       "SourceElementKey               0\n",
       "ParkingTimeLimitCategory    1279\n",
       "ParkingSpaceCount              0\n",
       "PaidParkingArea                0\n",
       "ParkingCategory                0\n",
       "Location                       0\n",
       "Date                           0\n",
       "Time                           0\n",
       "DayWeek                        0\n",
       "Month                          0\n",
       "TimeSlot                       0\n",
       "dtype: int64"
      ]
     },
     "execution_count": 103,
     "metadata": {},
     "output_type": "execute_result"
    }
   ],
   "source": [
    "parking_48.isnull().sum()"
   ]
  },
  {
   "cell_type": "code",
   "execution_count": 16,
   "id": "41a4b526",
   "metadata": {},
   "outputs": [
    {
     "data": {
      "text/plain": [
       "array([ 120.,  240.,  600.,   nan,   30., 4320.])"
      ]
     },
     "execution_count": 16,
     "metadata": {},
     "output_type": "execute_result"
    }
   ],
   "source": [
    " parking_48[\"ParkingTimeLimitCategory\"].unique()"
   ]
  },
  {
   "cell_type": "code",
   "execution_count": 106,
   "id": "9b6c0802",
   "metadata": {},
   "outputs": [],
   "source": [
    "# change nan on \"Unknown\" (column \"ParkingTimeLimitCategory\"), this information will be useful for local authority\n",
    "parking_48.fillna(\"Unknown\", inplace=True)"
   ]
  },
  {
   "cell_type": "code",
   "execution_count": 18,
   "id": "c01c1a4c",
   "metadata": {},
   "outputs": [],
   "source": [
    "# make appropriate columns from column \"OccupancyDateTime\" by string split for date and time\n",
    "#split columns\n",
    "parking_48[\"Date\"] = parking_48[\"OccupancyDateTime\"].str.split(\" \").str.get(0)\n",
    "parking_48[\"Time\"] = parking_48[\"OccupancyDateTime\"].str.split(\" \").str.get(1)"
   ]
  },
  {
   "cell_type": "code",
   "execution_count": 19,
   "id": "870ec21e",
   "metadata": {},
   "outputs": [
    {
     "name": "stdout",
     "output_type": "stream",
     "text": [
      "  OccupancyDateTime  PaidOccupancy  \\\n",
      "0     8/9/2022 8:10              2   \n",
      "1    8/9/2022 12:31              5   \n",
      "\n",
      "                                       BlockfaceName  SourceElementKey  \\\n",
      "0  OCCIDENTAL AVE S BETWEEN S KING W ST AND RAILR...             80001   \n",
      "1      ALASKAN WAY BETWEEN VIRGINIA ST AND LENORA ST             76621   \n",
      "\n",
      "   ParkingTimeLimitCategory  ParkingSpaceCount PaidParkingArea  \\\n",
      "0                     120.0                  7  Pioneer Square   \n",
      "1                     120.0                 16        Belltown   \n",
      "\n",
      "  ParkingCategory                           Location      Date   Time  \n",
      "0    Paid Parking  POINT (-122.33338994 47.59675354)  8/9/2022   8:10  \n",
      "1    Paid Parking   POINT (-122.34572989 47.6095449)  8/9/2022  12:31  \n"
     ]
    }
   ],
   "source": [
    "print(parking_48.head(2))"
   ]
  },
  {
   "cell_type": "code",
   "execution_count": 20,
   "id": "d5bf0df7",
   "metadata": {},
   "outputs": [],
   "source": [
    "# create clumn day of week and month\n",
    "parking_48[\"DayWeek\"] = pd.to_datetime(parking_48[\"OccupancyDateTime\"]).dt.day_name() #weekday_name isn't used\n",
    "parking_48[\"Month\"] = pd.to_datetime(parking_48[\"OccupancyDateTime\"]).dt.month"
   ]
  },
  {
   "cell_type": "code",
   "execution_count": 21,
   "id": "aa87dee8",
   "metadata": {},
   "outputs": [],
   "source": [
    "#create a new column \"TimeSlot\" by condition according to time slots in file about public life people staying\n",
    "#create a list of conditions\n",
    "conditions = [(parking_48[\"Time\"] >= \"6:00\") & (parking_48[\"Time\"] < \"11:00\"),\n",
    "              (parking_48[\"Time\"] >= \"11:00\") & (parking_48[\"Time\"] < \"15:00\"),\n",
    "              (parking_48[\"Time\"] >= \"15:00\") & (parking_48[\"Time\"] < \"17:00\"),\n",
    "              (parking_48[\"Time\"] >= \"17:00\")]\n",
    "              \n",
    "\n",
    "# create a list of the values we want to assign for each condition\n",
    "values = [#\"early morning\", \n",
    "          \"Morning\", \"Midday\", \" Early Evening\", \"Evening\"]\n",
    "  \n",
    "#create a new column\n",
    "parking_48[\"TimeSlot\"] = np.select(conditions, values)"
   ]
  },
  {
   "cell_type": "code",
   "execution_count": 22,
   "id": "c518a8b7",
   "metadata": {},
   "outputs": [
    {
     "data": {
      "text/html": [
       "<div>\n",
       "<style scoped>\n",
       "    .dataframe tbody tr th:only-of-type {\n",
       "        vertical-align: middle;\n",
       "    }\n",
       "\n",
       "    .dataframe tbody tr th {\n",
       "        vertical-align: top;\n",
       "    }\n",
       "\n",
       "    .dataframe thead th {\n",
       "        text-align: right;\n",
       "    }\n",
       "</style>\n",
       "<table border=\"1\" class=\"dataframe\">\n",
       "  <thead>\n",
       "    <tr style=\"text-align: right;\">\n",
       "      <th></th>\n",
       "      <th>OccupancyDateTime</th>\n",
       "      <th>PaidOccupancy</th>\n",
       "      <th>BlockfaceName</th>\n",
       "      <th>SourceElementKey</th>\n",
       "      <th>ParkingTimeLimitCategory</th>\n",
       "      <th>ParkingSpaceCount</th>\n",
       "      <th>PaidParkingArea</th>\n",
       "      <th>ParkingCategory</th>\n",
       "      <th>Location</th>\n",
       "      <th>Date</th>\n",
       "      <th>Time</th>\n",
       "      <th>DayWeek</th>\n",
       "      <th>Month</th>\n",
       "      <th>TimeSlot</th>\n",
       "    </tr>\n",
       "  </thead>\n",
       "  <tbody>\n",
       "    <tr>\n",
       "      <th>0</th>\n",
       "      <td>8/9/2022 8:10</td>\n",
       "      <td>2</td>\n",
       "      <td>OCCIDENTAL AVE S BETWEEN S KING W ST AND RAILR...</td>\n",
       "      <td>80001</td>\n",
       "      <td>120.0</td>\n",
       "      <td>7</td>\n",
       "      <td>Pioneer Square</td>\n",
       "      <td>Paid Parking</td>\n",
       "      <td>POINT (-122.33338994 47.59675354)</td>\n",
       "      <td>8/9/2022</td>\n",
       "      <td>8:10</td>\n",
       "      <td>Tuesday</td>\n",
       "      <td>8</td>\n",
       "      <td>Evening</td>\n",
       "    </tr>\n",
       "    <tr>\n",
       "      <th>1</th>\n",
       "      <td>8/9/2022 12:31</td>\n",
       "      <td>5</td>\n",
       "      <td>ALASKAN WAY BETWEEN VIRGINIA ST AND LENORA ST</td>\n",
       "      <td>76621</td>\n",
       "      <td>120.0</td>\n",
       "      <td>16</td>\n",
       "      <td>Belltown</td>\n",
       "      <td>Paid Parking</td>\n",
       "      <td>POINT (-122.34572989 47.6095449)</td>\n",
       "      <td>8/9/2022</td>\n",
       "      <td>12:31</td>\n",
       "      <td>Tuesday</td>\n",
       "      <td>8</td>\n",
       "      <td>Midday</td>\n",
       "    </tr>\n",
       "  </tbody>\n",
       "</table>\n",
       "</div>"
      ],
      "text/plain": [
       "  OccupancyDateTime  PaidOccupancy  \\\n",
       "0     8/9/2022 8:10              2   \n",
       "1    8/9/2022 12:31              5   \n",
       "\n",
       "                                       BlockfaceName  SourceElementKey  \\\n",
       "0  OCCIDENTAL AVE S BETWEEN S KING W ST AND RAILR...             80001   \n",
       "1      ALASKAN WAY BETWEEN VIRGINIA ST AND LENORA ST             76621   \n",
       "\n",
       "   ParkingTimeLimitCategory  ParkingSpaceCount PaidParkingArea  \\\n",
       "0                     120.0                  7  Pioneer Square   \n",
       "1                     120.0                 16        Belltown   \n",
       "\n",
       "  ParkingCategory                           Location      Date   Time  \\\n",
       "0    Paid Parking  POINT (-122.33338994 47.59675354)  8/9/2022   8:10   \n",
       "1    Paid Parking   POINT (-122.34572989 47.6095449)  8/9/2022  12:31   \n",
       "\n",
       "   DayWeek  Month TimeSlot  \n",
       "0  Tuesday      8  Evening  \n",
       "1  Tuesday      8   Midday  "
      ]
     },
     "execution_count": 22,
     "metadata": {},
     "output_type": "execute_result"
    }
   ],
   "source": [
    "parking_48.head(2)"
   ]
  },
  {
   "cell_type": "markdown",
   "id": "aaf8e4c8",
   "metadata": {},
   "source": [
    "now everything should be fine"
   ]
  },
  {
   "cell_type": "code",
   "execution_count": 23,
   "id": "ce3b30fa",
   "metadata": {},
   "outputs": [],
   "source": [
    "parking_48.to_csv(\"parking_48.csv\")"
   ]
  },
  {
   "cell_type": "markdown",
   "id": "abcf9992",
   "metadata": {},
   "source": [
    "### parking_30days data preparation"
   ]
  },
  {
   "cell_type": "code",
   "execution_count": 162,
   "id": "e6da849f",
   "metadata": {},
   "outputs": [
    {
     "data": {
      "text/plain": [
       "(1048575, 12)"
      ]
     },
     "execution_count": 162,
     "metadata": {},
     "output_type": "execute_result"
    }
   ],
   "source": [
    "parking_30days.shape"
   ]
  },
  {
   "cell_type": "code",
   "execution_count": 163,
   "id": "f525e11f",
   "metadata": {},
   "outputs": [
    {
     "name": "stdout",
     "output_type": "stream",
     "text": [
      "<class 'pandas.core.frame.DataFrame'>\n",
      "RangeIndex: 1048575 entries, 0 to 1048574\n",
      "Data columns (total 12 columns):\n",
      " #   Column                    Non-Null Count    Dtype  \n",
      "---  ------                    --------------    -----  \n",
      " 0   OccupancyDateTime         1048575 non-null  object \n",
      " 1   PaidOccupancy             1048575 non-null  int64  \n",
      " 2   BlockfaceName             1048575 non-null  object \n",
      " 3   SideOfStreet              1048575 non-null  object \n",
      " 4   SourceElementKey          1048575 non-null  int64  \n",
      " 5   ParkingTimeLimitCategory  1047363 non-null  float64\n",
      " 6   ParkingSpaceCount         1048575 non-null  int64  \n",
      " 7   PaidParkingArea           1048575 non-null  object \n",
      " 8   PaidParkingSubArea        754582 non-null   object \n",
      " 9   PaidParkingRate           0 non-null        float64\n",
      " 10  ParkingCategory           1048575 non-null  object \n",
      " 11  Location                  1048575 non-null  object \n",
      "dtypes: float64(2), int64(3), object(7)\n",
      "memory usage: 96.0+ MB\n"
     ]
    }
   ],
   "source": [
    "parking_30days.info()"
   ]
  },
  {
   "cell_type": "code",
   "execution_count": 164,
   "id": "400a321d",
   "metadata": {},
   "outputs": [
    {
     "data": {
      "text/plain": [
       "OccupancyDateTime                 0\n",
       "PaidOccupancy                     0\n",
       "BlockfaceName                     0\n",
       "SideOfStreet                      0\n",
       "SourceElementKey                  0\n",
       "ParkingTimeLimitCategory       1212\n",
       "ParkingSpaceCount                 0\n",
       "PaidParkingArea                   0\n",
       "PaidParkingSubArea           293993\n",
       "PaidParkingRate             1048575\n",
       "ParkingCategory                   0\n",
       "Location                          0\n",
       "dtype: int64"
      ]
     },
     "execution_count": 164,
     "metadata": {},
     "output_type": "execute_result"
    }
   ],
   "source": [
    "parking_30days.isnull().sum()"
   ]
  },
  {
   "cell_type": "code",
   "execution_count": 165,
   "id": "b6df2a00",
   "metadata": {},
   "outputs": [
    {
     "data": {
      "text/html": [
       "<div>\n",
       "<style scoped>\n",
       "    .dataframe tbody tr th:only-of-type {\n",
       "        vertical-align: middle;\n",
       "    }\n",
       "\n",
       "    .dataframe tbody tr th {\n",
       "        vertical-align: top;\n",
       "    }\n",
       "\n",
       "    .dataframe thead th {\n",
       "        text-align: right;\n",
       "    }\n",
       "</style>\n",
       "<table border=\"1\" class=\"dataframe\">\n",
       "  <thead>\n",
       "    <tr style=\"text-align: right;\">\n",
       "      <th></th>\n",
       "      <th>PaidOccupancy</th>\n",
       "      <th>SourceElementKey</th>\n",
       "      <th>ParkingTimeLimitCategory</th>\n",
       "      <th>ParkingSpaceCount</th>\n",
       "      <th>PaidParkingRate</th>\n",
       "    </tr>\n",
       "  </thead>\n",
       "  <tbody>\n",
       "    <tr>\n",
       "      <th>count</th>\n",
       "      <td>1.048575e+06</td>\n",
       "      <td>1.048575e+06</td>\n",
       "      <td>1.047363e+06</td>\n",
       "      <td>1.048575e+06</td>\n",
       "      <td>0.0</td>\n",
       "    </tr>\n",
       "    <tr>\n",
       "      <th>mean</th>\n",
       "      <td>3.029384e+00</td>\n",
       "      <td>4.579967e+04</td>\n",
       "      <td>1.852068e+02</td>\n",
       "      <td>7.289537e+00</td>\n",
       "      <td>NaN</td>\n",
       "    </tr>\n",
       "    <tr>\n",
       "      <th>std</th>\n",
       "      <td>3.156507e+00</td>\n",
       "      <td>2.870402e+04</td>\n",
       "      <td>1.181155e+02</td>\n",
       "      <td>4.659746e+00</td>\n",
       "      <td>NaN</td>\n",
       "    </tr>\n",
       "    <tr>\n",
       "      <th>min</th>\n",
       "      <td>0.000000e+00</td>\n",
       "      <td>1.001000e+03</td>\n",
       "      <td>3.000000e+01</td>\n",
       "      <td>1.000000e+00</td>\n",
       "      <td>NaN</td>\n",
       "    </tr>\n",
       "    <tr>\n",
       "      <th>25%</th>\n",
       "      <td>1.000000e+00</td>\n",
       "      <td>2.018500e+04</td>\n",
       "      <td>1.200000e+02</td>\n",
       "      <td>4.000000e+00</td>\n",
       "      <td>NaN</td>\n",
       "    </tr>\n",
       "    <tr>\n",
       "      <th>50%</th>\n",
       "      <td>2.000000e+00</td>\n",
       "      <td>4.394600e+04</td>\n",
       "      <td>1.200000e+02</td>\n",
       "      <td>6.000000e+00</td>\n",
       "      <td>NaN</td>\n",
       "    </tr>\n",
       "    <tr>\n",
       "      <th>75%</th>\n",
       "      <td>4.000000e+00</td>\n",
       "      <td>7.073000e+04</td>\n",
       "      <td>2.400000e+02</td>\n",
       "      <td>9.000000e+00</td>\n",
       "      <td>NaN</td>\n",
       "    </tr>\n",
       "    <tr>\n",
       "      <th>max</th>\n",
       "      <td>7.600000e+01</td>\n",
       "      <td>1.363220e+05</td>\n",
       "      <td>6.000000e+02</td>\n",
       "      <td>4.900000e+01</td>\n",
       "      <td>NaN</td>\n",
       "    </tr>\n",
       "  </tbody>\n",
       "</table>\n",
       "</div>"
      ],
      "text/plain": [
       "       PaidOccupancy  SourceElementKey  ParkingTimeLimitCategory  \\\n",
       "count   1.048575e+06      1.048575e+06              1.047363e+06   \n",
       "mean    3.029384e+00      4.579967e+04              1.852068e+02   \n",
       "std     3.156507e+00      2.870402e+04              1.181155e+02   \n",
       "min     0.000000e+00      1.001000e+03              3.000000e+01   \n",
       "25%     1.000000e+00      2.018500e+04              1.200000e+02   \n",
       "50%     2.000000e+00      4.394600e+04              1.200000e+02   \n",
       "75%     4.000000e+00      7.073000e+04              2.400000e+02   \n",
       "max     7.600000e+01      1.363220e+05              6.000000e+02   \n",
       "\n",
       "       ParkingSpaceCount  PaidParkingRate  \n",
       "count       1.048575e+06              0.0  \n",
       "mean        7.289537e+00              NaN  \n",
       "std         4.659746e+00              NaN  \n",
       "min         1.000000e+00              NaN  \n",
       "25%         4.000000e+00              NaN  \n",
       "50%         6.000000e+00              NaN  \n",
       "75%         9.000000e+00              NaN  \n",
       "max         4.900000e+01              NaN  "
      ]
     },
     "execution_count": 165,
     "metadata": {},
     "output_type": "execute_result"
    }
   ],
   "source": [
    "parking_30days.describe()"
   ]
  },
  {
   "cell_type": "code",
   "execution_count": 166,
   "id": "34b07bf7",
   "metadata": {},
   "outputs": [
    {
     "data": {
      "text/plain": [
       "Index(['OccupancyDateTime', 'PaidOccupancy', 'BlockfaceName', 'SideOfStreet',\n",
       "       'SourceElementKey', 'ParkingTimeLimitCategory', 'ParkingSpaceCount',\n",
       "       'PaidParkingArea', 'PaidParkingSubArea', 'PaidParkingRate',\n",
       "       'ParkingCategory', 'Location'],\n",
       "      dtype='object')"
      ]
     },
     "execution_count": 166,
     "metadata": {},
     "output_type": "execute_result"
    }
   ],
   "source": [
    "parking_30days.columns"
   ]
  },
  {
   "cell_type": "code",
   "execution_count": 167,
   "id": "2f0168a0",
   "metadata": {},
   "outputs": [],
   "source": [
    "#drop unusable columns\n",
    "parking_30days = parking_30days.drop(['SideOfStreet',\n",
    "        'PaidParkingSubArea', 'PaidParkingRate'], axis=1)"
   ]
  },
  {
   "cell_type": "code",
   "execution_count": 168,
   "id": "3b155ba9",
   "metadata": {},
   "outputs": [],
   "source": [
    "# rename nan in column 'ParkingTimeLimitCategory' on \"Unknown\" which will be usefull for local authority\n",
    "parking_30days.fillna(\"Unknown\", inplace=True)"
   ]
  },
  {
   "cell_type": "code",
   "execution_count": 169,
   "id": "2f4f52a0",
   "metadata": {},
   "outputs": [
    {
     "data": {
      "text/plain": [
       "OccupancyDateTime           0\n",
       "PaidOccupancy               0\n",
       "BlockfaceName               0\n",
       "SourceElementKey            0\n",
       "ParkingTimeLimitCategory    0\n",
       "ParkingSpaceCount           0\n",
       "PaidParkingArea             0\n",
       "ParkingCategory             0\n",
       "Location                    0\n",
       "dtype: int64"
      ]
     },
     "execution_count": 169,
     "metadata": {},
     "output_type": "execute_result"
    }
   ],
   "source": [
    "parking_30days.isnull().sum()"
   ]
  },
  {
   "cell_type": "code",
   "execution_count": 170,
   "id": "37525796",
   "metadata": {},
   "outputs": [],
   "source": [
    "#split column 'OccupancyDateTime' for date and time\n",
    "parking_30days['Date'] = parking_30days['OccupancyDateTime'].str.split(\" \").str.get(0)\n",
    "parking_30days['Time'] = parking_30days['OccupancyDateTime'].str.split(\" \").str.get(1)"
   ]
  },
  {
   "cell_type": "code",
   "execution_count": 171,
   "id": "fafd2c86",
   "metadata": {},
   "outputs": [],
   "source": [
    "#create columns \"DayWeek\" and \"Month\" \n",
    "parking_30days['DayWeek'] = pd.to_datetime(parking_30days['Date']).dt.day_name()\n",
    "parking_30days['Month'] = pd.to_datetime(parking_30days['Date']).dt.month\n"
   ]
  },
  {
   "cell_type": "code",
   "execution_count": 172,
   "id": "15927ba5",
   "metadata": {},
   "outputs": [],
   "source": [
    "#create a new column \"TimeSlot\" by condition according to time slots in file about public life people staying\n",
    "#create a list of conditions\n",
    "conditions = [\n",
    "              (parking_30days[\"Time\"] >= \"6:00\") & (parking_30days[\"Time\"] < \"11:00\"),\n",
    "              (parking_30days[\"Time\"] >= \"11:00\") & (parking_30days[\"Time\"] < \"15:00\"),\n",
    "              (parking_30days[\"Time\"] >= \"15:00\") & (parking_30days[\"Time\"] < \"17:00\"),\n",
    "              (parking_30days[\"Time\"] >= \"17:00\")]\n",
    "              \n",
    "\n",
    "# create a list of the values we want to assign for each condition\n",
    "values = [\"Morning\", \"Midday\", \"Early Evening\", \"Evening\"]\n",
    "  \n",
    "#create a new column\n",
    "parking_30days[\"TimeSlot\"] = np.select(conditions, values)"
   ]
  },
  {
   "cell_type": "code",
   "execution_count": 173,
   "id": "9ff8391e",
   "metadata": {},
   "outputs": [
    {
     "data": {
      "text/html": [
       "<div>\n",
       "<style scoped>\n",
       "    .dataframe tbody tr th:only-of-type {\n",
       "        vertical-align: middle;\n",
       "    }\n",
       "\n",
       "    .dataframe tbody tr th {\n",
       "        vertical-align: top;\n",
       "    }\n",
       "\n",
       "    .dataframe thead th {\n",
       "        text-align: right;\n",
       "    }\n",
       "</style>\n",
       "<table border=\"1\" class=\"dataframe\">\n",
       "  <thead>\n",
       "    <tr style=\"text-align: right;\">\n",
       "      <th></th>\n",
       "      <th>OccupancyDateTime</th>\n",
       "      <th>PaidOccupancy</th>\n",
       "      <th>BlockfaceName</th>\n",
       "      <th>SourceElementKey</th>\n",
       "      <th>ParkingTimeLimitCategory</th>\n",
       "      <th>ParkingSpaceCount</th>\n",
       "      <th>PaidParkingArea</th>\n",
       "      <th>ParkingCategory</th>\n",
       "      <th>Location</th>\n",
       "      <th>Date</th>\n",
       "      <th>Time</th>\n",
       "      <th>DayWeek</th>\n",
       "      <th>Month</th>\n",
       "      <th>TimeSlot</th>\n",
       "    </tr>\n",
       "  </thead>\n",
       "  <tbody>\n",
       "    <tr>\n",
       "      <th>0</th>\n",
       "      <td>7/20/2022 18:23</td>\n",
       "      <td>1</td>\n",
       "      <td>4TH AVE BETWEEN MADISON ST AND SPRING ST</td>\n",
       "      <td>51473</td>\n",
       "      <td>120.0</td>\n",
       "      <td>6</td>\n",
       "      <td>Commercial Core</td>\n",
       "      <td>Paid Parking</td>\n",
       "      <td>POINT (-122.33336524 47.60639351)</td>\n",
       "      <td>7/20/2022</td>\n",
       "      <td>18:23</td>\n",
       "      <td>Wednesday</td>\n",
       "      <td>7</td>\n",
       "      <td>Evening</td>\n",
       "    </tr>\n",
       "    <tr>\n",
       "      <th>1</th>\n",
       "      <td>7/20/2022 19:42</td>\n",
       "      <td>4</td>\n",
       "      <td>WESTERN AVE BETWEEN CEDAR ST AND CLAY ST</td>\n",
       "      <td>36121</td>\n",
       "      <td>240.0</td>\n",
       "      <td>6</td>\n",
       "      <td>Belltown</td>\n",
       "      <td>Paid Parking</td>\n",
       "      <td>POINT (-122.35199635 47.61536129)</td>\n",
       "      <td>7/20/2022</td>\n",
       "      <td>19:42</td>\n",
       "      <td>Wednesday</td>\n",
       "      <td>7</td>\n",
       "      <td>Evening</td>\n",
       "    </tr>\n",
       "  </tbody>\n",
       "</table>\n",
       "</div>"
      ],
      "text/plain": [
       "  OccupancyDateTime  PaidOccupancy                             BlockfaceName  \\\n",
       "0   7/20/2022 18:23              1  4TH AVE BETWEEN MADISON ST AND SPRING ST   \n",
       "1   7/20/2022 19:42              4  WESTERN AVE BETWEEN CEDAR ST AND CLAY ST   \n",
       "\n",
       "   SourceElementKey ParkingTimeLimitCategory  ParkingSpaceCount  \\\n",
       "0             51473                    120.0                  6   \n",
       "1             36121                    240.0                  6   \n",
       "\n",
       "   PaidParkingArea ParkingCategory                           Location  \\\n",
       "0  Commercial Core    Paid Parking  POINT (-122.33336524 47.60639351)   \n",
       "1         Belltown    Paid Parking  POINT (-122.35199635 47.61536129)   \n",
       "\n",
       "        Date   Time    DayWeek  Month TimeSlot  \n",
       "0  7/20/2022  18:23  Wednesday      7  Evening  \n",
       "1  7/20/2022  19:42  Wednesday      7  Evening  "
      ]
     },
     "execution_count": 173,
     "metadata": {},
     "output_type": "execute_result"
    }
   ],
   "source": [
    "parking_30days.head(2)"
   ]
  },
  {
   "cell_type": "markdown",
   "id": "fef01267",
   "metadata": {},
   "source": [
    "Everything looks good"
   ]
  },
  {
   "cell_type": "code",
   "execution_count": 174,
   "id": "39f74386",
   "metadata": {},
   "outputs": [],
   "source": [
    "parking_30days.to_csv('parking_30days.csv')"
   ]
  },
  {
   "cell_type": "markdown",
   "id": "84f24e5a",
   "metadata": {},
   "source": [
    "### public_location data preparation"
   ]
  },
  {
   "cell_type": "code",
   "execution_count": 141,
   "id": "1bc1d9e6",
   "metadata": {},
   "outputs": [
    {
     "data": {
      "text/plain": [
       "(126, 20)"
      ]
     },
     "execution_count": 141,
     "metadata": {},
     "output_type": "execute_result"
    }
   ],
   "source": [
    "public_location.shape"
   ]
  },
  {
   "cell_type": "code",
   "execution_count": 142,
   "id": "caf03748",
   "metadata": {},
   "outputs": [
    {
     "name": "stdout",
     "output_type": "stream",
     "text": [
      "<class 'pandas.core.frame.DataFrame'>\n",
      "RangeIndex: 126 entries, 0 to 125\n",
      "Data columns (total 20 columns):\n",
      " #   Column                                    Non-Null Count  Dtype  \n",
      "---  ------                                    --------------  -----  \n",
      " 0   location_id                               126 non-null    object \n",
      " 1   location_name_primary                     126 non-null    object \n",
      " 2   location_name_secondary                   126 non-null    object \n",
      " 3   location_detail                           124 non-null    object \n",
      " 4   location_blockface_elmntkey               120 non-null    float64\n",
      " 5   location_sidewalk_compkey                 121 non-null    object \n",
      " 6   location_transit_stop_present             125 non-null    object \n",
      " 7   location_neighborhood_type                126 non-null    object \n",
      " 8   location_neighborhood                     126 non-null    object \n",
      " 9   location_character                        126 non-null    object \n",
      " 10  location_line_typology_vehicular          126 non-null    object \n",
      " 11  location_area_typology                    126 non-null    object \n",
      " 12  location_area_typology_subcategory        122 non-null    object \n",
      " 13  location_total_sqft                       123 non-null    float64\n",
      " 14  location_average_number_commercial_seats  110 non-null    float64\n",
      " 15  location_average_number_public_seats      110 non-null    float64\n",
      " 16  location_country                          126 non-null    object \n",
      " 17  location_region                           126 non-null    object \n",
      " 18  location_city                             126 non-null    object \n",
      " 19  location_notes                            7 non-null      object \n",
      "dtypes: float64(4), object(16)\n",
      "memory usage: 19.8+ KB\n"
     ]
    }
   ],
   "source": [
    "public_location.info()"
   ]
  },
  {
   "cell_type": "code",
   "execution_count": 143,
   "id": "88a3ed43",
   "metadata": {},
   "outputs": [
    {
     "data": {
      "text/plain": [
       "location_id                                   0\n",
       "location_name_primary                         0\n",
       "location_name_secondary                       0\n",
       "location_detail                               2\n",
       "location_blockface_elmntkey                   6\n",
       "location_sidewalk_compkey                     5\n",
       "location_transit_stop_present                 1\n",
       "location_neighborhood_type                    0\n",
       "location_neighborhood                         0\n",
       "location_character                            0\n",
       "location_line_typology_vehicular              0\n",
       "location_area_typology                        0\n",
       "location_area_typology_subcategory            4\n",
       "location_total_sqft                           3\n",
       "location_average_number_commercial_seats     16\n",
       "location_average_number_public_seats         16\n",
       "location_country                              0\n",
       "location_region                               0\n",
       "location_city                                 0\n",
       "location_notes                              119\n",
       "dtype: int64"
      ]
     },
     "execution_count": 143,
     "metadata": {},
     "output_type": "execute_result"
    }
   ],
   "source": [
    "public_location.isnull().sum()"
   ]
  },
  {
   "cell_type": "code",
   "execution_count": 144,
   "id": "f1f2c75f",
   "metadata": {},
   "outputs": [
    {
     "data": {
      "text/html": [
       "<div>\n",
       "<style scoped>\n",
       "    .dataframe tbody tr th:only-of-type {\n",
       "        vertical-align: middle;\n",
       "    }\n",
       "\n",
       "    .dataframe tbody tr th {\n",
       "        vertical-align: top;\n",
       "    }\n",
       "\n",
       "    .dataframe thead th {\n",
       "        text-align: right;\n",
       "    }\n",
       "</style>\n",
       "<table border=\"1\" class=\"dataframe\">\n",
       "  <thead>\n",
       "    <tr style=\"text-align: right;\">\n",
       "      <th></th>\n",
       "      <th>location_id</th>\n",
       "      <th>location_name_primary</th>\n",
       "      <th>location_name_secondary</th>\n",
       "      <th>location_detail</th>\n",
       "      <th>location_blockface_elmntkey</th>\n",
       "      <th>location_sidewalk_compkey</th>\n",
       "      <th>location_transit_stop_present</th>\n",
       "      <th>location_neighborhood_type</th>\n",
       "      <th>location_neighborhood</th>\n",
       "      <th>location_character</th>\n",
       "      <th>location_line_typology_vehicular</th>\n",
       "      <th>location_area_typology</th>\n",
       "      <th>location_area_typology_subcategory</th>\n",
       "      <th>location_total_sqft</th>\n",
       "      <th>location_average_number_commercial_seats</th>\n",
       "      <th>location_average_number_public_seats</th>\n",
       "      <th>location_country</th>\n",
       "      <th>location_region</th>\n",
       "      <th>location_city</th>\n",
       "      <th>location_notes</th>\n",
       "    </tr>\n",
       "  </thead>\n",
       "  <tbody>\n",
       "    <tr>\n",
       "      <th>0</th>\n",
       "      <td>ALK1</td>\n",
       "      <td>ALKI AVE SW</td>\n",
       "      <td>BETWEEN MARINE AVE SW AND 59TH AVE SW</td>\n",
       "      <td>SE</td>\n",
       "      <td>76698.0</td>\n",
       "      <td>318968</td>\n",
       "      <td>Bus</td>\n",
       "      <td>Outside</td>\n",
       "      <td>Alki</td>\n",
       "      <td>Commercial</td>\n",
       "      <td>Neighborhood Corridor</td>\n",
       "      <td>Street</td>\n",
       "      <td>Block face</td>\n",
       "      <td>2480.0</td>\n",
       "      <td>0.0</td>\n",
       "      <td>6.0</td>\n",
       "      <td>United States of America</td>\n",
       "      <td>Washington</td>\n",
       "      <td>Seattle</td>\n",
       "      <td>NaN</td>\n",
       "    </tr>\n",
       "    <tr>\n",
       "      <th>1</th>\n",
       "      <td>ALK2</td>\n",
       "      <td>ALKI AVE SW</td>\n",
       "      <td>BETWEEN 57TH AVE SW AND 58TH AVE SW</td>\n",
       "      <td>SE</td>\n",
       "      <td>8914.0</td>\n",
       "      <td>318972</td>\n",
       "      <td>None</td>\n",
       "      <td>Outside</td>\n",
       "      <td>Alki</td>\n",
       "      <td>Commercial</td>\n",
       "      <td>Neighborhood Corridor</td>\n",
       "      <td>Street</td>\n",
       "      <td>Block face</td>\n",
       "      <td>1428.0</td>\n",
       "      <td>23.0</td>\n",
       "      <td>0.0</td>\n",
       "      <td>United States of America</td>\n",
       "      <td>Washington</td>\n",
       "      <td>Seattle</td>\n",
       "      <td>NaN</td>\n",
       "    </tr>\n",
       "  </tbody>\n",
       "</table>\n",
       "</div>"
      ],
      "text/plain": [
       "  location_id location_name_primary                location_name_secondary  \\\n",
       "0        ALK1           ALKI AVE SW  BETWEEN MARINE AVE SW AND 59TH AVE SW   \n",
       "1        ALK2           ALKI AVE SW    BETWEEN 57TH AVE SW AND 58TH AVE SW   \n",
       "\n",
       "  location_detail  location_blockface_elmntkey location_sidewalk_compkey  \\\n",
       "0              SE                      76698.0                    318968   \n",
       "1              SE                       8914.0                    318972   \n",
       "\n",
       "  location_transit_stop_present location_neighborhood_type  \\\n",
       "0                           Bus                    Outside   \n",
       "1                          None                    Outside   \n",
       "\n",
       "  location_neighborhood location_character location_line_typology_vehicular  \\\n",
       "0                  Alki         Commercial            Neighborhood Corridor   \n",
       "1                  Alki         Commercial            Neighborhood Corridor   \n",
       "\n",
       "  location_area_typology location_area_typology_subcategory  \\\n",
       "0                 Street                         Block face   \n",
       "1                 Street                         Block face   \n",
       "\n",
       "   location_total_sqft  location_average_number_commercial_seats  \\\n",
       "0               2480.0                                       0.0   \n",
       "1               1428.0                                      23.0   \n",
       "\n",
       "   location_average_number_public_seats          location_country  \\\n",
       "0                                   6.0  United States of America   \n",
       "1                                   0.0  United States of America   \n",
       "\n",
       "  location_region location_city location_notes  \n",
       "0      Washington       Seattle            NaN  \n",
       "1      Washington       Seattle            NaN  "
      ]
     },
     "execution_count": 144,
     "metadata": {},
     "output_type": "execute_result"
    }
   ],
   "source": [
    "public_location.head(2)"
   ]
  },
  {
   "cell_type": "code",
   "execution_count": 145,
   "id": "c59f2ef6",
   "metadata": {},
   "outputs": [
    {
     "data": {
      "text/plain": [
       "Index(['location_id', 'location_name_primary', 'location_name_secondary',\n",
       "       'location_detail', 'location_blockface_elmntkey',\n",
       "       'location_sidewalk_compkey', 'location_transit_stop_present',\n",
       "       'location_neighborhood_type', 'location_neighborhood',\n",
       "       'location_character', 'location_line_typology_vehicular',\n",
       "       'location_area_typology', 'location_area_typology_subcategory',\n",
       "       'location_total_sqft', 'location_average_number_commercial_seats',\n",
       "       'location_average_number_public_seats', 'location_country',\n",
       "       'location_region', 'location_city', 'location_notes'],\n",
       "      dtype='object')"
      ]
     },
     "execution_count": 145,
     "metadata": {},
     "output_type": "execute_result"
    }
   ],
   "source": [
    "public_location.columns"
   ]
  },
  {
   "cell_type": "code",
   "execution_count": 146,
   "id": "a33833a4",
   "metadata": {},
   "outputs": [],
   "source": [
    "# drop unusable columns\n",
    "public_location = public_location.drop(['location_detail', 'location_sidewalk_compkey', 'location_area_typology', 'location_total_sqft', 'location_transit_stop_present', 'location_neighborhood_type', 'location_line_typology_vehicular', 'location_country',\n",
    "       'location_region', 'location_city', 'location_notes'], axis=1)"
   ]
  },
  {
   "cell_type": "code",
   "execution_count": 147,
   "id": "62a4a769",
   "metadata": {},
   "outputs": [
    {
     "data": {
      "text/html": [
       "<div>\n",
       "<style scoped>\n",
       "    .dataframe tbody tr th:only-of-type {\n",
       "        vertical-align: middle;\n",
       "    }\n",
       "\n",
       "    .dataframe tbody tr th {\n",
       "        vertical-align: top;\n",
       "    }\n",
       "\n",
       "    .dataframe thead th {\n",
       "        text-align: right;\n",
       "    }\n",
       "</style>\n",
       "<table border=\"1\" class=\"dataframe\">\n",
       "  <thead>\n",
       "    <tr style=\"text-align: right;\">\n",
       "      <th></th>\n",
       "      <th>location_id</th>\n",
       "      <th>location_name_primary</th>\n",
       "      <th>location_name_secondary</th>\n",
       "      <th>location_blockface_elmntkey</th>\n",
       "      <th>location_neighborhood</th>\n",
       "      <th>location_character</th>\n",
       "      <th>location_area_typology_subcategory</th>\n",
       "      <th>location_average_number_commercial_seats</th>\n",
       "      <th>location_average_number_public_seats</th>\n",
       "    </tr>\n",
       "  </thead>\n",
       "  <tbody>\n",
       "    <tr>\n",
       "      <th>0</th>\n",
       "      <td>ALK1</td>\n",
       "      <td>ALKI AVE SW</td>\n",
       "      <td>BETWEEN MARINE AVE SW AND 59TH AVE SW</td>\n",
       "      <td>76698.0</td>\n",
       "      <td>Alki</td>\n",
       "      <td>Commercial</td>\n",
       "      <td>Block face</td>\n",
       "      <td>0.0</td>\n",
       "      <td>6.0</td>\n",
       "    </tr>\n",
       "    <tr>\n",
       "      <th>1</th>\n",
       "      <td>ALK2</td>\n",
       "      <td>ALKI AVE SW</td>\n",
       "      <td>BETWEEN 57TH AVE SW AND 58TH AVE SW</td>\n",
       "      <td>8914.0</td>\n",
       "      <td>Alki</td>\n",
       "      <td>Commercial</td>\n",
       "      <td>Block face</td>\n",
       "      <td>23.0</td>\n",
       "      <td>0.0</td>\n",
       "    </tr>\n",
       "  </tbody>\n",
       "</table>\n",
       "</div>"
      ],
      "text/plain": [
       "  location_id location_name_primary                location_name_secondary  \\\n",
       "0        ALK1           ALKI AVE SW  BETWEEN MARINE AVE SW AND 59TH AVE SW   \n",
       "1        ALK2           ALKI AVE SW    BETWEEN 57TH AVE SW AND 58TH AVE SW   \n",
       "\n",
       "   location_blockface_elmntkey location_neighborhood location_character  \\\n",
       "0                      76698.0                  Alki         Commercial   \n",
       "1                       8914.0                  Alki         Commercial   \n",
       "\n",
       "  location_area_typology_subcategory  \\\n",
       "0                         Block face   \n",
       "1                         Block face   \n",
       "\n",
       "   location_average_number_commercial_seats  \\\n",
       "0                                       0.0   \n",
       "1                                      23.0   \n",
       "\n",
       "   location_average_number_public_seats  \n",
       "0                                   6.0  \n",
       "1                                   0.0  "
      ]
     },
     "execution_count": 147,
     "metadata": {},
     "output_type": "execute_result"
    }
   ],
   "source": [
    "public_location.head(2)"
   ]
  },
  {
   "cell_type": "code",
   "execution_count": 148,
   "id": "3952d4a0",
   "metadata": {},
   "outputs": [
    {
     "data": {
      "text/plain": [
       "location_id                                  0\n",
       "location_name_primary                        0\n",
       "location_name_secondary                      0\n",
       "location_blockface_elmntkey                  6\n",
       "location_neighborhood                        0\n",
       "location_character                           0\n",
       "location_area_typology_subcategory           4\n",
       "location_average_number_commercial_seats    16\n",
       "location_average_number_public_seats        16\n",
       "dtype: int64"
      ]
     },
     "execution_count": 148,
     "metadata": {},
     "output_type": "execute_result"
    }
   ],
   "source": [
    "public_location.isnull().sum()"
   ]
  },
  {
   "cell_type": "code",
   "execution_count": 150,
   "id": "419ae65e",
   "metadata": {},
   "outputs": [],
   "source": [
    "# drop rows with Nan in 'location_blockface_elmntkey', because it is a primarykey in join with other column\n",
    "public_location= public_location.dropna(subset=['location_blockface_elmntkey'])"
   ]
  },
  {
   "cell_type": "code",
   "execution_count": 152,
   "id": "d66e5417",
   "metadata": {},
   "outputs": [],
   "source": [
    "# drop rows with Nan in 'location_average_number_commercial_seats' and 'location_average_number_public_seats' because we cannot to calculate the ocupancy of seat or change it on 0\n",
    "#(clarify it during calculation). Now fill it with 0\n",
    "public_location = public_location.fillna(0)"
   ]
  },
  {
   "cell_type": "code",
   "execution_count": 155,
   "id": "abfb13df",
   "metadata": {},
   "outputs": [
    {
     "data": {
      "text/plain": [
       "location_id                                 0\n",
       "location_name_primary                       0\n",
       "location_name_secondary                     0\n",
       "location_blockface_elmntkey                 0\n",
       "location_neighborhood                       0\n",
       "location_character                          0\n",
       "location_area_typology_subcategory          0\n",
       "location_average_number_commercial_seats    0\n",
       "location_average_number_public_seats        0\n",
       "dtype: int64"
      ]
     },
     "execution_count": 155,
     "metadata": {},
     "output_type": "execute_result"
    }
   ],
   "source": [
    "public_location.isnull().sum()"
   ]
  },
  {
   "cell_type": "code",
   "execution_count": 156,
   "id": "cb8aaa2b",
   "metadata": {},
   "outputs": [
    {
     "data": {
      "text/plain": [
       "(120, 9)"
      ]
     },
     "execution_count": 156,
     "metadata": {},
     "output_type": "execute_result"
    }
   ],
   "source": [
    "public_location.shape"
   ]
  },
  {
   "cell_type": "markdown",
   "id": "255e53ff",
   "metadata": {},
   "source": [
    "Now everything looks good"
   ]
  },
  {
   "cell_type": "markdown",
   "id": "fe7a146a",
   "metadata": {},
   "source": [
    "### public_staying preparation"
   ]
  },
  {
   "cell_type": "code",
   "execution_count": 60,
   "id": "c1a85ce3",
   "metadata": {},
   "outputs": [
    {
     "data": {
      "text/plain": [
       "(11202, 50)"
      ]
     },
     "execution_count": 60,
     "metadata": {},
     "output_type": "execute_result"
    }
   ],
   "source": [
    "public_staying.shape"
   ]
  },
  {
   "cell_type": "code",
   "execution_count": 61,
   "id": "b64f44a8",
   "metadata": {},
   "outputs": [
    {
     "name": "stdout",
     "output_type": "stream",
     "text": [
      "<class 'pandas.core.frame.DataFrame'>\n",
      "RangeIndex: 11202 entries, 0 to 11201\n",
      "Data columns (total 50 columns):\n",
      " #   Column                                       Non-Null Count  Dtype  \n",
      "---  ------                                       --------------  -----  \n",
      " 0   unique_staying_id                            11202 non-null  int64  \n",
      " 1   study_id                                     11202 non-null  object \n",
      " 2   location_id                                  11202 non-null  object \n",
      " 3   staying_time_start                           11202 non-null  object \n",
      " 4   staying_time_end                             11202 non-null  object \n",
      " 5   staying_day_of_week                          11202 non-null  object \n",
      " 6   staying_time_of_day                          11202 non-null  object \n",
      " 7   staying_count_surveyor                       11202 non-null  object \n",
      " 8   staying_conditions                           953 non-null    object \n",
      " 9   staying_microclimate                         6662 non-null   object \n",
      " 10  staying_temperature                          6662 non-null   float64\n",
      " 11  staying_row_total                            11202 non-null  int64  \n",
      " 12  staying_group_size                           11032 non-null  object \n",
      " 13  staying_race_ethnicity                       10561 non-null  object \n",
      " 14  staying_gender                               11048 non-null  object \n",
      " 15  staying_age                                  10841 non-null  object \n",
      " 16  standing                                     6375 non-null   float64\n",
      " 17  leaning                                      602 non-null    float64\n",
      " 18  sitting_formal_all                           3031 non-null   float64\n",
      " 19  sitting_formal_public                        1017 non-null   float64\n",
      " 20  sitting_formal_public_fixed_bench            346 non-null    float64\n",
      " 21  sitting_formal_public_fixed_wall_with_seats  372 non-null    float64\n",
      " 22  sitting_formal_public_movable_seat           114 non-null    float64\n",
      " 23  sitting_formal_commercial                    970 non-null    float64\n",
      " 24  sitting_formal_private                       213 non-null    float64\n",
      " 25  sitting_informal                             699 non-null    float64\n",
      " 26  lying                                        270 non-null    float64\n",
      " 27  staying_mobility_assist                      220 non-null    float64\n",
      " 28  commercial_all                               1842 non-null   float64\n",
      " 29  commercial_selling                           175 non-null    float64\n",
      " 30  commercial_selling_informal                  50 non-null     float64\n",
      " 31  commercial_buying                            845 non-null    float64\n",
      " 32  commercial_observing                         516 non-null    float64\n",
      " 33  eating_drinking                              1886 non-null   float64\n",
      " 34  talking_to_others                            5034 non-null   float64\n",
      " 35  smoking                                      950 non-null    float64\n",
      " 36  cultural                                     72 non-null     float64\n",
      " 37  recreation_active                            197 non-null    float64\n",
      " 38  recreation_passive                           1373 non-null   float64\n",
      " 39  waiting_transportation                       2468 non-null   float64\n",
      " 40  working_civic                                215 non-null    float64\n",
      " 41  disruptive                                   23 non-null     float64\n",
      " 42  disruptive_aggressive                        15 non-null     float64\n",
      " 43  disruptive_intoxicated                       19 non-null     float64\n",
      " 44  living_public                                324 non-null    float64\n",
      " 45  using_electronics                            2624 non-null   float64\n",
      " 46  soliciting                                   119 non-null    float64\n",
      " 47  staying_covid_mask                           486 non-null    object \n",
      " 48  staying_covid_social_distance                486 non-null    object \n",
      " 49  staying_notes                                453 non-null    object \n",
      "dtypes: float64(32), int64(2), object(16)\n",
      "memory usage: 4.3+ MB\n"
     ]
    }
   ],
   "source": [
    "public_staying.info()"
   ]
  },
  {
   "cell_type": "code",
   "execution_count": 62,
   "id": "e4ff0a27",
   "metadata": {},
   "outputs": [],
   "source": [
    "#select columns for our analysis\n",
    "public_staying = public_staying[['location_id', 'staying_day_of_week', 'staying_time_of_day', 'staying_group_size', 'staying_gender', 'staying_age']]"
   ]
  },
  {
   "cell_type": "code",
   "execution_count": 64,
   "id": "63762560",
   "metadata": {},
   "outputs": [
    {
     "data": {
      "text/plain": [
       "(11202, 6)"
      ]
     },
     "execution_count": 64,
     "metadata": {},
     "output_type": "execute_result"
    }
   ],
   "source": [
    "public_staying.shape"
   ]
  },
  {
   "cell_type": "code",
   "execution_count": 63,
   "id": "68959113",
   "metadata": {},
   "outputs": [
    {
     "data": {
      "text/plain": [
       "location_id              0\n",
       "staying_day_of_week      0\n",
       "staying_time_of_day      0\n",
       "staying_group_size     170\n",
       "staying_gender         154\n",
       "staying_age            361\n",
       "dtype: int64"
      ]
     },
     "execution_count": 63,
     "metadata": {},
     "output_type": "execute_result"
    }
   ],
   "source": [
    "public_staying.isnull().sum()"
   ]
  },
  {
   "cell_type": "code",
   "execution_count": 65,
   "id": "306d1a06",
   "metadata": {},
   "outputs": [],
   "source": [
    "#we will use a group size to calculate the occupancy of public places, so drop the rows with Nan value\n",
    "public_staying = public_staying.dropna()"
   ]
  },
  {
   "cell_type": "code",
   "execution_count": 67,
   "id": "bf17f202",
   "metadata": {},
   "outputs": [
    {
     "data": {
      "text/plain": [
       "location_id            0\n",
       "staying_day_of_week    0\n",
       "staying_time_of_day    0\n",
       "staying_group_size     0\n",
       "staying_gender         0\n",
       "staying_age            0\n",
       "dtype: int64"
      ]
     },
     "execution_count": 67,
     "metadata": {},
     "output_type": "execute_result"
    }
   ],
   "source": [
    "public_staying.isnull().sum()"
   ]
  },
  {
   "cell_type": "markdown",
   "id": "9f1f8a9e",
   "metadata": {},
   "source": [
    "*Now all data are complete and there is no missing values*"
   ]
  },
  {
   "cell_type": "code",
   "execution_count": 47,
   "id": "f4491dd2",
   "metadata": {},
   "outputs": [
    {
     "data": {
      "text/plain": [
       "(10931, 50)"
      ]
     },
     "execution_count": 47,
     "metadata": {},
     "output_type": "execute_result"
    }
   ],
   "source": [
    "public_staying.shape"
   ]
  },
  {
   "cell_type": "code",
   "execution_count": 81,
   "id": "99a25540",
   "metadata": {},
   "outputs": [
    {
     "data": {
      "text/plain": [
       "array(['Female', 'Other_Unsure', 'Male'], dtype=object)"
      ]
     },
     "execution_count": 81,
     "metadata": {},
     "output_type": "execute_result"
    }
   ],
   "source": [
    "public_staying['staying_gender'].unique()"
   ]
  },
  {
   "cell_type": "code",
   "execution_count": 95,
   "id": "f87c72df",
   "metadata": {},
   "outputs": [],
   "source": [
    "#rename 'Other_Unsure' on 'Unknown'\n",
    "public_staying.replace(to_replace = \"Other_Unsure\", value = \"Unknown\", inplace = True)"
   ]
  },
  {
   "cell_type": "code",
   "execution_count": 97,
   "id": "20081750",
   "metadata": {},
   "outputs": [
    {
     "data": {
      "text/plain": [
       "array(['45-64', '0-4', '25-44', '65+', '15-24', '14-May', '25-64',\n",
       "       'Toddler - Walking unconfidently', 'Baby - Lying / Crawling',\n",
       "       'Up to 5 - Walking confidently'], dtype=object)"
      ]
     },
     "execution_count": 97,
     "metadata": {},
     "output_type": "execute_result"
    }
   ],
   "source": [
    "public_staying[\"staying_age\"].unique()"
   ]
  },
  {
   "cell_type": "code",
   "execution_count": 98,
   "id": "e3148fae",
   "metadata": {},
   "outputs": [],
   "source": [
    "# we see some problems with column \"staying_age\", so normalise it. \n",
    "# 1. Rename rows 'Toddler - Walking unconfidently', 'Baby - Lying / Crawling', 'Up to 5 - Walking confidently' to '0-4'\n",
    "public_staying.replace(to_replace=('Toddler - Walking unconfidently', 'Baby - Lying / Crawling', 'Up to 5 - Walking confidently'), value='0-4', inplace=True)"
   ]
  },
  {
   "cell_type": "code",
   "execution_count": 99,
   "id": "e1994f5f",
   "metadata": {},
   "outputs": [],
   "source": [
    "# 2. We need to do something with '14-May'. If to see on metadata for this dataset on https://data.seattle.gov/Transportation/Public-Life-Data-People-Staying/5mzj-4rtf we have age '5-14', so make a change\n",
    "public_staying.replace(to_replace = '14-May', value='5-14', inplace=True)\n"
   ]
  },
  {
   "cell_type": "code",
   "execution_count": 100,
   "id": "d19a0002",
   "metadata": {},
   "outputs": [
    {
     "data": {
      "text/html": [
       "<div>\n",
       "<style scoped>\n",
       "    .dataframe tbody tr th:only-of-type {\n",
       "        vertical-align: middle;\n",
       "    }\n",
       "\n",
       "    .dataframe tbody tr th {\n",
       "        vertical-align: top;\n",
       "    }\n",
       "\n",
       "    .dataframe thead th {\n",
       "        text-align: right;\n",
       "    }\n",
       "</style>\n",
       "<table border=\"1\" class=\"dataframe\">\n",
       "  <thead>\n",
       "    <tr style=\"text-align: right;\">\n",
       "      <th></th>\n",
       "      <th>location_id</th>\n",
       "      <th>staying_day_of_week</th>\n",
       "      <th>staying_time_of_day</th>\n",
       "      <th>staying_group_size</th>\n",
       "      <th>staying_gender</th>\n",
       "      <th>staying_age</th>\n",
       "    </tr>\n",
       "  </thead>\n",
       "  <tbody>\n",
       "    <tr>\n",
       "      <th>2</th>\n",
       "      <td>MAP1</td>\n",
       "      <td>Weekday</td>\n",
       "      <td>Morning</td>\n",
       "      <td>3</td>\n",
       "      <td>Female</td>\n",
       "      <td>45-64</td>\n",
       "    </tr>\n",
       "    <tr>\n",
       "      <th>3</th>\n",
       "      <td>MAP1</td>\n",
       "      <td>Weekday</td>\n",
       "      <td>Morning</td>\n",
       "      <td>3</td>\n",
       "      <td>Female</td>\n",
       "      <td>45-64</td>\n",
       "    </tr>\n",
       "    <tr>\n",
       "      <th>4</th>\n",
       "      <td>MAP1</td>\n",
       "      <td>Weekday</td>\n",
       "      <td>Morning</td>\n",
       "      <td>3</td>\n",
       "      <td>Unknown</td>\n",
       "      <td>0-4</td>\n",
       "    </tr>\n",
       "    <tr>\n",
       "      <th>5</th>\n",
       "      <td>MAP1</td>\n",
       "      <td>Weekday</td>\n",
       "      <td>Morning</td>\n",
       "      <td>1</td>\n",
       "      <td>Male</td>\n",
       "      <td>25-44</td>\n",
       "    </tr>\n",
       "    <tr>\n",
       "      <th>6</th>\n",
       "      <td>MAP1</td>\n",
       "      <td>Weekday</td>\n",
       "      <td>Morning</td>\n",
       "      <td>2</td>\n",
       "      <td>Male</td>\n",
       "      <td>25-44</td>\n",
       "    </tr>\n",
       "    <tr>\n",
       "      <th>7</th>\n",
       "      <td>MAP1</td>\n",
       "      <td>Weekday</td>\n",
       "      <td>Morning</td>\n",
       "      <td>2</td>\n",
       "      <td>Unknown</td>\n",
       "      <td>0-4</td>\n",
       "    </tr>\n",
       "    <tr>\n",
       "      <th>8</th>\n",
       "      <td>MAP1</td>\n",
       "      <td>Weekday</td>\n",
       "      <td>Midday</td>\n",
       "      <td>1</td>\n",
       "      <td>Male</td>\n",
       "      <td>45-64</td>\n",
       "    </tr>\n",
       "    <tr>\n",
       "      <th>9</th>\n",
       "      <td>MAP1</td>\n",
       "      <td>Weekday</td>\n",
       "      <td>Midday</td>\n",
       "      <td>1</td>\n",
       "      <td>Female</td>\n",
       "      <td>65+</td>\n",
       "    </tr>\n",
       "    <tr>\n",
       "      <th>10</th>\n",
       "      <td>MAP1</td>\n",
       "      <td>Weekday</td>\n",
       "      <td>Midday</td>\n",
       "      <td>2</td>\n",
       "      <td>Male</td>\n",
       "      <td>45-64</td>\n",
       "    </tr>\n",
       "    <tr>\n",
       "      <th>11</th>\n",
       "      <td>MAP1</td>\n",
       "      <td>Weekday</td>\n",
       "      <td>Midday</td>\n",
       "      <td>2</td>\n",
       "      <td>Male</td>\n",
       "      <td>25-44</td>\n",
       "    </tr>\n",
       "  </tbody>\n",
       "</table>\n",
       "</div>"
      ],
      "text/plain": [
       "   location_id staying_day_of_week staying_time_of_day staying_group_size  \\\n",
       "2         MAP1             Weekday             Morning                  3   \n",
       "3         MAP1             Weekday             Morning                  3   \n",
       "4         MAP1             Weekday             Morning                  3   \n",
       "5         MAP1             Weekday             Morning                  1   \n",
       "6         MAP1             Weekday             Morning                  2   \n",
       "7         MAP1             Weekday             Morning                  2   \n",
       "8         MAP1             Weekday              Midday                  1   \n",
       "9         MAP1             Weekday              Midday                  1   \n",
       "10        MAP1             Weekday              Midday                  2   \n",
       "11        MAP1             Weekday              Midday                  2   \n",
       "\n",
       "   staying_gender staying_age  \n",
       "2          Female       45-64  \n",
       "3          Female       45-64  \n",
       "4         Unknown         0-4  \n",
       "5            Male       25-44  \n",
       "6            Male       25-44  \n",
       "7         Unknown         0-4  \n",
       "8            Male       45-64  \n",
       "9          Female         65+  \n",
       "10           Male       45-64  \n",
       "11           Male       25-44  "
      ]
     },
     "execution_count": 100,
     "metadata": {},
     "output_type": "execute_result"
    }
   ],
   "source": [
    "public_staying.head(10)"
   ]
  },
  {
   "cell_type": "code",
   "execution_count": 48,
   "id": "b0f181be",
   "metadata": {},
   "outputs": [
    {
     "name": "stdout",
     "output_type": "stream",
     "text": [
      "<class 'pandas.core.frame.DataFrame'>\n",
      "RangeIndex: 1048575 entries, 0 to 1048574\n",
      "Data columns (total 14 columns):\n",
      " #   Column                    Non-Null Count    Dtype  \n",
      "---  ------                    --------------    -----  \n",
      " 0   OccupancyDateTime         1048575 non-null  object \n",
      " 1   PaidOccupancy             1048575 non-null  int64  \n",
      " 2   BlockfaceName             1048575 non-null  object \n",
      " 3   SourceElementKey          1048575 non-null  int64  \n",
      " 4   ParkingTimeLimitCategory  1047296 non-null  float64\n",
      " 5   ParkingSpaceCount         1048575 non-null  int64  \n",
      " 6   PaidParkingArea           1048575 non-null  object \n",
      " 7   ParkingCategory           1048575 non-null  object \n",
      " 8   Location                  1048575 non-null  object \n",
      " 9   Date                      1048575 non-null  object \n",
      " 10  Time                      1048575 non-null  object \n",
      " 11  DayWeek                   1048575 non-null  object \n",
      " 12  Month                     1048575 non-null  int64  \n",
      " 13  TimeSlot                  1048575 non-null  object \n",
      "dtypes: float64(1), int64(4), object(9)\n",
      "memory usage: 112.0+ MB\n"
     ]
    }
   ],
   "source": [
    "parking_48.info()"
   ]
  },
  {
   "cell_type": "code",
   "execution_count": 49,
   "id": "87640d9d",
   "metadata": {},
   "outputs": [
    {
     "name": "stdout",
     "output_type": "stream",
     "text": [
      "<class 'pandas.core.frame.DataFrame'>\n",
      "RangeIndex: 1048575 entries, 0 to 1048574\n",
      "Data columns (total 14 columns):\n",
      " #   Column                    Non-Null Count    Dtype  \n",
      "---  ------                    --------------    -----  \n",
      " 0   OccupancyDateTime         1048575 non-null  object \n",
      " 1   PaidOccupancy             1048575 non-null  int64  \n",
      " 2   BlockfaceName             1048575 non-null  object \n",
      " 3   SourceElementKey          1048575 non-null  int64  \n",
      " 4   ParkingTimeLimitCategory  1047363 non-null  float64\n",
      " 5   ParkingSpaceCount         1048575 non-null  int64  \n",
      " 6   PaidParkingArea           1048575 non-null  object \n",
      " 7   ParkingCategory           1048575 non-null  object \n",
      " 8   Location                  1048575 non-null  object \n",
      " 9   Date                      1048575 non-null  object \n",
      " 10  Time                      1048575 non-null  object \n",
      " 11  DayWeek                   1048575 non-null  object \n",
      " 12  Month                     1048575 non-null  int64  \n",
      " 13  TimeSlot                  1048575 non-null  object \n",
      "dtypes: float64(1), int64(4), object(9)\n",
      "memory usage: 112.0+ MB\n"
     ]
    }
   ],
   "source": [
    "parking_30days.info()"
   ]
  },
  {
   "cell_type": "markdown",
   "id": "b95e86a7",
   "metadata": {},
   "source": [
    "### park_address data preparation"
   ]
  },
  {
   "cell_type": "code",
   "execution_count": 157,
   "id": "828576d2",
   "metadata": {},
   "outputs": [
    {
     "data": {
      "text/plain": [
       "(412, 8)"
      ]
     },
     "execution_count": 157,
     "metadata": {},
     "output_type": "execute_result"
    }
   ],
   "source": [
    "park_address.shape"
   ]
  },
  {
   "cell_type": "code",
   "execution_count": 158,
   "id": "942b2ad2",
   "metadata": {},
   "outputs": [
    {
     "name": "stdout",
     "output_type": "stream",
     "text": [
      "<class 'pandas.core.frame.DataFrame'>\n",
      "RangeIndex: 412 entries, 0 to 411\n",
      "Data columns (total 8 columns):\n",
      " #   Column      Non-Null Count  Dtype  \n",
      "---  ------      --------------  -----  \n",
      " 0   PMAID       412 non-null    int64  \n",
      " 1   LocID       412 non-null    int64  \n",
      " 2   Name        412 non-null    object \n",
      " 3   Address     412 non-null    object \n",
      " 4   ZIP Code    412 non-null    int64  \n",
      " 5   X Coord     412 non-null    float64\n",
      " 6   Y Coord     412 non-null    float64\n",
      " 7   Location 1  412 non-null    object \n",
      "dtypes: float64(2), int64(3), object(3)\n",
      "memory usage: 25.9+ KB\n"
     ]
    }
   ],
   "source": [
    "park_address.info()"
   ]
  },
  {
   "cell_type": "code",
   "execution_count": 159,
   "id": "212b83b3",
   "metadata": {},
   "outputs": [
    {
     "data": {
      "text/plain": [
       "PMAID         0\n",
       "LocID         0\n",
       "Name          0\n",
       "Address       0\n",
       "ZIP Code      0\n",
       "X Coord       0\n",
       "Y Coord       0\n",
       "Location 1    0\n",
       "dtype: int64"
      ]
     },
     "execution_count": 159,
     "metadata": {},
     "output_type": "execute_result"
    }
   ],
   "source": [
    "park_address.isnull().sum()"
   ]
  },
  {
   "cell_type": "markdown",
   "id": "27b65d2e",
   "metadata": {},
   "source": [
    "Everything looks good"
   ]
  },
  {
   "cell_type": "code",
   "execution_count": null,
   "id": "bc37548a",
   "metadata": {},
   "outputs": [],
   "source": []
  }
 ],
 "metadata": {
  "kernelspec": {
   "display_name": "Python 3",
   "language": "python",
   "name": "python3"
  },
  "language_info": {
   "codemirror_mode": {
    "name": "ipython",
    "version": 3
   },
   "file_extension": ".py",
   "mimetype": "text/x-python",
   "name": "python",
   "nbconvert_exporter": "python",
   "pygments_lexer": "ipython3",
   "version": "3.8.8"
  }
 },
 "nbformat": 4,
 "nbformat_minor": 5
}
