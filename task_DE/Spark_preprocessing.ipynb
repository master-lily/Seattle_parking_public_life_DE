{
 "cells": [
  {
   "cell_type": "code",
   "execution_count": 1,
   "id": "8d8fbc49",
   "metadata": {},
   "outputs": [],
   "source": [
    "import pyspark\n",
    "from pyspark.sql import SparkSession\n",
    "import pandas as pd\n",
    "import pyspark.sql.functions as F"
   ]
  },
  {
   "cell_type": "code",
   "execution_count": 2,
   "id": "f713a7a3",
   "metadata": {},
   "outputs": [],
   "source": [
    "spark = SparkSession.builder.appName(' Pyspark Seattle Dataframe').getOrCreate()"
   ]
  },
  {
   "cell_type": "markdown",
   "id": "cbe1379a",
   "metadata": {},
   "source": [
    "# Read data from cleaned prepared  files"
   ]
  },
  {
   "cell_type": "markdown",
   "id": "1ed5760d",
   "metadata": {},
   "source": [
    "#### *Read data about parking for 30 days*"
   ]
  },
  {
   "cell_type": "code",
   "execution_count": 3,
   "id": "8aa7d0ff",
   "metadata": {},
   "outputs": [],
   "source": [
    "#read cleaned data about parking for 30 days\n",
    "parking_30days = spark.read.csv('parking_30days.csv', sep=',', inferSchema=True, header = True)"
   ]
  },
  {
   "cell_type": "code",
   "execution_count": 4,
   "id": "ab040a85",
   "metadata": {},
   "outputs": [
    {
     "name": "stdout",
     "output_type": "stream",
     "text": [
      "+---+--------------------+-------------+--------------------+----------------+------------------------+-----------------+---------------+---------------+--------------------+-------------------+-------------------+---------+-----+\n",
      "|_c0|   OccupancyDateTime|PaidOccupancy|       BlockfaceName|SourceElementKey|ParkingTimeLimitCategory|ParkingSpaceCount|PaidParkingArea|ParkingCategory|            Location|               Date|               Time|  DayWeek|Month|\n",
      "+---+--------------------+-------------+--------------------+----------------+------------------------+-----------------+---------------+---------------+--------------------+-------------------+-------------------+---------+-----+\n",
      "|  0|07/20/2022 06:23:...|          1.0|4TH AVE BETWEEN M...|         51473.0|                   120.0|              6.0|Commercial Core|   Paid Parking|POINT (-122.33336...|2022-07-20 00:00:00|2022-09-15 18:23:00|Wednesday|  7.0|\n",
      "|  1|07/20/2022 07:42:...|          4.0|WESTERN AVE BETWE...|         36121.0|                   240.0|              6.0|       Belltown|   Paid Parking|POINT (-122.35199...|2022-07-20 00:00:00|2022-09-15 19:42:00|Wednesday|  7.0|\n",
      "+---+--------------------+-------------+--------------------+----------------+------------------------+-----------------+---------------+---------------+--------------------+-------------------+-------------------+---------+-----+\n",
      "only showing top 2 rows\n",
      "\n"
     ]
    }
   ],
   "source": [
    "parking_30days.show(2)"
   ]
  },
  {
   "cell_type": "code",
   "execution_count": 5,
   "id": "0cfcb066",
   "metadata": {},
   "outputs": [
    {
     "name": "stdout",
     "output_type": "stream",
     "text": [
      "<class 'pyspark.sql.dataframe.DataFrame'>\n"
     ]
    }
   ],
   "source": [
    "#Checking DataTypes of PySpark DataFrames\n",
    "print(type(parking_30days))"
   ]
  },
  {
   "cell_type": "code",
   "execution_count": 6,
   "id": "266f87dc",
   "metadata": {},
   "outputs": [
    {
     "name": "stdout",
     "output_type": "stream",
     "text": [
      "root\n",
      " |-- _c0: integer (nullable = true)\n",
      " |-- OccupancyDateTime: string (nullable = true)\n",
      " |-- PaidOccupancy: string (nullable = true)\n",
      " |-- BlockfaceName: string (nullable = true)\n",
      " |-- SourceElementKey: string (nullable = true)\n",
      " |-- ParkingTimeLimitCategory: string (nullable = true)\n",
      " |-- ParkingSpaceCount: string (nullable = true)\n",
      " |-- PaidParkingArea: string (nullable = true)\n",
      " |-- ParkingCategory: string (nullable = true)\n",
      " |-- Location: string (nullable = true)\n",
      " |-- Date: timestamp (nullable = true)\n",
      " |-- Time: timestamp (nullable = true)\n",
      " |-- DayWeek: string (nullable = true)\n",
      " |-- Month: double (nullable = true)\n",
      "\n"
     ]
    }
   ],
   "source": [
    "# Checking Schema of PySpark DataFrames\n",
    "parking_30days.printSchema()"
   ]
  },
  {
   "cell_type": "code",
   "execution_count": 7,
   "id": "270c27a5",
   "metadata": {},
   "outputs": [
    {
     "data": {
      "text/plain": [
       "Row(_c0=0, OccupancyDateTime='07/20/2022 06:23:00 PM', PaidOccupancy='1.0', BlockfaceName='4TH AVE BETWEEN MADISON ST AND SPRING ST', SourceElementKey='51473.0', ParkingTimeLimitCategory='120.0', ParkingSpaceCount='6.0', PaidParkingArea='Commercial Core', ParkingCategory='Paid Parking', Location='POINT (-122.33336524 47.60639351)', Date=datetime.datetime(2022, 7, 20, 0, 0), Time=datetime.datetime(2022, 9, 15, 18, 23), DayWeek='Wednesday', Month=7.0)"
      ]
     },
     "execution_count": 7,
     "metadata": {},
     "output_type": "execute_result"
    }
   ],
   "source": [
    "parking_30days.head()"
   ]
  },
  {
   "cell_type": "markdown",
   "id": "fbca3337",
   "metadata": {},
   "source": [
    "#### *Read data about public location*"
   ]
  },
  {
   "cell_type": "code",
   "execution_count": 8,
   "id": "da45d5d4",
   "metadata": {},
   "outputs": [],
   "source": [
    "public_location = spark.read.csv('public_location.csv', sep=',', inferSchema=True, header=True)"
   ]
  },
  {
   "cell_type": "code",
   "execution_count": 9,
   "id": "02479d14",
   "metadata": {},
   "outputs": [
    {
     "name": "stdout",
     "output_type": "stream",
     "text": [
      "<class 'pyspark.sql.dataframe.DataFrame'>\n"
     ]
    }
   ],
   "source": [
    "#Checking datatypes\n",
    "print(type(public_location))"
   ]
  },
  {
   "cell_type": "code",
   "execution_count": 10,
   "id": "02d2cfb5",
   "metadata": {},
   "outputs": [
    {
     "name": "stdout",
     "output_type": "stream",
     "text": [
      "root\n",
      " |-- _c0: integer (nullable = true)\n",
      " |-- location_id: string (nullable = true)\n",
      " |-- location_name_primary: string (nullable = true)\n",
      " |-- location_name_secondary: string (nullable = true)\n",
      " |-- location_blockface_elmntkey: double (nullable = true)\n",
      " |-- location_neighborhood: string (nullable = true)\n",
      " |-- location_character: string (nullable = true)\n",
      " |-- location_area_typology_subcategory: string (nullable = true)\n",
      " |-- location_average_number_commercial_seats: double (nullable = true)\n",
      " |-- location_average_number_public_seats: double (nullable = true)\n",
      "\n"
     ]
    }
   ],
   "source": [
    "#Checking schema, we get _c0, because first column have indexes of rows\n",
    "public_location.printSchema()"
   ]
  },
  {
   "cell_type": "code",
   "execution_count": 11,
   "id": "481cda72",
   "metadata": {},
   "outputs": [
    {
     "name": "stdout",
     "output_type": "stream",
     "text": [
      "+---+-----------+---------------------+-----------------------+---------------------------+---------------------+------------------+----------------------------------+----------------------------------------+------------------------------------+\n",
      "|_c0|location_id|location_name_primary|location_name_secondary|location_blockface_elmntkey|location_neighborhood|location_character|location_area_typology_subcategory|location_average_number_commercial_seats|location_average_number_public_seats|\n",
      "+---+-----------+---------------------+-----------------------+---------------------------+---------------------+------------------+----------------------------------+----------------------------------------+------------------------------------+\n",
      "|  0|       ALK1|          ALKI AVE SW|   BETWEEN MARINE AV...|                    76698.0|                 Alki|        Commercial|                        Block face|                                     0.0|                                 6.0|\n",
      "|  1|       ALK2|          ALKI AVE SW|   BETWEEN 57TH AVE ...|                     8914.0|                 Alki|        Commercial|                        Block face|                                    23.0|                                 0.0|\n",
      "+---+-----------+---------------------+-----------------------+---------------------------+---------------------+------------------+----------------------------------+----------------------------------------+------------------------------------+\n",
      "only showing top 2 rows\n",
      "\n"
     ]
    }
   ],
   "source": [
    "#llok at table in table format\n",
    "public_location.show(2)"
   ]
  },
  {
   "cell_type": "code",
   "execution_count": 12,
   "id": "ab169d35",
   "metadata": {},
   "outputs": [
    {
     "data": {
      "text/plain": [
       "Row(_c0=0, location_id='ALK1', location_name_primary='ALKI AVE SW', location_name_secondary='BETWEEN MARINE AVE SW AND 59TH AVE SW', location_blockface_elmntkey=76698.0, location_neighborhood='Alki', location_character='Commercial', location_area_typology_subcategory='Block face', location_average_number_commercial_seats=0.0, location_average_number_public_seats=6.0)"
      ]
     },
     "execution_count": 12,
     "metadata": {},
     "output_type": "execute_result"
    }
   ],
   "source": [
    "#look at data in row format\n",
    "public_location.head()"
   ]
  },
  {
   "cell_type": "markdown",
   "id": "36a5c156",
   "metadata": {},
   "source": [
    "#### *Read data about public staying*"
   ]
  },
  {
   "cell_type": "code",
   "execution_count": 13,
   "id": "0bbd4f61",
   "metadata": {},
   "outputs": [],
   "source": [
    "#read data\n",
    "public_staying = spark.read.csv('public_staying.csv', sep = ',', inferSchema=True, header=True)"
   ]
  },
  {
   "cell_type": "code",
   "execution_count": 14,
   "id": "cb02bd24",
   "metadata": {},
   "outputs": [
    {
     "name": "stdout",
     "output_type": "stream",
     "text": [
      "<class 'pyspark.sql.dataframe.DataFrame'>\n"
     ]
    }
   ],
   "source": [
    "# datatype\n",
    "print(type(public_staying))"
   ]
  },
  {
   "cell_type": "code",
   "execution_count": 15,
   "id": "e828c910",
   "metadata": {},
   "outputs": [
    {
     "name": "stdout",
     "output_type": "stream",
     "text": [
      "root\n",
      " |-- _c0: integer (nullable = true)\n",
      " |-- location_id: string (nullable = true)\n",
      " |-- staying_time_start: string (nullable = true)\n",
      " |-- staying_time_of_day: string (nullable = true)\n",
      " |-- staying_group_size: string (nullable = true)\n",
      " |-- staying_gender: string (nullable = true)\n",
      " |-- staying_age: string (nullable = true)\n",
      " |-- day_of_week: string (nullable = true)\n",
      "\n"
     ]
    }
   ],
   "source": [
    "# print schema\n",
    "public_staying.printSchema()"
   ]
  },
  {
   "cell_type": "code",
   "execution_count": 16,
   "id": "2ba2ed9c",
   "metadata": {},
   "outputs": [
    {
     "name": "stdout",
     "output_type": "stream",
     "text": [
      "+---+-----------+--------------------+-------------------+------------------+--------------+-----------+-----------+\n",
      "|_c0|location_id|  staying_time_start|staying_time_of_day|staying_group_size|staying_gender|staying_age|day_of_week|\n",
      "+---+-----------+--------------------+-------------------+------------------+--------------+-----------+-----------+\n",
      "|  2|       MAP1|08/02/2018 08:20:...|            Morning|                 3|        Female|      45-64|   Thursday|\n",
      "|  3|       MAP1|08/02/2018 08:20:...|            Morning|                 3|        Female|      45-64|   Thursday|\n",
      "+---+-----------+--------------------+-------------------+------------------+--------------+-----------+-----------+\n",
      "only showing top 2 rows\n",
      "\n"
     ]
    }
   ],
   "source": [
    "# table\n",
    "public_staying.show(2)"
   ]
  },
  {
   "cell_type": "code",
   "execution_count": 17,
   "id": "867eb613",
   "metadata": {},
   "outputs": [
    {
     "data": {
      "text/plain": [
       "Row(_c0=2, location_id='MAP1', staying_time_start='08/02/2018 08:20:00 AM', staying_time_of_day='Morning', staying_group_size='3', staying_gender='Female', staying_age='45-64', day_of_week='Thursday')"
      ]
     },
     "execution_count": 17,
     "metadata": {},
     "output_type": "execute_result"
    }
   ],
   "source": [
    "#table in row format, head\n",
    "public_staying.head()"
   ]
  },
  {
   "cell_type": "markdown",
   "id": "2606298c",
   "metadata": {},
   "source": [
    "#### *Read data about park address*"
   ]
  },
  {
   "cell_type": "code",
   "execution_count": 18,
   "id": "59e28f4f",
   "metadata": {},
   "outputs": [],
   "source": [
    "#read data\n",
    "park_address = spark.read.csv('park_address.csv', sep = ',', inferSchema=True, header=True)"
   ]
  },
  {
   "cell_type": "code",
   "execution_count": 19,
   "id": "12bd7cb5",
   "metadata": {},
   "outputs": [
    {
     "name": "stdout",
     "output_type": "stream",
     "text": [
      "<class 'pyspark.sql.dataframe.DataFrame'>\n"
     ]
    }
   ],
   "source": [
    "# data type\n",
    "print(type(park_address))"
   ]
  },
  {
   "cell_type": "code",
   "execution_count": 20,
   "id": "55ce0bfe",
   "metadata": {},
   "outputs": [
    {
     "name": "stdout",
     "output_type": "stream",
     "text": [
      "root\n",
      " |-- _c0: integer (nullable = true)\n",
      " |-- PMAID: integer (nullable = true)\n",
      " |-- LocID: integer (nullable = true)\n",
      " |-- Name: string (nullable = true)\n",
      " |-- Address: string (nullable = true)\n",
      " |-- ZIP Code: integer (nullable = true)\n",
      " |-- X Coord: double (nullable = true)\n",
      " |-- Y Coord: double (nullable = true)\n",
      " |-- Location 1: string (nullable = true)\n",
      "\n"
     ]
    }
   ],
   "source": [
    "# schema\n",
    "park_address.printSchema()"
   ]
  },
  {
   "cell_type": "code",
   "execution_count": 21,
   "id": "e13a8f27",
   "metadata": {},
   "outputs": [
    {
     "name": "stdout",
     "output_type": "stream",
     "text": [
      "+---+-----+-----+--------------------+---------------+--------+-----------+---------+--------------------+\n",
      "|_c0|PMAID|LocID|                Name|        Address|ZIP Code|    X Coord|  Y Coord|          Location 1|\n",
      "+---+-----+-----+--------------------+---------------+--------+-----------+---------+--------------------+\n",
      "|  0|  281| 2545|12th and Howe Pla...| 1200 W Howe St|   98119|-122.372985|47.636097|(47.636097, -122....|\n",
      "|  1| 4159| 2387|12th Ave S Viewpoint|2821 12TH Ave S|   98144|-122.317765|47.577953|(47.577953, -122....|\n",
      "+---+-----+-----+--------------------+---------------+--------+-----------+---------+--------------------+\n",
      "only showing top 2 rows\n",
      "\n"
     ]
    }
   ],
   "source": [
    "#table, show first 2 rows\n",
    "park_address.show(2)"
   ]
  },
  {
   "cell_type": "code",
   "execution_count": 22,
   "id": "ec17d34e",
   "metadata": {},
   "outputs": [
    {
     "data": {
      "text/plain": [
       "Row(_c0=0, PMAID=281, LocID=2545, Name='12th and Howe Play Park', Address='1200 W Howe St', ZIP Code=98119, X Coord=-122.372985, Y Coord=47.636097, Location 1='(47.636097, -122.372985)')"
      ]
     },
     "execution_count": 22,
     "metadata": {},
     "output_type": "execute_result"
    }
   ],
   "source": [
    "#head\n",
    "park_address.head()"
   ]
  },
  {
   "cell_type": "code",
   "execution_count": 23,
   "id": "be4927f4",
   "metadata": {},
   "outputs": [
    {
     "data": {
      "text/plain": [
       "412"
      ]
     },
     "execution_count": 23,
     "metadata": {},
     "output_type": "execute_result"
    }
   ],
   "source": [
    "park_address.count()"
   ]
  },
  {
   "cell_type": "markdown",
   "id": "fbf99c3f",
   "metadata": {},
   "source": [
    "### Join tables  about parking and life data for preprocessing"
   ]
  },
  {
   "cell_type": "code",
   "execution_count": 24,
   "id": "14c0e03e",
   "metadata": {},
   "outputs": [
    {
     "name": "stdout",
     "output_type": "stream",
     "text": [
      "+----------------+--------------------+------------------------+\n",
      "|SourceElementKey|       BlockfaceName|ParkingTimeLimitCategory|\n",
      "+----------------+--------------------+------------------------+\n",
      "|         58686.0|WALL ST BETWEEN 2...|                   240.0|\n",
      "|         13549.0|WESTLAKE AVE N BE...|                   120.0|\n",
      "|         14697.0|E PINE ST BETWEEN...|                   120.0|\n",
      "|         58186.0|SPRING ST BETWEEN...|                   120.0|\n",
      "|          1433.0|11TH AVE NE BETWE...|                   240.0|\n",
      "|         13313.0|VIRGINIA ST BETWE...|                   120.0|\n",
      "|         47225.0|15TH AVE NE BETWE...|                   120.0|\n",
      "|         35849.0|UNIVERSITY WAY NE...|                   120.0|\n",
      "|        120105.0|EASTLAKE AVE E BE...|                   600.0|\n",
      "|        120198.0|WESTLAKE EAST RDW...|                   120.0|\n",
      "|         68550.0|W JOHN ST BETWEEN...|                   240.0|\n",
      "|         11590.0|MADISON ST BETWEE...|                   120.0|\n",
      "|         77994.0|DEXTER AVE N BETW...|                   120.0|\n",
      "|         69134.0|1ST AVE W BETWEEN...|                   240.0|\n",
      "|         76053.0|7TH AVE BETWEEN L...|                   240.0|\n",
      "|         45974.0|W MERCER ST BETWE...|                   240.0|\n",
      "|         54514.0|BLANCHARD ST BETW...|                   120.0|\n",
      "|         54074.0|ALOHA ST BETWEEN ...|                   600.0|\n",
      "|         34661.0|OLIVE WAY BETWEEN...|                   120.0|\n",
      "|         57898.0|ROOSEVELT WAY NE ...|                   240.0|\n",
      "+----------------+--------------------+------------------------+\n",
      "only showing top 20 rows\n",
      "\n"
     ]
    }
   ],
   "source": [
    "#choose distinct values from dataset about parking\n",
    "parking_dist_blockface = parking_30days.select('SourceElementKey', 'BlockfaceName', 'ParkingTimeLimitCategory').distinct()\n",
    "parking_dist_blockface.show()"
   ]
  },
  {
   "cell_type": "markdown",
   "id": "21fe5414",
   "metadata": {},
   "source": [
    "#### For the first purpose of business idea Visualize parking areas near public places and parks I will\n",
    " Build a heatmap of parking areas near public places and parks, describe their number by location and percent of total parking areas (the area – a public place or a park, color - the number of parking areas)\n",
    " So make appropriate metrics\n"
   ]
  },
  {
   "cell_type": "code",
   "execution_count": 25,
   "id": "a1d7ce1e",
   "metadata": {},
   "outputs": [
    {
     "name": "stdout",
     "output_type": "stream",
     "text": [
      "+-----+--------------------+\n",
      "|LocID|       BlockfaceName|\n",
      "+-----+--------------------+\n",
      "| 1617|12TH AVE NE BETWE...|\n",
      "| 1277|1ST AVE W BETWEEN...|\n",
      "| 1281|1ST AVE W BETWEEN...|\n",
      "| 1434|11TH AVE NE BETWE...|\n",
      "| 1821|13TH AVE BETWEEN ...|\n",
      "| 1233|10TH AVE BETWEEN ...|\n",
      "| 1045|1ST AVE N BETWEEN...|\n",
      "| 1213|1ST AVE S BETWEEN...|\n",
      "+-----+--------------------+\n",
      "\n"
     ]
    }
   ],
   "source": [
    "# parking in parks area. We so that there are 412 rows in table park_adress but when I had done left join I got many rows with null values. So I decided to show only parks with parking zone\n",
    "parking_location1_parks = park_address.join(parking_dist_blockface, park_address['LocID'] == parking_dist_blockface['SourceElementKey'], \"inner\").\\\n",
    "select([park_address.LocID] +[parking_dist_blockface.BlockfaceName])\n",
    "parking_location1_parks.show()"
   ]
  },
  {
   "cell_type": "code",
   "execution_count": 26,
   "id": "7dea9678",
   "metadata": {},
   "outputs": [],
   "source": [
    "#save results about parks and parking area\n",
    "parking_location1_parks.write.parquet('spark_results\\parking_parks')"
   ]
  },
  {
   "cell_type": "code",
   "execution_count": 27,
   "id": "d03e67e6",
   "metadata": {},
   "outputs": [
    {
     "name": "stdout",
     "output_type": "stream",
     "text": [
      "+-----------+---------------------+-----------------------+--------------------+------------------------+\n",
      "|location_id|location_name_primary|location_name_secondary|       BlockfaceName|ParkingTimeLimitCategory|\n",
      "+-----------+---------------------+-----------------------+--------------------+------------------------+\n",
      "|       BRY2|           NE 65TH ST|   BETWEEN 31ST AVE ...|                null|                    null|\n",
      "|       BLT2|              BELL ST|   BETWEEN 2ND AVE A...|                null|                    null|\n",
      "|       ALK1|          ALKI AVE SW|   BETWEEN MARINE AV...|                null|                    null|\n",
      "|       BRY1|           NE 65TH ST|   BETWEEN 32ND E AV...|                null|                    null|\n",
      "|       BAL1|         NW MARKET ST|   BETWEEN 22ND AVE ...|NW MARKET ST BETW...|                   120.0|\n",
      "|       BAL2|         NW MARKET ST|   BETWEEN  BALLARD ...|                null|                    null|\n",
      "|       BLT3|              2ND AVE|   BETWEEN BATTERY S...|2ND AVE BETWEEN B...|                   240.0|\n",
      "|       BAL4|       BALLARD AVE NW|   BETWEEN NW MARKET...|BALLARD AVE NW BE...|                   120.0|\n",
      "|       CAP3|            E JOHN ST|   BETWEEN BROADWAY ...|                null|                    null|\n",
      "|       BAL3|       BALLARD AVE NW|   BETWEEN NW VERNON...|BALLARD AVE NW BE...|                   120.0|\n",
      "|       BLT4|              4TH AVE|   BETWEEN VIRGINIA ...|4TH AVE BETWEEN V...|                   120.0|\n",
      "|       CAP4|         E  OLIVE WAY|   BETWEEN E HOWELL ...|                null|                    null|\n",
      "|       BEA1|          S LANDER ST|   BETWEEN 16TH AVE ...|                null|                    null|\n",
      "|       BEA2|         BEACON AVE S|   BETWEEN S LANDER ...|                null|                    null|\n",
      "|       CAP1|             BROADWAY|   BETWEEN HARRISON ...|BROADWAY E BETWEE...|                   120.0|\n",
      "|       CAP2|             15TH AVE|   BETWEEN HARRISON ...|                null|                    null|\n",
      "|       CID1|         S JACKSON ST|   BETWEEN 5TH AVE A...|                null|                    null|\n",
      "|       BLT1|              3RD AVE|   BETWEEN VIRGINIA ...|                null|                    null|\n",
      "|       BLV1|         LINDEN AVE N|   BETWEEN N 130TH S...|                null|                    null|\n",
      "|       BLV2|         LINDEN AVE N|   BETWEEN N 130TH S...|                null|                    null|\n",
      "+-----------+---------------------+-----------------------+--------------------+------------------------+\n",
      "only showing top 20 rows\n",
      "\n"
     ]
    }
   ],
   "source": [
    "#choose rows which we need for heatmap and bar with time limit for parking in public locations\n",
    "parking_location2 = public_location.join(parking_dist_blockface, public_location['location_blockface_elmntkey'] == parking_dist_blockface['SourceElementKey'], \"left\").\\\n",
    "select([public_location.location_id, public_location.location_name_primary, public_location.location_name_secondary]+[parking_dist_blockface.BlockfaceName, parking_dist_blockface.ParkingTimeLimitCategory])\n",
    "parking_location2.show()"
   ]
  },
  {
   "cell_type": "code",
   "execution_count": 28,
   "id": "ab384349",
   "metadata": {},
   "outputs": [
    {
     "name": "stdout",
     "output_type": "stream",
     "text": [
      "+-----------+--------------------+--------------------+\n",
      "|location_id|       BlockfaceName|count(BlockfaceName)|\n",
      "+-----------+--------------------+--------------------+\n",
      "|       FHT1|                null|                   0|\n",
      "|       BLT2|                null|                   0|\n",
      "|       GPR3|                null|                   0|\n",
      "|       COM2|                null|                   0|\n",
      "|       UNI3|                null|                   0|\n",
      "|       RSV2|                null|                   0|\n",
      "|       UQA1|                null|                   0|\n",
      "|       OTH2|                null|                   0|\n",
      "|       PIO8|YESLER WAY BETWEE...|                   1|\n",
      "|       PIO7|                null|                   0|\n",
      "|       UNI6|                null|                   0|\n",
      "|       BAL1|NW MARKET ST BETW...|                   1|\n",
      "|       WAL4|                null|                   0|\n",
      "|       WES1|                null|                   0|\n",
      "|       BLT1|                null|                   0|\n",
      "|       UNI4|NE 42ND ST BETWEE...|                   1|\n",
      "|       UPT2|TAYLOR AVE N BETW...|                   1|\n",
      "|       WHP1|                null|                   0|\n",
      "|       PIO1|2ND AV ET S BETWE...|                   1|\n",
      "|       SLU1|PONTIUS AVE N BET...|                   1|\n",
      "|       CAP1|BROADWAY E BETWEE...|                   1|\n",
      "|       PIO6|                null|                   0|\n",
      "|       NOR1|                null|                   0|\n",
      "|      PIO19|                null|                   0|\n",
      "|       BEA1|                null|                   0|\n",
      "|       COL1|RAINIER AVE S BET...|                   1|\n",
      "|       FRE2|FREMONT AVE N BET...|                   1|\n",
      "|       GPR1|                null|                   0|\n",
      "|       UQA2|                null|                   0|\n",
      "|       LAK2|                null|                   0|\n",
      "|       COL2|RAINIER AVE S BET...|                   1|\n",
      "|       RAV3|                null|                   0|\n",
      "|       GPR4|                null|                   0|\n",
      "|       BLT3|2ND AVE BETWEEN B...|                   1|\n",
      "|       SLU4|HARRISON ST BETWE...|                   1|\n",
      "|       OTH3|                null|                   0|\n",
      "|       OTH1|                null|                   0|\n",
      "|       MAP2|                null|                   0|\n",
      "|       WES3|                null|                   0|\n",
      "|       GPR2|                null|                   0|\n",
      "|       PIO3|1ST AVE S BETWEEN...|                   1|\n",
      "|       BRY2|                null|                   0|\n",
      "|       UPT3|                null|                   0|\n",
      "|       PIK3|BROADWAY BETWEEN ...|                   1|\n",
      "|       SOP2|                null|                   0|\n",
      "|       PIK5|MELROSE AVE BETWE...|                   1|\n",
      "|       PIO4|                null|                   0|\n",
      "|       MAG1|                null|                   0|\n",
      "|       CID3|S KING ST BETWEEN...|                   1|\n",
      "|       BEA2|                null|                   0|\n",
      "|       CID4|                null|                   0|\n",
      "|       ALK1|                null|                   0|\n",
      "|       CAP2|                null|                   0|\n",
      "|       MTB2|                null|                   0|\n",
      "|       NOR2|                null|                   0|\n",
      "|       UPT1|QUEEN ANNE AVE N ...|                   1|\n",
      "|       MAG2|                null|                   0|\n",
      "|       BLV2|                null|                   0|\n",
      "|       UNI5|                null|                   0|\n",
      "|       COM3|                null|                   0|\n",
      "|       COM4|                null|                   0|\n",
      "|       BAL4|BALLARD AVE NW BE...|                   1|\n",
      "|       RAI1|                null|                   0|\n",
      "|       BLV1|                null|                   0|\n",
      "|       SLU2|TERRY AVE N BETWE...|                   1|\n",
      "|       PIO2|                null|                   0|\n",
      "|       CAP4|                null|                   0|\n",
      "|       WAL2|                null|                   0|\n",
      "|       TUJ2|                null|                   0|\n",
      "|      PIO14|                null|                   0|\n",
      "|       BAL3|BALLARD AVE NW BE...|                   1|\n",
      "|       CRO1|                null|                   0|\n",
      "|       WAL1|                null|                   0|\n",
      "|       BAL2|                null|                   0|\n",
      "|       BLT4|4TH AVE BETWEEN V...|                   1|\n",
      "|       UNI1|UNIVERSITY WAY NE...|                   1|\n",
      "|       RSV1|                null|                   0|\n",
      "|       GEO1|                null|                   0|\n",
      "|       PIO5|                null|                   0|\n",
      "|       FHT3|                null|                   0|\n",
      "|       DEN2|                null|                   0|\n",
      "|       DEN4|6TH AVE BETWEEN L...|                   1|\n",
      "|       CRO2|                null|                   0|\n",
      "|       GEO2|                null|                   0|\n",
      "|       RAV2|                null|                   0|\n",
      "|       RAV1|                null|                   0|\n",
      "|       FHT2|                null|                   0|\n",
      "|       FRE1|                null|                   0|\n",
      "|       PIK4|                null|                   0|\n",
      "|       DEN3|7TH AVE BETWEEN W...|                   1|\n",
      "|       RAV4|                null|                   0|\n",
      "|       MAP1|                null|                   0|\n",
      "|       TUJ1|                null|                   0|\n",
      "|       WED1|                null|                   0|\n",
      "|       SLU3|                null|                   0|\n",
      "|       WED2|                null|                   0|\n",
      "|       COM1|                null|                   0|\n",
      "|       UPT4|1ST AVE W BETWEEN...|                   1|\n",
      "|       BRY1|                null|                   0|\n",
      "|       MTB1|                null|                   0|\n",
      "|       FHT4|12TH AVE BETWEEN ...|                   1|\n",
      "|       MAM2|                null|                   0|\n",
      "|       DEN1|                null|                   0|\n",
      "|       MAM1|                null|                   0|\n",
      "|       WES2|                null|                   0|\n",
      "|       PIK2|10TH AVE BETWEEN ...|                   1|\n",
      "|       RAI2|                null|                   0|\n",
      "|       CID1|                null|                   0|\n",
      "|       WES4|                null|                   0|\n",
      "|       CID2|MAYNARD AVE S BET...|                   1|\n",
      "|       LAK1|                null|                   0|\n",
      "|       WAL3|                null|                   0|\n",
      "|       SOP1|                null|                   0|\n",
      "|      PIO12|                null|                   0|\n",
      "|       ALK2|                null|                   0|\n",
      "|       UNI7|                null|                   0|\n",
      "|       PIK1|                null|                   0|\n",
      "|       UNI2|UNIVERSITY WAY NE...|                   1|\n",
      "|       CAP3|                null|                   0|\n",
      "|       WHP2|                null|                   0|\n",
      "+-----------+--------------------+--------------------+\n",
      "\n"
     ]
    }
   ],
   "source": [
    "# make a calculation for building map about location and parking areas\n",
    "parking_location2.groupby(\"location_id\",\"BlockfaceName\").agg({\"BlockfaceName\":\"count\"}).show(3000)"
   ]
  },
  {
   "cell_type": "code",
   "execution_count": 29,
   "id": "ecc901d6",
   "metadata": {},
   "outputs": [],
   "source": [
    "parking_location2.write.parquet('spark_results\\publicLocation_parkingZone')"
   ]
  },
  {
   "cell_type": "markdown",
   "id": "6d77b2b1",
   "metadata": {},
   "source": [
    "We have gotten the information for a heatmap"
   ]
  },
  {
   "cell_type": "markdown",
   "id": "03e4140d",
   "metadata": {},
   "source": [
    "### 2.To Compare the occupancy in parking areas and seats in public places by area and day\n",
    " I will calculate the percent of occupied parking places and seats in public places by area, day and time"
   ]
  },
  {
   "cell_type": "code",
   "execution_count": 30,
   "id": "edd7f63e",
   "metadata": {},
   "outputs": [
    {
     "name": "stdout",
     "output_type": "stream",
     "text": [
      "+-----------+---------------------+-----------------------+--------------------+-------------+------------------------+-----------------+---------+\n",
      "|location_id|location_name_primary|location_name_secondary|       BlockfaceName|PaidOccupancy|ParkingTimeLimitCategory|ParkingSpaceCount|  DayWeek|\n",
      "+-----------+---------------------+-----------------------+--------------------+-------------+------------------------+-----------------+---------+\n",
      "|       PIK2|             10TH AVE|   BETWEEN PIKE ST A...|10TH AVE BETWEEN ...|          5.0|                   120.0|              9.0|Wednesday|\n",
      "|       DEN3|              7TH AVE|   BETWEEN WESTLAKE ...|7TH AVE BETWEEN W...|          4.0|                   120.0|              4.0|Wednesday|\n",
      "+-----------+---------------------+-----------------------+--------------------+-------------+------------------------+-----------------+---------+\n",
      "only showing top 2 rows\n",
      "\n"
     ]
    }
   ],
   "source": [
    "# join  table parking and location\n",
    "parking_occup = public_location.join(parking_30days, public_location['location_blockface_elmntkey'] == parking_30days['SourceElementKey'], \"inner\").\\\n",
    "select([public_location.location_id, public_location.location_name_primary, public_location.location_name_secondary] + [parking_30days.BlockfaceName,parking_30days.PaidOccupancy,  parking_30days.ParkingTimeLimitCategory, parking_30days.ParkingSpaceCount, parking_30days.DayWeek])\n",
    "parking_occup.show(2)"
   ]
  },
  {
   "cell_type": "code",
   "execution_count": 31,
   "id": "5a25796b",
   "metadata": {},
   "outputs": [
    {
     "data": {
      "text/plain": [
       "Row(location_id='PIK2', location_name_primary='10TH AVE', location_name_secondary='BETWEEN PIKE ST AND PINE ST', BlockfaceName='10TH AVE BETWEEN E PIKE ST AND E PINE ST', PaidOccupancy='5.0', ParkingTimeLimitCategory='120.0', ParkingSpaceCount='9.0', DayWeek='Wednesday')"
      ]
     },
     "execution_count": 31,
     "metadata": {},
     "output_type": "execute_result"
    }
   ],
   "source": [
    "parking_occup.head()"
   ]
  },
  {
   "cell_type": "code",
   "execution_count": 32,
   "id": "2c03a007",
   "metadata": {},
   "outputs": [
    {
     "data": {
      "text/plain": [
       "<bound method DataFrame.first of DataFrame[location_id: string, location_name_primary: string, location_name_secondary: string, BlockfaceName: string, PaidOccupancy: string, ParkingTimeLimitCategory: string, ParkingSpaceCount: string, DayWeek: string]>"
      ]
     },
     "execution_count": 32,
     "metadata": {},
     "output_type": "execute_result"
    }
   ],
   "source": [
    "parking_occup.first"
   ]
  },
  {
   "cell_type": "markdown",
   "id": "7c2f53b9",
   "metadata": {},
   "source": [
    "#### Parking occupancy by location"
   ]
  },
  {
   "cell_type": "code",
   "execution_count": 33,
   "id": "a1b0ae8c",
   "metadata": {},
   "outputs": [],
   "source": [
    "parking_occup_percent = parking_occup.groupby('location_id').agg({\"PaidOccupancy\":\"sum\",  \"ParkingSpaceCount\":\"sum\"})"
   ]
  },
  {
   "cell_type": "code",
   "execution_count": 34,
   "id": "3a59d771",
   "metadata": {},
   "outputs": [
    {
     "name": "stdout",
     "output_type": "stream",
     "text": [
      "+-----------+-----------------+\n",
      "|location_id|parking_occupancy|\n",
      "+-----------+-----------------+\n",
      "|       COL1|             74.7|\n",
      "|       CAP1|             73.1|\n",
      "|       UPT2|             69.9|\n",
      "|       BAL1|             67.8|\n",
      "|       BLT4|             66.6|\n",
      "+-----------+-----------------+\n",
      "only showing top 5 rows\n",
      "\n"
     ]
    }
   ],
   "source": [
    "parking_occup_percent = parking_occup_percent.select('location_id', F.round(F.col('sum(PaidOccupancy)')/F.col('sum(ParkingSpaceCount)')*100, 1).alias('parking_occupancy'))\n",
    "parking_occup_percent.sort(F.col('parking_occupancy').desc()).show(5)"
   ]
  },
  {
   "cell_type": "code",
   "execution_count": 35,
   "id": "c15a4483",
   "metadata": {},
   "outputs": [],
   "source": [
    "parking_occup_percent.write.parquet('spark_results\\parking_occup_location')"
   ]
  },
  {
   "cell_type": "markdown",
   "id": "65ec954b",
   "metadata": {},
   "source": [
    "#### Parking occupancy by day of week"
   ]
  },
  {
   "cell_type": "code",
   "execution_count": 36,
   "id": "40a2c1a9",
   "metadata": {},
   "outputs": [],
   "source": [
    "parking_occup_dayweek = parking_occup.groupby('DayWeek').agg({\"PaidOccupancy\":\"sum\",  \"ParkingSpaceCount\":\"sum\"})"
   ]
  },
  {
   "cell_type": "code",
   "execution_count": 37,
   "id": "cbd8886e",
   "metadata": {},
   "outputs": [
    {
     "name": "stdout",
     "output_type": "stream",
     "text": [
      "+---------+-----------------+\n",
      "|  DayWeek|Parking occupancy|\n",
      "+---------+-----------------+\n",
      "|  Tuesday|             54.1|\n",
      "| Thursday|             53.3|\n",
      "|   Friday|             48.9|\n",
      "| Saturday|             48.9|\n",
      "|Wednesday|             47.6|\n",
      "|   Monday|             43.0|\n",
      "+---------+-----------------+\n",
      "\n"
     ]
    }
   ],
   "source": [
    "parking_occup_dayweek = parking_occup_dayweek.select('DayWeek', F.round(F.col('sum(PaidOccupancy)')/F.col('sum(ParkingSpaceCount)')*100, 1).alias('Parking occupancy'))\n",
    "parking_occup_dayweek.sort(F.col('Parking occupancy').desc()).show()"
   ]
  },
  {
   "cell_type": "code",
   "execution_count": 38,
   "id": "71c56e18",
   "metadata": {},
   "outputs": [],
   "source": [
    "parking_occup_dayweek.write.parquet('spark_results\\parking_occup_dayweek')"
   ]
  },
  {
   "cell_type": "markdown",
   "id": "3149cb46",
   "metadata": {},
   "source": [
    "### Seats occupancy in public places"
   ]
  },
  {
   "cell_type": "code",
   "execution_count": 39,
   "id": "fc083051",
   "metadata": {},
   "outputs": [],
   "source": [
    "# in table about location sum the number of commercial and public seats ad columns for next steps\n",
    "location_seats_sum = public_location.select('location_id', (F.col('location_average_number_commercial_seats')+ F.col('location_average_number_public_seats')).alias('location_total_seats'))\n"
   ]
  },
  {
   "cell_type": "code",
   "execution_count": 40,
   "id": "153a2251",
   "metadata": {},
   "outputs": [
    {
     "name": "stdout",
     "output_type": "stream",
     "text": [
      "+-----------+--------------------+-------------------+------------------+-----------+\n",
      "|location_id|location_total_seats|staying_time_of_day|staying_group_size|day_of_week|\n",
      "+-----------+--------------------+-------------------+------------------+-----------+\n",
      "|       MAP1|                16.0|            Morning|                 3|   Thursday|\n",
      "|       MAP1|                16.0|            Morning|                 3|   Thursday|\n",
      "|       MAP1|                16.0|            Morning|                 3|   Thursday|\n",
      "|       MAP1|                16.0|            Morning|                 1|   Thursday|\n",
      "|       MAP1|                16.0|            Morning|                 2|   Thursday|\n",
      "|       MAP1|                16.0|            Morning|                 2|   Thursday|\n",
      "|       MAP1|                16.0|             Midday|                 1|   Thursday|\n",
      "|       MAP1|                16.0|             Midday|                 1|   Thursday|\n",
      "|       MAP1|                16.0|             Midday|                 2|   Thursday|\n",
      "|       MAP1|                16.0|             Midday|                 2|   Thursday|\n",
      "+-----------+--------------------+-------------------+------------------+-----------+\n",
      "only showing top 10 rows\n",
      "\n"
     ]
    }
   ],
   "source": [
    "#join tables about location and public staying\n",
    "location_staying = location_seats_sum.join(public_staying, on='location_id', how='inner').\\\n",
    "select([location_seats_sum.location_id, location_seats_sum.location_total_seats] + [public_staying.staying_time_of_day, public_staying.staying_group_size,public_staying.day_of_week])\n",
    "location_staying.show(10)"
   ]
  },
  {
   "cell_type": "markdown",
   "id": "3d016abd",
   "metadata": {},
   "source": [
    "#### Seats occupancy by location"
   ]
  },
  {
   "cell_type": "code",
   "execution_count": 41,
   "id": "e5c74eef",
   "metadata": {},
   "outputs": [
    {
     "name": "stdout",
     "output_type": "stream",
     "text": [
      "+-----------+-----------------------+-------------------------+-----------------------------------------------------+\n",
      "|location_id|sum(staying_group_size)|sum(location_total_seats)|(sum(staying_group_size) > sum(location_total_seats))|\n",
      "+-----------+-----------------------+-------------------------+-----------------------------------------------------+\n",
      "|       BAL4|                  272.0|                    512.0|                                                false|\n",
      "|       BAL3|                  791.0|                   7300.0|                                                false|\n",
      "|       FHT1|                  116.0|                      0.0|                                                 true|\n",
      "|       BLT2|                  238.0|                   4485.0|                                                false|\n",
      "|       GPR3|                   26.0|                      0.0|                                                 true|\n",
      "|       COM2|                  388.0|                   1719.0|                                                false|\n",
      "|       UNI3|                  156.0|                    700.0|                                                false|\n",
      "|       RSV2|                    2.0|                      2.0|                                                false|\n",
      "|       SLU1|                   14.0|                      0.0|                                                 true|\n",
      "|       UQA1|                  130.0|                    960.0|                                                false|\n",
      "+-----------+-----------------------+-------------------------+-----------------------------------------------------+\n",
      "only showing top 10 rows\n",
      "\n"
     ]
    }
   ],
   "source": [
    "location_occup = location_staying.groupby(\"location_id\").agg({\"staying_group_size\":\"sum\",\"location_total_seats\":\"sum\"}).select(\"location_id\", F.col('sum(staying_group_size)'), F.col('sum(location_total_seats)'), F.col('sum(staying_group_size)') > F.col('sum(location_total_seats)'))\n",
    "\n",
    "location_occup.show(10)"
   ]
  },
  {
   "cell_type": "markdown",
   "id": "2c2d843f",
   "metadata": {},
   "source": [
    "This calculation shows that in some public places there are not seats but people go shopping, play, smoke, wait for somebody. That is explained by the square of public location that they have many possibilites to spend time."
   ]
  },
  {
   "cell_type": "code",
   "execution_count": 42,
   "id": "b128dc28",
   "metadata": {},
   "outputs": [
    {
     "name": "stdout",
     "output_type": "stream",
     "text": [
      "+-----------+---------------+\n",
      "|location_id|Seats occupancy|\n",
      "+-----------+---------------+\n",
      "|       UNI1|          555.6|\n",
      "|       SOP2|          228.6|\n",
      "|       WAL3|          132.1|\n",
      "|       WAL4|          125.0|\n",
      "|       RAI2|          110.0|\n",
      "|       RSV2|          100.0|\n",
      "|       CID3|           97.8|\n",
      "|       SOP1|           95.7|\n",
      "|       OTH2|           76.5|\n",
      "|       LAK1|           76.1|\n",
      "+-----------+---------------+\n",
      "only showing top 10 rows\n",
      "\n"
     ]
    }
   ],
   "source": [
    "seats_occup_perc = location_occup.select(\"location_id\", F.round(F.col('sum(staying_group_size)')/F.col('sum(location_total_seats)')*100, 1).alias('Seats occupancy'))\n",
    "seats_occup_perc.sort(F.col('Seats occupancy').desc()).show(10)"
   ]
  },
  {
   "cell_type": "code",
   "execution_count": 43,
   "id": "2b56d17f",
   "metadata": {},
   "outputs": [],
   "source": [
    "seats_occup_perc.write.parquet('spark_results\\seats_occup_perc')"
   ]
  },
  {
   "cell_type": "markdown",
   "id": "c8753fab",
   "metadata": {},
   "source": [
    "#### Seats occupancy by day of week"
   ]
  },
  {
   "cell_type": "code",
   "execution_count": 44,
   "id": "f1490308",
   "metadata": {},
   "outputs": [
    {
     "name": "stdout",
     "output_type": "stream",
     "text": [
      "+-----------+-----------------------+-------------------------+-----------------------------------------------------+\n",
      "|day_of_week|sum(staying_group_size)|sum(location_total_seats)|(sum(staying_group_size) > sum(location_total_seats))|\n",
      "+-----------+-----------------------+-------------------------+-----------------------------------------------------+\n",
      "|  Wednesday|                 3080.0|                  14534.0|                                                false|\n",
      "|    Tuesday|                 1711.0|                  15578.0|                                                false|\n",
      "|     Friday|                 2996.0|                  22329.0|                                                false|\n",
      "|   Thursday|                 4065.0|       21512.899999999998|                                                false|\n",
      "|   Saturday|                 3777.0|                  25500.0|                                                false|\n",
      "|     Monday|                  789.0|                   8034.0|                                                false|\n",
      "+-----------+-----------------------+-------------------------+-----------------------------------------------------+\n",
      "\n"
     ]
    }
   ],
   "source": [
    "location_occup_dayweek = location_staying.groupby(\"day_of_week\").agg({\"staying_group_size\":\"sum\",\"location_total_seats\":\"sum\"}).select(\"day_of_week\", F.col('sum(staying_group_size)'), F.col('sum(location_total_seats)'), F.col('sum(staying_group_size)') > F.col('sum(location_total_seats)'))\n",
    "\n",
    "location_occup_dayweek.show()"
   ]
  },
  {
   "cell_type": "code",
   "execution_count": 45,
   "id": "6482190b",
   "metadata": {},
   "outputs": [
    {
     "name": "stdout",
     "output_type": "stream",
     "text": [
      "+-----------+---------------+\n",
      "|day_of_week|Seats occupancy|\n",
      "+-----------+---------------+\n",
      "|  Wednesday|           21.2|\n",
      "|   Thursday|           18.9|\n",
      "|   Saturday|           14.8|\n",
      "|     Friday|           13.4|\n",
      "|    Tuesday|           11.0|\n",
      "|     Monday|            9.8|\n",
      "+-----------+---------------+\n",
      "\n"
     ]
    }
   ],
   "source": [
    "seats_occup_dayweek = location_occup_dayweek.select(\"day_of_week\", F.round(F.col('sum(staying_group_size)')/F.col('sum(location_total_seats)')*100, 1).alias('Seats occupancy'))\n",
    "seats_occup_dayweek.sort(F.col('Seats occupancy').desc()).show()"
   ]
  },
  {
   "cell_type": "code",
   "execution_count": 46,
   "id": "cae820d2",
   "metadata": {},
   "outputs": [],
   "source": [
    "seats_occup_dayweek.write.parquet('spark_results\\seats_occup_dayweek')"
   ]
  },
  {
   "cell_type": "markdown",
   "id": "f3409a5e",
   "metadata": {},
   "source": [
    "#### Seats occupancy by timeslot"
   ]
  },
  {
   "cell_type": "code",
   "execution_count": 47,
   "id": "cb9e9ca2",
   "metadata": {},
   "outputs": [
    {
     "name": "stdout",
     "output_type": "stream",
     "text": [
      "+-------------------+--------------+------------------+--------------+\n",
      "|staying_time_of_day|sum_num_people|         sum_seats|people > seats|\n",
      "+-------------------+--------------+------------------+--------------+\n",
      "|            Evening|        6932.0|45990.899999999994|         false|\n",
      "|            Morning|        2767.0|           16325.0|         false|\n",
      "|      Early Evening|         155.0|            1313.0|         false|\n",
      "|             Midday|        6564.0|           43859.0|         false|\n",
      "+-------------------+--------------+------------------+--------------+\n",
      "\n"
     ]
    }
   ],
   "source": [
    "location_occup_timeslot = location_staying.groupby(\"staying_time_of_day\").agg({\"staying_group_size\":\"sum\",\"location_total_seats\":\"sum\"}).\\\n",
    "select(\"staying_time_of_day\", F.col('sum(staying_group_size)'), F.col('sum(location_total_seats)'),\\\n",
    "(F.col('sum(staying_group_size)') > F.col('sum(location_total_seats)')).alias('people > seats')).\\\n",
    "withColumnRenamed('sum(staying_group_size)', 'sum_num_people').withColumnRenamed('sum(location_total_seats)', 'sum_seats')\n",
    "\n",
    "location_occup_timeslot.show()"
   ]
  },
  {
   "cell_type": "code",
   "execution_count": 48,
   "id": "d25baa80",
   "metadata": {},
   "outputs": [
    {
     "name": "stdout",
     "output_type": "stream",
     "text": [
      "+-------------------+---------------+\n",
      "|staying_time_of_day|Seats occupancy|\n",
      "+-------------------+---------------+\n",
      "|            Morning|           16.9|\n",
      "|            Evening|           15.1|\n",
      "|             Midday|           15.0|\n",
      "|      Early Evening|           11.8|\n",
      "+-------------------+---------------+\n",
      "\n"
     ]
    }
   ],
   "source": [
    "seats_occup_timeslot = location_occup_timeslot.select(\"staying_time_of_day\", F.round(F.col('sum_num_people')/F.col('sum_seats')*100, 1).alias('Seats occupancy'))\n",
    "seats_occup_timeslot.sort(F.col('Seats occupancy').desc()).show()"
   ]
  },
  {
   "cell_type": "code",
   "execution_count": null,
   "id": "fc5b9c73",
   "metadata": {},
   "outputs": [],
   "source": []
  },
  {
   "cell_type": "markdown",
   "id": "4d610be8",
   "metadata": {},
   "source": [
    "#### Seats occupancy by day and timeslot"
   ]
  },
  {
   "cell_type": "code",
   "execution_count": 49,
   "id": "ba3e1e49",
   "metadata": {},
   "outputs": [
    {
     "name": "stdout",
     "output_type": "stream",
     "text": [
      "+-----------+-------------------+-----------------------+-------------------------+-----------------------------------------------------+\n",
      "|day_of_week|staying_time_of_day|sum(staying_group_size)|sum(location_total_seats)|(sum(staying_group_size) > sum(location_total_seats))|\n",
      "+-----------+-------------------+-----------------------+-------------------------+-----------------------------------------------------+\n",
      "|     Monday|             Midday|                  246.0|                   2734.0|                                                false|\n",
      "|   Thursday|             Midday|                 1563.0|                   8120.0|                                                false|\n",
      "|   Thursday|            Evening|                 1609.0|        8474.900000000001|                                                false|\n",
      "|     Friday|            Morning|                  439.0|                   3473.0|                                                false|\n",
      "|  Wednesday|            Morning|                  856.0|                   3155.0|                                                false|\n",
      "+-----------+-------------------+-----------------------+-------------------------+-----------------------------------------------------+\n",
      "only showing top 5 rows\n",
      "\n"
     ]
    }
   ],
   "source": [
    "location_occup_day_timeslot = location_staying.groupby(\"day_of_week\", \"staying_time_of_day\").agg({\"staying_group_size\":\"sum\",\"location_total_seats\":\"sum\"}).select(\"day_of_week\", \"staying_time_of_day\", F.col('sum(staying_group_size)'), F.col('sum(location_total_seats)'), F.col('sum(staying_group_size)') > F.col('sum(location_total_seats)'))\n",
    "\n",
    "location_occup_day_timeslot.show(5)"
   ]
  },
  {
   "cell_type": "code",
   "execution_count": 50,
   "id": "513998e0",
   "metadata": {},
   "outputs": [
    {
     "name": "stdout",
     "output_type": "stream",
     "text": [
      "+-----------+-------------------+---------------+\n",
      "|day_of_week|staying_time_of_day|Seats occupancy|\n",
      "+-----------+-------------------+---------------+\n",
      "|  Wednesday|            Morning|           27.1|\n",
      "|  Wednesday|            Evening|           19.6|\n",
      "|  Wednesday|             Midday|           19.5|\n",
      "|   Thursday|             Midday|           19.2|\n",
      "|   Thursday|            Evening|           19.0|\n",
      "+-----------+-------------------+---------------+\n",
      "only showing top 5 rows\n",
      "\n"
     ]
    }
   ],
   "source": [
    "seats_occup_day_timeslot = location_occup_day_timeslot.select(\"day_of_week\", \"staying_time_of_day\", F.round(F.col('sum(staying_group_size)')/F.col('sum(location_total_seats)')*100, 1).alias('Seats occupancy'))\n",
    "seats_occup_day_timeslot.sort(F.col('Seats occupancy').desc()).show(5)"
   ]
  },
  {
   "cell_type": "code",
   "execution_count": 51,
   "id": "8876e37a",
   "metadata": {},
   "outputs": [],
   "source": [
    "seats_occup_day_timeslot.write.parquet('spark_results\\seats_occup_day_timeslot')"
   ]
  },
  {
   "cell_type": "markdown",
   "id": "aa722b5d",
   "metadata": {},
   "source": [
    "# 3. To compare the parking time limit for paid parking area in public places\n",
    "I will Build a map with public places and time limit for parking \\\n",
    "So make calculations for this goal"
   ]
  },
  {
   "cell_type": "code",
   "execution_count": 52,
   "id": "7fa03c00",
   "metadata": {},
   "outputs": [
    {
     "name": "stdout",
     "output_type": "stream",
     "text": [
      "+-----------+------------------------+\n",
      "|location_id|ParkingTimeLimitCategory|\n",
      "+-----------+------------------------+\n",
      "|       ALK1|                    null|\n",
      "|       BAL1|                   120.0|\n",
      "|       BAL2|                    null|\n",
      "|       BAL4|                   120.0|\n",
      "|       BAL3|                   120.0|\n",
      "+-----------+------------------------+\n",
      "only showing top 5 rows\n",
      "\n"
     ]
    }
   ],
   "source": [
    "location_timelimit = parking_location2.select(\"location_id\", \"ParkingTimeLimitCategory\")\n",
    "location_timelimit.show(5)"
   ]
  },
  {
   "cell_type": "markdown",
   "id": "73122d6b",
   "metadata": {},
   "source": [
    "#### Null means that there are no parking areas in public place!"
   ]
  },
  {
   "cell_type": "code",
   "execution_count": 53,
   "id": "e3e4a310",
   "metadata": {},
   "outputs": [
    {
     "data": {
      "text/plain": [
       "120"
      ]
     },
     "execution_count": 53,
     "metadata": {},
     "output_type": "execute_result"
    }
   ],
   "source": [
    "location_timelimit.count()"
   ]
  },
  {
   "cell_type": "markdown",
   "id": "7d0d7f13",
   "metadata": {},
   "source": [
    "# 4. To visualize the number of paid parking areas by time limit near public places\n",
    "I will build a bar with a number of paid parking areas by time limit.\\\n",
    "So make appropriate calculations"
   ]
  },
  {
   "cell_type": "code",
   "execution_count": 54,
   "id": "9f60a8b5",
   "metadata": {},
   "outputs": [
    {
     "name": "stdout",
     "output_type": "stream",
     "text": [
      "+------------------------+-------------------------------+\n",
      "|ParkingTimeLimitCategory|count(ParkingTimeLimitCategory)|\n",
      "+------------------------+-------------------------------+\n",
      "|                   120.0|                             25|\n",
      "|                    null|                              0|\n",
      "|                   240.0|                              2|\n",
      "|                   600.0|                              2|\n",
      "+------------------------+-------------------------------+\n",
      "\n"
     ]
    }
   ],
   "source": [
    "timelimit_number = parking_location2.groupby('ParkingTimeLimitCategory').agg({'ParkingTimeLimitCategory':'count'})\n",
    "timelimit_number.show()"
   ]
  },
  {
   "cell_type": "code",
   "execution_count": 55,
   "id": "259fe962",
   "metadata": {},
   "outputs": [
    {
     "name": "stdout",
     "output_type": "stream",
     "text": [
      "+------------------------+-------------------------------+\n",
      "|ParkingTimeLimitCategory|count(ParkingTimeLimitCategory)|\n",
      "+------------------------+-------------------------------+\n",
      "|                   120.0|                             25|\n",
      "|                   240.0|                              2|\n",
      "|                   600.0|                              2|\n",
      "+------------------------+-------------------------------+\n",
      "\n"
     ]
    }
   ],
   "source": [
    "timelimit_number = timelimit_number.na.drop()\n",
    "timelimit_number.show()"
   ]
  },
  {
   "cell_type": "code",
   "execution_count": 56,
   "id": "fa2a6585",
   "metadata": {},
   "outputs": [],
   "source": [
    "timelimit_number.write.parquet('spark_results\\TimesLimitsNumbers')"
   ]
  },
  {
   "cell_type": "markdown",
   "id": "dba27f5b",
   "metadata": {},
   "source": [
    "# To 6.\tDescribe in which time (morning, midday or afternoon) there are more men, women or children by age\n",
    "I will calculate build 3 gender bar (morning, midday or afternoon) for visiting public places\\\n",
    "So make appropriate calculations"
   ]
  },
  {
   "cell_type": "code",
   "execution_count": 57,
   "id": "b7972e7f",
   "metadata": {},
   "outputs": [
    {
     "data": {
      "text/plain": [
       "['_c0',\n",
       " 'location_id',\n",
       " 'staying_time_start',\n",
       " 'staying_time_of_day',\n",
       " 'staying_group_size',\n",
       " 'staying_gender',\n",
       " 'staying_age',\n",
       " 'day_of_week']"
      ]
     },
     "execution_count": 57,
     "metadata": {},
     "output_type": "execute_result"
    }
   ],
   "source": [
    "public_staying.columns"
   ]
  },
  {
   "cell_type": "code",
   "execution_count": 58,
   "id": "ac347bbe",
   "metadata": {},
   "outputs": [
    {
     "name": "stdout",
     "output_type": "stream",
     "text": [
      "+--------------+-----+\n",
      "|staying_gender|count|\n",
      "+--------------+-----+\n",
      "|        Female| 4043|\n",
      "|       Unknown|   74|\n",
      "|          Male| 6703|\n",
      "+--------------+-----+\n",
      "\n"
     ]
    }
   ],
   "source": [
    "public_staying_gender = public_staying.groupby(\"staying_gender\").count()\n",
    "public_staying_gender.show()"
   ]
  },
  {
   "cell_type": "code",
   "execution_count": 59,
   "id": "f85c4dd4",
   "metadata": {},
   "outputs": [],
   "source": [
    "public_staying_gender.write.parquet('spark_results\\public_staying_gender')"
   ]
  },
  {
   "cell_type": "code",
   "execution_count": 60,
   "id": "947fea40",
   "metadata": {},
   "outputs": [
    {
     "name": "stdout",
     "output_type": "stream",
     "text": [
      "+-----------+-----+\n",
      "|staying_age|count|\n",
      "+-----------+-----+\n",
      "|        65+|  605|\n",
      "|       5-14|  176|\n",
      "|      45-64| 2859|\n",
      "|      25-64|  416|\n",
      "|      25-44| 5657|\n",
      "|      15-24| 1004|\n",
      "|        0-4|  103|\n",
      "+-----------+-----+\n",
      "\n"
     ]
    }
   ],
   "source": [
    "public_staying_age = public_staying.groupby(\"staying_age\").count()\n",
    "public_staying_age.sort(F.col('staying_age').desc()).show()"
   ]
  },
  {
   "cell_type": "code",
   "execution_count": 61,
   "id": "80e047fc",
   "metadata": {},
   "outputs": [],
   "source": [
    "public_staying_age.write.parquet('spark_results\\public_staying_age')"
   ]
  },
  {
   "cell_type": "code",
   "execution_count": 62,
   "id": "eddd8f4b",
   "metadata": {},
   "outputs": [
    {
     "name": "stdout",
     "output_type": "stream",
     "text": [
      "+-------------------+---------------------+\n",
      "|staying_time_of_day|count(staying_gender)|\n",
      "+-------------------+---------------------+\n",
      "|            Evening|                 4534|\n",
      "|             Midday|                 4192|\n",
      "|            Morning|                 2008|\n",
      "|      Early Evening|                   86|\n",
      "+-------------------+---------------------+\n",
      "\n"
     ]
    }
   ],
   "source": [
    "time_gender = public_staying.groupby('staying_time_of_day').agg({'staying_gender':'count'})\n",
    "time_gender.sort(F.col('count(staying_gender)').desc()).show()"
   ]
  },
  {
   "cell_type": "code",
   "execution_count": 63,
   "id": "b0f89aef",
   "metadata": {},
   "outputs": [],
   "source": [
    "time_gender.write.parquet('spark_results\\TimesGender')"
   ]
  },
  {
   "cell_type": "code",
   "execution_count": 64,
   "id": "e7d9c41c",
   "metadata": {},
   "outputs": [
    {
     "name": "stdout",
     "output_type": "stream",
     "text": [
      "+-------------------+--------------+-----+\n",
      "|staying_time_of_day|staying_gender|count|\n",
      "+-------------------+--------------+-----+\n",
      "|             Midday|          Male| 2587|\n",
      "|            Morning|       Unknown|   14|\n",
      "|      Early Evening|          Male|   51|\n",
      "|            Morning|          Male| 1350|\n",
      "|            Evening|       Unknown|   24|\n",
      "|            Morning|        Female|  644|\n",
      "|             Midday|        Female| 1569|\n",
      "|            Evening|          Male| 2715|\n",
      "|             Midday|       Unknown|   36|\n",
      "|            Evening|        Female| 1795|\n",
      "|      Early Evening|        Female|   35|\n",
      "+-------------------+--------------+-----+\n",
      "\n"
     ]
    }
   ],
   "source": [
    "time_gender2 = public_staying.groupby('staying_time_of_day', 'staying_gender').count()\n",
    "time_gender2.show()"
   ]
  },
  {
   "cell_type": "code",
   "execution_count": 65,
   "id": "fe490d6b",
   "metadata": {},
   "outputs": [],
   "source": [
    "time_gender2.write.parquet('spark_results\\TimesGender2')"
   ]
  },
  {
   "cell_type": "code",
   "execution_count": 66,
   "id": "b232668b",
   "metadata": {},
   "outputs": [
    {
     "name": "stdout",
     "output_type": "stream",
     "text": [
      "+-------------------+-----------+-----+\n",
      "|staying_time_of_day|staying_age|count|\n",
      "+-------------------+-----------+-----+\n",
      "|      Early Evening|      25-64|   84|\n",
      "|            Evening|      45-64| 1162|\n",
      "|            Evening|      15-24|  459|\n",
      "|             Midday|        65+|  283|\n",
      "|             Midday|        0-4|   49|\n",
      "|             Midday|       5-14|   86|\n",
      "|            Evening|      25-64|  208|\n",
      "|             Midday|      45-64| 1072|\n",
      "|            Evening|       5-14|   69|\n",
      "|            Evening|      25-44| 2391|\n",
      "|            Morning|      15-24|  131|\n",
      "|             Midday|      15-24|  413|\n",
      "|            Morning|        0-4|   14|\n",
      "|            Morning|        65+|  116|\n",
      "|            Evening|        65+|  205|\n",
      "|             Midday|      25-44| 2165|\n",
      "|            Morning|      45-64|  625|\n",
      "|            Morning|       5-14|   21|\n",
      "|            Morning|      25-44| 1101|\n",
      "|            Evening|        0-4|   40|\n",
      "+-------------------+-----------+-----+\n",
      "only showing top 20 rows\n",
      "\n"
     ]
    }
   ],
   "source": [
    "time_age = public_staying.groupby('staying_time_of_day', 'staying_age').count()\n",
    "time_age.show()"
   ]
  },
  {
   "cell_type": "code",
   "execution_count": 67,
   "id": "b9f26fa1",
   "metadata": {
    "scrolled": true
   },
   "outputs": [],
   "source": [
    "time_age.write.parquet('spark_results\\TimesAge')"
   ]
  },
  {
   "cell_type": "code",
   "execution_count": null,
   "id": "8dba024d",
   "metadata": {},
   "outputs": [],
   "source": []
  }
 ],
 "metadata": {
  "kernelspec": {
   "display_name": "Python 3",
   "language": "python",
   "name": "python3"
  },
  "language_info": {
   "codemirror_mode": {
    "name": "ipython",
    "version": 3
   },
   "file_extension": ".py",
   "mimetype": "text/x-python",
   "name": "python",
   "nbconvert_exporter": "python",
   "pygments_lexer": "ipython3",
   "version": "3.8.8"
  }
 },
 "nbformat": 4,
 "nbformat_minor": 5
}
